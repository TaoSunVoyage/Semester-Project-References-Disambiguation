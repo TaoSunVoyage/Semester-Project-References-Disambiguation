{
 "cells": [
  {
   "cell_type": "markdown",
   "metadata": {},
   "source": [
    "# Hash Sample\n",
    "\n",
    "This is the notebook of generating the samples of hash matching for annotating."
   ]
  },
  {
   "cell_type": "code",
   "execution_count": 1,
   "metadata": {},
   "outputs": [],
   "source": [
    "import mongoengine\n",
    "from mongoengine import *\n",
    "from mongoengine.queryset.visitor import Q\n",
    "from dbmodels import *\n",
    "from hashfunction import *\n",
    "from readref import *\n",
    "\n",
    "import pandas as pd\n",
    "from bson.objectid import ObjectId\n",
    "import configparser\n",
    "from multiprocessing import Pool\n",
    "import pickle\n",
    "\n",
    "import matplotlib.pyplot as plt\n",
    "%matplotlib inline\n",
    "\n",
    "import seaborn as sns\n",
    "sns.set('notebook')"
   ]
  },
  {
   "cell_type": "code",
   "execution_count": 2,
   "metadata": {},
   "outputs": [],
   "source": [
    "# Read the confidentials.\n",
    "credentials = configparser.ConfigParser()\n",
    "credentials.read('credentials.ini')\n",
    "\n",
    "# Connect to the database.\n",
    "connect(\n",
    "    db = credentials.get('lb', 'db'),\n",
    "    username = credentials.get('lb', 'username'),\n",
    "    password = credentials.get('lb', 'password'),\n",
    "    host = credentials.get('lb', 'host'), \n",
    "    port = int(credentials.get('lb', 'port')), \n",
    ");"
   ]
  },
  {
   "cell_type": "markdown",
   "metadata": {},
   "source": [
    "## Black List\n",
    "\n",
    "Generate the Hash Black list."
   ]
  },
  {
   "cell_type": "code",
   "execution_count": 8,
   "metadata": {
    "scrolled": true
   },
   "outputs": [
    {
     "data": {
      "text/html": [
       "<div>\n",
       "<style scoped>\n",
       "    .dataframe tbody tr th:only-of-type {\n",
       "        vertical-align: middle;\n",
       "    }\n",
       "\n",
       "    .dataframe tbody tr th {\n",
       "        vertical-align: top;\n",
       "    }\n",
       "\n",
       "    .dataframe thead th {\n",
       "        text-align: right;\n",
       "    }\n",
       "</style>\n",
       "<table border=\"1\" class=\"dataframe\">\n",
       "  <thead>\n",
       "    <tr style=\"text-align: right;\">\n",
       "      <th></th>\n",
       "      <th>counts</th>\n",
       "      <th>k_group</th>\n",
       "      <th>h_group</th>\n",
       "      <th>t_group</th>\n",
       "      <th>d_group</th>\n",
       "    </tr>\n",
       "    <tr>\n",
       "      <th>hashtag</th>\n",
       "      <th></th>\n",
       "      <th></th>\n",
       "      <th></th>\n",
       "      <th></th>\n",
       "      <th></th>\n",
       "    </tr>\n",
       "  </thead>\n",
       "  <tbody>\n",
       "    <tr>\n",
       "      <th>repubblica#venezia</th>\n",
       "      <td>6508</td>\n",
       "      <td>6</td>\n",
       "      <td>65</td>\n",
       "      <td>650</td>\n",
       "      <td>6508</td>\n",
       "    </tr>\n",
       "    <tr>\n",
       "      <th>san#marco</th>\n",
       "      <td>4759</td>\n",
       "      <td>4</td>\n",
       "      <td>47</td>\n",
       "      <td>475</td>\n",
       "      <td>4759</td>\n",
       "    </tr>\n",
       "    <tr>\n",
       "      <th>storia#venezia</th>\n",
       "      <td>4671</td>\n",
       "      <td>4</td>\n",
       "      <td>46</td>\n",
       "      <td>467</td>\n",
       "      <td>4671</td>\n",
       "    </tr>\n",
       "    <tr>\n",
       "      <th>atti#convegno</th>\n",
       "      <td>4603</td>\n",
       "      <td>4</td>\n",
       "      <td>46</td>\n",
       "      <td>460</td>\n",
       "      <td>4603</td>\n",
       "    </tr>\n",
       "    <tr>\n",
       "      <th>cura#1985</th>\n",
       "      <td>3684</td>\n",
       "      <td>3</td>\n",
       "      <td>36</td>\n",
       "      <td>368</td>\n",
       "      <td>3684</td>\n",
       "    </tr>\n",
       "  </tbody>\n",
       "</table>\n",
       "</div>"
      ],
      "text/plain": [
       "                    counts  k_group  h_group  t_group  d_group\n",
       "hashtag                                                       \n",
       "repubblica#venezia    6508        6       65      650     6508\n",
       "san#marco             4759        4       47      475     4759\n",
       "storia#venezia        4671        4       46      467     4671\n",
       "atti#convegno         4603        4       46      460     4603\n",
       "cura#1985             3684        3       36      368     3684"
      ]
     },
     "execution_count": 8,
     "metadata": {},
     "output_type": "execute_result"
    }
   ],
   "source": [
    "# read the distribution of all returned references for each hash\n",
    "df_stat = pd.read_pickle('./pickle/hash_stat.pickle')\n",
    "df_stat['k_group'] = df_stat['counts'].apply(lambda x: (x//1000))\n",
    "df_stat['h_group'] = df_stat['counts'].apply(lambda x: (x//100))\n",
    "df_stat['t_group'] = df_stat['counts'].apply(lambda x: (x//10))\n",
    "df_stat['d_group'] = df_stat['counts'].apply(lambda x: (x//1))\n",
    "df_stat.head()"
   ]
  },
  {
   "cell_type": "markdown",
   "metadata": {},
   "source": [
    "Have a look at the hashes with a great many returned references."
   ]
  },
  {
   "cell_type": "code",
   "execution_count": 9,
   "metadata": {},
   "outputs": [
    {
     "data": {
      "text/plain": [
       "array(['archivio#veneto', 'arte#veneta', 'atti#convegno',\n",
       "       'biografico#italiani', 'caduta#repubblica', 'catalogo#mostra',\n",
       "       'citta#nobilissima', 'citta#venezia', 'civilta#veneziana',\n",
       "       'convegno#internazionale', 'cozzi#repubblica#venezia',\n",
       "       'cultura#veneta', 'cura#1956', 'cura#1957', 'cura#1958',\n",
       "       'cura#1959', 'cura#1960', 'cura#1961', 'cura#1962', 'cura#1963',\n",
       "       'cura#1964', 'cura#1965', 'cura#1966', 'cura#1967', 'cura#1968',\n",
       "       'cura#1969', 'cura#1970', 'cura#1971', 'cura#1972', 'cura#1973',\n",
       "       'cura#1974', 'cura#1975', 'cura#1976', 'cura#1977', 'cura#1978',\n",
       "       'cura#1979', 'cura#1980', 'cura#1981', 'cura#1982', 'cura#1983',\n",
       "       'cura#1984', 'cura#1985', 'cura#1986', 'cura#1987', 'cura#1988',\n",
       "       'cura#1989', 'cura#1990', 'cura#1991', 'cura#1992', 'cura#1993',\n",
       "       'cura#1994', 'cura#1995', 'cura#1996', 'cura#1997', 'cura#1998',\n",
       "       'cura#1999', 'cura#2000', 'cura#2001', 'cura#2002', 'cura#2003',\n",
       "       'cura#2004', 'cura#2005', 'cura#2006', 'cura#2007',\n",
       "       'cura#atti#convegno', 'cura#catalogo#mostra',\n",
       "       'cura#storia#venezia', 'dizionario#biografico', 'eta#moderna',\n",
       "       'istituto#veneto', 'laguna#venezia', 'letteratura#italiana',\n",
       "       'lettere#arti', 'middle#ages', 'moyen#age', 'origini#caduta',\n",
       "       'palazzo#ducale', 'paolo#sarpi', 'pittura#veneziana',\n",
       "       'renaissance#venice', 'repubblica#veneta', 'repubblica#venezia',\n",
       "       'san#marco', 'sansovino#citta#nobilissima', 'santa#maria',\n",
       "       'scienze#lettere', 'secoli#xiii', 'secoli#xvi', 'secolo#xvi',\n",
       "       'secolo#xviii', 'sixteenth#century', 'storia#arte',\n",
       "       'storia#cultura', 'storia#documentata', 'storia#economica',\n",
       "       'storia#italia', 'storia#venezia', 'studi#onore', 'studi#storia',\n",
       "       'venetia#citta', 'veneto#scienze', 'venezia#eta',\n",
       "       'venezia#origini', 'venezia#secoli', 'venezia#venezia',\n",
       "       'venezia#vita', 'xvi#secolo', 'xviii#secolo'], dtype=object)"
      ]
     },
     "execution_count": 9,
     "metadata": {},
     "output_type": "execute_result"
    }
   ],
   "source": [
    "hash_1000 = df_stat[df_stat.k_group>0].index.values\n",
    "hash_1000.sort()\n",
    "hash_1000"
   ]
  },
  {
   "cell_type": "code",
   "execution_count": 10,
   "metadata": {
    "scrolled": false
   },
   "outputs": [
    {
     "data": {
      "text/plain": [
       "array(['alto#medioevo', 'ambasciatori#veneti', 'andrea#palladio',\n",
       "       'architettura#scultura', 'archivio#stato', 'archivio#storico',\n",
       "       'arnaldi#cultura#veneta', 'arnaldi#storia#cultura',\n",
       "       'arte#italiana', 'aspetti#problemi', 'ateneo#veneto',\n",
       "       'atti#congresso', 'atti#istituto', 'basilica#san', 'belle#arti',\n",
       "       'beltrami#1955', 'caduta#serenissima', 'canal#grande',\n",
       "       'cenni#storici', 'century#venice', 'cessi#repubblica#venezia',\n",
       "       'chiesa#san', 'chiesa#venezia', 'cinque#seicento',\n",
       "       'comune#venezia', 'concilio#trento', 'convegno#intemazionale',\n",
       "       'convegno#studi', 'corner#1748', 'corner#1749', 'corner#1750',\n",
       "       'cozzi#1981', 'cozzi#1985', 'cozzi#1986', 'cozzi#1993',\n",
       "       'cura#1913', 'cura#1939', 'cura#1941', 'cura#1942', 'cura#1954',\n",
       "       'cura#1955', 'cura#2008', 'cura#2009', 'cura#2010',\n",
       "       'cura#convegno#internazionale', 'cura#cultura#veneta',\n",
       "       'cura#eta#moderna', 'cura#repubblica#venezia',\n",
       "       'cura#storia#cultura', 'cura#venezia#origini',\n",
       "       'curiosita#veneziane', 'daniele#manin', 'dialetto#veneziano',\n",
       "       'diritto#comune', 'documentata#venezia', 'dogi#venezia',\n",
       "       'ducale#venezia', 'early#modem', 'early#modern',\n",
       "       'ecclesiae#venetae', 'economica#venezia', 'economica#veneziana',\n",
       "       'eighteenth#century', 'fifteenth#century', 'fine#secolo',\n",
       "       'fino#secolo', 'giorgio#maggiore', 'giovanni#battista',\n",
       "       'giovanni#paolo', 'giustizia#repubblica', 'hale#1972', 'hale#1973',\n",
       "       'hale#1974', 'hale#renaissance#venice', 'inscrizioni#veneziane',\n",
       "       'internazionale#studi', 'italian#renaissance', 'jacopo#sansovino',\n",
       "       'laguna#veneta', 'letteratura#veneziana', 'luzzatto#1962',\n",
       "       'luzzatto#storia#economica', 'maggior#consiglio', 'marco#polo',\n",
       "       'marco#venezia', 'medio#evo', 'medioevo#eta',\n",
       "       'medioevo#rinascimento', 'memorie#storiche', 'meta#secolo',\n",
       "       'molmenti#storia#venezia', 'molmenti#venezia#vita',\n",
       "       'molmenti#vita#privata', 'museo#civico', 'museo#correr',\n",
       "       'new#york', 'nobilissima#singolare', 'notizie#storiche',\n",
       "       'opere#arte', 'oriente#occidente', 'pastore#cultura#veneta',\n",
       "       'pastore#storia#cultura', 'patriziato#veneziano',\n",
       "       'pittori#scultori', 'renaissance#italy', 'republique#venise',\n",
       "       'rinascimento#venezia', 'romanin#documentata#venezia',\n",
       "       'romanin#storia#documentata', 'san#giorgio', 'san#giovanni',\n",
       "       'sansovino#nobilissima#singolare', 'sansovino#venetia#citta',\n",
       "       'scuola#grande', 'sec#xvi', 'sec#xviii', 'secoli#xii',\n",
       "       'secoli#xiv', 'secoli#xvii', 'secolo#xiv', 'secolo#xvii',\n",
       "       'seconda#meta', 'seventeenth#century', 'societa#giustizia',\n",
       "       'societa#stato', 'societa#veneta', 'stati#italiani',\n",
       "       'stato#societa', 'stato#venezia', 'stato#veneziano',\n",
       "       'stocchi#cultura#veneta', 'stocchi#storia#cultura',\n",
       "       'storia#chiesa', 'storia#civilta', 'storia#diritto',\n",
       "       'storia#letteratura', 'storia#patria', 'storia#repubblica',\n",
       "       'studi#storici', 'studi#veneziani', 'tafuri#1984',\n",
       "       'tenenti#storia#venezia', 'universita#padova',\n",
       "       'venezia#cinquecento', 'venezia#fine', 'venezia#ottocento',\n",
       "       'venezia#rinascimento', 'venezia#roma', 'venezia#secolo',\n",
       "       'venezia#settecento', 'venezia#storia', 'venezia#terraferma',\n",
       "       'veneziana#secolo', 'vita#opere', 'vita#privata', 'xiii#secolo',\n",
       "       'xiii#xiv', 'xix#secolo', 'xve#siecle', 'xvi#xvii', 'xvi#xviii',\n",
       "       'xvie#siecle', 'xvii#secolo', 'xvii#xviii'], dtype=object)"
      ]
     },
     "execution_count": 10,
     "metadata": {},
     "output_type": "execute_result"
    }
   ],
   "source": [
    "hash_500 = df_stat[(df_stat.counts<1000) & (df_stat.h_group>=5)].index.values\n",
    "hash_500.sort()\n",
    "hash_500"
   ]
  },
  {
   "cell_type": "markdown",
   "metadata": {},
   "source": [
    "Remove some hashes because of the error."
   ]
  },
  {
   "cell_type": "code",
   "execution_count": 11,
   "metadata": {},
   "outputs": [],
   "source": [
    "hash_cura = [h for h in df_stat.index.values if h.startswith('cura#')]"
   ]
  },
  {
   "cell_type": "markdown",
   "metadata": {},
   "source": [
    "Add back some white hashes."
   ]
  },
  {
   "cell_type": "code",
   "execution_count": 12,
   "metadata": {},
   "outputs": [],
   "source": [
    "hash_white = ['cozzi#repubblica#venezia', 'sansovino#citta#nobilissima',\n",
    "              'citta#nobilissima', 'beltrami#1955', 'corner#1748', 'corner#1749', 'corner#1750',\n",
    "              'cozzi#1981', 'cozzi#1985', 'cozzi#1986', 'cozzi#1993',\n",
    "              'hale#1972', 'hale#1973', 'hale#1974', 'hale#renaissance#venice',\n",
    "              'luzzatto#1962', 'luzzatto#storia#economica',\n",
    "              'cessi#repubblica#venezia',\n",
    "              'molmenti#storia#venezia', 'molmenti#venezia#vita',\n",
    "              'molmenti#vita#privata',\n",
    "              'pastore#cultura#veneta',\n",
    "              'pastore#storia#cultura',\n",
    "              'romanin#documentata#venezia',\n",
    "              'romanin#storia#documentata',\n",
    "              'sansovino#nobilissima#singolare',\n",
    "              'stocchi#cultura#veneta', 'stocchi#storia#cultura',\n",
    "              'tenenti#storia#venezia']"
   ]
  },
  {
   "cell_type": "markdown",
   "metadata": {},
   "source": [
    "Get the black list."
   ]
  },
  {
   "cell_type": "code",
   "execution_count": 15,
   "metadata": {},
   "outputs": [],
   "source": [
    "hash_black = list(set(hash_1000)|set(hash_500)|set(hash_cura)-set(hash_white))"
   ]
  },
  {
   "cell_type": "code",
   "execution_count": 22,
   "metadata": {},
   "outputs": [],
   "source": [
    "# save\n",
    "s = pd.Series(hash_black)\n",
    "s.to_pickle('hash_black.pickle')"
   ]
  },
  {
   "cell_type": "markdown",
   "metadata": {},
   "source": [
    "## Match\n",
    "\n",
    "Preforming the hash matching"
   ]
  },
  {
   "cell_type": "code",
   "execution_count": 6,
   "metadata": {},
   "outputs": [],
   "source": [
    "hash_black = set(pd.read_pickle('hash_black.pickle').values)"
   ]
  },
  {
   "cell_type": "code",
   "execution_count": 3,
   "metadata": {},
   "outputs": [],
   "source": [
    "s_1 = pd.read_pickle('./pickle/hash_match1.pickle')\n",
    "s_2 = pd.read_pickle('./pickle/hash_match2.pickle')\n",
    "s_3 = pd.read_pickle('./pickle/hash_match3.pickle')\n",
    "s_4 = pd.read_pickle('./pickle/hash_match4.pickle')"
   ]
  },
  {
   "cell_type": "code",
   "execution_count": 4,
   "metadata": {},
   "outputs": [],
   "source": [
    "df_1 = pd.read_pickle(\"./pickle/hash_ref1.pickle\")\n",
    "df_2 = pd.read_pickle(\"./pickle/hash_ref2.pickle\")\n",
    "df_3 = pd.read_pickle(\"./pickle/hash_ref3.pickle\")\n",
    "df_4 = pd.read_pickle(\"./pickle/hash_ref4.pickle\")"
   ]
  },
  {
   "cell_type": "code",
   "execution_count": 7,
   "metadata": {},
   "outputs": [],
   "source": [
    "def find_match(record):\n",
    "    hashes_all = record.hashes\n",
    "    hashes = list(set(hashes_all)-hash_black) # remove hashes in black list\n",
    "    set_result = set()\n",
    "    for s in [s_1, s_2, s_3, s_4]:\n",
    "        r = [r for rs in s.reindex(hashes).dropna().values for r in rs]\n",
    "        r = set(r)\n",
    "        set_result = set_result.union(r) \n",
    "    return list(set_result)"
   ]
  },
  {
   "cell_type": "code",
   "execution_count": 25,
   "metadata": {},
   "outputs": [
    {
     "name": "stdout",
     "output_type": "stream",
     "text": [
      "0\n",
      "store!\n",
      "1\n",
      "store!\n",
      "2\n",
      "store!\n",
      "3\n",
      "store!\n"
     ]
    }
   ],
   "source": [
    "for i, df in enumerate([df_1, df_2, df_3, df_4]):\n",
    "    print(i)\n",
    "    df['match'] = df.apply(find_match, axis=1)\n",
    "    print('store!')\n",
    "    df.to_pickle('./pickle/hash_ref{}.pickle'.format(i+1))"
   ]
  },
  {
   "cell_type": "code",
   "execution_count": 94,
   "metadata": {},
   "outputs": [],
   "source": [
    "df_all = pd.concat([df_1, df_2, df_3, df_4])"
   ]
  },
  {
   "cell_type": "code",
   "execution_count": 96,
   "metadata": {},
   "outputs": [],
   "source": [
    "df_all = df_all[['ref_id','doc_id', 'surface']]"
   ]
  },
  {
   "cell_type": "code",
   "execution_count": 98,
   "metadata": {},
   "outputs": [],
   "source": [
    "df_all.to_pickle('./pickle/ref_doc_surface.pickle')"
   ]
  },
  {
   "cell_type": "code",
   "execution_count": 100,
   "metadata": {},
   "outputs": [],
   "source": [
    "df_all = df_all.set_index('ref_id')"
   ]
  },
  {
   "cell_type": "markdown",
   "metadata": {},
   "source": [
    "Remove the references that are in the same document."
   ]
  },
  {
   "cell_type": "code",
   "execution_count": 124,
   "metadata": {},
   "outputs": [],
   "source": [
    "def remove_same_doc(record):\n",
    "    match = record.match\n",
    "    doc_id = record.doc_id\n",
    "    ref_same_doc = df_all[df_all.doc_id==doc_id].index.values\n",
    "    return list(set(match)-set(ref_same_doc))"
   ]
  },
  {
   "cell_type": "code",
   "execution_count": null,
   "metadata": {
    "scrolled": true
   },
   "outputs": [],
   "source": [
    "for i, df in enumerate([df_2, df_3, df_4]):\n",
    "    print(i)\n",
    "    df['new_match'] = df.apply(remove_same_doc, axis=1)\n",
    "    df.drop(columns='match', inplace=True)\n",
    "    print('store!')\n",
    "    df.to_pickle('./pickle/hash_ref{}.pickle'.format(i+2))"
   ]
  },
  {
   "cell_type": "markdown",
   "metadata": {},
   "source": [
    "## Match Stat\n",
    "\n",
    "Analyzing the mathcing results"
   ]
  },
  {
   "cell_type": "code",
   "execution_count": 7,
   "metadata": {},
   "outputs": [],
   "source": [
    "def number_level(n):\n",
    "    if n//1000>0:\n",
    "        return '1000+'\n",
    "    if n//500>0:\n",
    "        return '500+'\n",
    "    if n//200>0:\n",
    "        return '200+'\n",
    "    if n//100>0:\n",
    "        return '100+'\n",
    "    if n//50>0:\n",
    "        return '50+'\n",
    "    if n//20>0:\n",
    "        return '20+'\n",
    "    if n//10>0:\n",
    "        return '10+'\n",
    "    if n==1:\n",
    "        return '1'\n",
    "    if n==0:\n",
    "        return '0'\n",
    "    return '1+'"
   ]
  },
  {
   "cell_type": "code",
   "execution_count": 8,
   "metadata": {},
   "outputs": [],
   "source": [
    "level = ['1000+', '500+', '200+', '100+', '50+', '20+', '10+', '1+', '1', '0']"
   ]
  },
  {
   "cell_type": "markdown",
   "metadata": {},
   "source": [
    "**After removing refs in the same document**"
   ]
  },
  {
   "cell_type": "code",
   "execution_count": 5,
   "metadata": {},
   "outputs": [],
   "source": [
    "df_1 = pd.read_pickle(\"./pickle/hash_ref1.pickle\")"
   ]
  },
  {
   "cell_type": "code",
   "execution_count": 9,
   "metadata": {},
   "outputs": [
    {
     "data": {
      "text/plain": [
       "count    117029.000000\n",
       "mean        187.172820\n",
       "std         247.739911\n",
       "min           0.000000\n",
       "25%          16.000000\n",
       "50%          83.000000\n",
       "75%         279.000000\n",
       "max        3799.000000\n",
       "Name: len, dtype: float64"
      ]
     },
     "execution_count": 9,
     "metadata": {},
     "output_type": "execute_result"
    }
   ],
   "source": [
    "df_1['len'] = df_1['new_match'].apply(len)\n",
    "\n",
    "df_1['len'].describe()"
   ]
  },
  {
   "cell_type": "code",
   "execution_count": 10,
   "metadata": {},
   "outputs": [
    {
     "data": {
      "text/plain": [
       "1000+     1620\n",
       "500+     10978\n",
       "200+     24922\n",
       "100+     16828\n",
       "50+      14399\n",
       "20+      15922\n",
       "10+       9205\n",
       "1+       13680\n",
       "1         3359\n",
       "0         6116\n",
       "Name: len, dtype: int64"
      ]
     },
     "execution_count": 10,
     "metadata": {},
     "output_type": "execute_result"
    }
   ],
   "source": [
    "df_1['len'].apply(number_level).value_counts()[level]"
   ]
  },
  {
   "cell_type": "code",
   "execution_count": 15,
   "metadata": {},
   "outputs": [
    {
     "data": {
      "text/plain": [
       "1634"
      ]
     },
     "execution_count": 15,
     "metadata": {},
     "output_type": "execute_result"
    }
   ],
   "source": [
    "len(df_1['len'].value_counts())"
   ]
  },
  {
   "cell_type": "code",
   "execution_count": 36,
   "metadata": {},
   "outputs": [
    {
     "data": {
      "text/plain": [
       "495339"
      ]
     },
     "execution_count": 36,
     "metadata": {},
     "output_type": "execute_result"
    }
   ],
   "source": [
    "len(df_1)+len(df_2)+len(df_3)+len(df_4)"
   ]
  },
  {
   "cell_type": "code",
   "execution_count": 34,
   "metadata": {},
   "outputs": [
    {
     "name": "stderr",
     "output_type": "stream",
     "text": [
      "Exception ignored in: 'zmq.backend.cython.message.Frame.__dealloc__'\n",
      "Traceback (most recent call last):\n",
      "  File \"zmq/backend/cython/checkrc.pxd\", line 12, in zmq.backend.cython.checkrc._check_rc (zmq/backend/cython/message.c:4294)\n",
      "KeyboardInterrupt\n"
     ]
    },
    {
     "data": {
      "image/png": "[encoded data removed]",
      "text/plain": [
       "<Figure size 720x576 with 1 Axes>"
      ]
     },
     "metadata": {},
     "output_type": "display_data"
    }
   ],
   "source": [
    "plt.figure(figsize=(10,8))\n",
    "df_1['len'].plot('hist', bins=100, logy=True)\n",
    "plt.xticks(fontsize=12)\n",
    "plt.yticks(fontsize=12)\n",
    "plt.xlabel('Number of Returns', fontsize=15)\n",
    "plt.ylabel('Number of References', fontsize=15)\n",
    "# plt.savefig('./fig/match_distribution.png');"
   ]
  },
  {
   "cell_type": "code",
   "execution_count": 37,
   "metadata": {},
   "outputs": [
    {
     "data": {
      "image/png": "[encoded data removed]",
      "text/plain": [
       "<Figure size 720x576 with 1 Axes>"
      ]
     },
     "metadata": {},
     "output_type": "display_data"
    }
   ],
   "source": [
    "plt.figure(figsize=(10,8))\n",
    "df_1[df_1['len']<=1000]['len'].plot('hist', bins=100, logy=True)\n",
    "plt.xticks(fontsize=10)\n",
    "plt.yticks(fontsize=10)\n",
    "plt.xlabel('Number of Returns', fontsize=15)\n",
    "plt.ylabel('Number of References', fontsize=15)\n",
    "# plt.savefig('./fig/match_distribution.png');"
   ]
  },
  {
   "cell_type": "markdown",
   "metadata": {},
   "source": [
    "**Note:** Below is results before removing refs in the same document:"
   ]
  },
  {
   "cell_type": "code",
   "execution_count": 29,
   "metadata": {},
   "outputs": [
    {
     "data": {
      "text/plain": [
       "count    117029.000000\n",
       "mean        190.157824\n",
       "std         248.925953\n",
       "min           1.000000\n",
       "25%          18.000000\n",
       "50%          86.000000\n",
       "75%         283.000000\n",
       "max        3822.000000\n",
       "Name: len, dtype: float64"
      ]
     },
     "execution_count": 29,
     "metadata": {},
     "output_type": "execute_result"
    }
   ],
   "source": [
    "df_1['len'] = df_1['match'].apply(len)\n",
    "\n",
    "df_1['len'].describe()"
   ]
  },
  {
   "cell_type": "code",
   "execution_count": 41,
   "metadata": {},
   "outputs": [
    {
     "data": {
      "text/plain": [
       "1000+     1656\n",
       "500+     11230\n",
       "200+     25050\n",
       "100+     17110\n",
       "50+      14820\n",
       "20+      16448\n",
       "10+       9814\n",
       "1+       15877\n",
       "1         5024\n",
       "Name: len, dtype: int64"
      ]
     },
     "execution_count": 41,
     "metadata": {},
     "output_type": "execute_result"
    }
   ],
   "source": [
    "s_1 = df_1['len'].apply(number_level).value_counts()[level]\n",
    "s_1"
   ]
  },
  {
   "cell_type": "code",
   "execution_count": 30,
   "metadata": {},
   "outputs": [
    {
     "data": {
      "text/plain": [
       "count    130925.000000\n",
       "mean        233.295482\n",
       "std         280.996598\n",
       "min           0.000000\n",
       "25%          29.000000\n",
       "50%         125.000000\n",
       "75%         356.000000\n",
       "max        4760.000000\n",
       "Name: len, dtype: float64"
      ]
     },
     "execution_count": 30,
     "metadata": {},
     "output_type": "execute_result"
    }
   ],
   "source": [
    "df_2['len'] = df_2['match'].apply(len)\n",
    "\n",
    "df_2['len'].describe()"
   ]
  },
  {
   "cell_type": "code",
   "execution_count": 42,
   "metadata": {},
   "outputs": [
    {
     "data": {
      "text/plain": [
       "1000+     2962\n",
       "500+     16209\n",
       "200+     32586\n",
       "100+     20053\n",
       "50+      16282\n",
       "20+      16734\n",
       "10+       9403\n",
       "1+       13427\n",
       "1         3269\n",
       "Name: len, dtype: int64"
      ]
     },
     "execution_count": 42,
     "metadata": {},
     "output_type": "execute_result"
    }
   ],
   "source": [
    "s_2 = df_2['len'].apply(number_level).value_counts()[level]\n",
    "s_2"
   ]
  },
  {
   "cell_type": "code",
   "execution_count": 31,
   "metadata": {},
   "outputs": [
    {
     "data": {
      "text/plain": [
       "count    130800.000000\n",
       "mean        244.277034\n",
       "std         294.559303\n",
       "min           0.000000\n",
       "25%          33.000000\n",
       "50%         135.000000\n",
       "75%         368.000000\n",
       "max       10768.000000\n",
       "Name: len, dtype: float64"
      ]
     },
     "execution_count": 31,
     "metadata": {},
     "output_type": "execute_result"
    }
   ],
   "source": [
    "df_3['len'] = df_3['match'].apply(len)\n",
    "\n",
    "df_3['len'].describe()"
   ]
  },
  {
   "cell_type": "code",
   "execution_count": 43,
   "metadata": {},
   "outputs": [
    {
     "data": {
      "text/plain": [
       "1000+     3334\n",
       "500+     17198\n",
       "200+     32956\n",
       "100+     20205\n",
       "50+      16218\n",
       "20+      16662\n",
       "10+       9111\n",
       "1+       12337\n",
       "1         2779\n",
       "Name: len, dtype: int64"
      ]
     },
     "execution_count": 43,
     "metadata": {},
     "output_type": "execute_result"
    }
   ],
   "source": [
    "s_3 = df_3['len'].apply(number_level).value_counts()[level]\n",
    "s_3"
   ]
  },
  {
   "cell_type": "code",
   "execution_count": 32,
   "metadata": {},
   "outputs": [
    {
     "data": {
      "text/plain": [
       "count    116585.000000\n",
       "mean        226.718214\n",
       "std         279.203267\n",
       "min           1.000000\n",
       "25%          27.000000\n",
       "50%         119.000000\n",
       "75%         342.000000\n",
       "max        5455.000000\n",
       "Name: len, dtype: float64"
      ]
     },
     "execution_count": 32,
     "metadata": {},
     "output_type": "execute_result"
    }
   ],
   "source": [
    "df_4['len'] = df_4['match'].apply(len)\n",
    "\n",
    "df_4['len'].describe()"
   ]
  },
  {
   "cell_type": "code",
   "execution_count": 44,
   "metadata": {},
   "outputs": [
    {
     "data": {
      "text/plain": [
       "1000+     2516\n",
       "500+     13847\n",
       "200+     28245\n",
       "100+     17886\n",
       "50+      14720\n",
       "20+      14951\n",
       "10+       8465\n",
       "1+       12781\n",
       "1         3174\n",
       "Name: len, dtype: int64"
      ]
     },
     "execution_count": 44,
     "metadata": {},
     "output_type": "execute_result"
    }
   ],
   "source": [
    "s_4 = df_4['len'].apply(number_level).value_counts()[level]\n",
    "s_4"
   ]
  },
  {
   "cell_type": "code",
   "execution_count": 45,
   "metadata": {
    "scrolled": true
   },
   "outputs": [
    {
     "data": {
      "text/plain": [
       "1000+     10468\n",
       "500+      58484\n",
       "200+     118837\n",
       "100+      75254\n",
       "50+       62040\n",
       "20+       64795\n",
       "10+       36793\n",
       "1+        54422\n",
       "1         14246\n",
       "Name: len, dtype: int64"
      ]
     },
     "execution_count": 45,
     "metadata": {},
     "output_type": "execute_result"
    }
   ],
   "source": [
    "s_1 + s_2 + s_3 + s_4"
   ]
  },
  {
   "cell_type": "markdown",
   "metadata": {},
   "source": [
    "## Select Seed Refs"
   ]
  },
  {
   "cell_type": "code",
   "execution_count": 154,
   "metadata": {},
   "outputs": [],
   "source": [
    "def repr_return(doc_id):\n",
    "    if doc_id==0: return 0\n",
    "    a = Article.objects(id=doc_id).first()\n",
    "    if a != None: return repr(a)\n",
    "    b = Book.objects(id=doc_id).first()\n",
    "    if b != None: return repr(b)\n",
    "    return 0"
   ]
  },
  {
   "cell_type": "code",
   "execution_count": 84,
   "metadata": {
    "scrolled": true
   },
   "outputs": [
    {
     "data": {
      "text/plain": [
       "'<Article: \"La facciata dell\\'Ateneo e una opera ritrovata di Andrea dell\\'Aquila\" in \"Ateneo veneto\", 137(None) 1953, internal_id=RAV0164473:1953_137:8>'"
      ]
     },
     "execution_count": 84,
     "metadata": {},
     "output_type": "execute_result"
    }
   ],
   "source": [
    "repr(repr_return(df_0.loc[27].doc_id))"
   ]
  },
  {
   "cell_type": "markdown",
   "metadata": {},
   "source": [
    "### Zero match"
   ]
  },
  {
   "cell_type": "code",
   "execution_count": 111,
   "metadata": {},
   "outputs": [],
   "source": [
    "# With zero match in other documents\n",
    "df_0 = df_1[df_1.len==0][['doc_id', 'ref_id', 'surface']]"
   ]
  },
  {
   "cell_type": "code",
   "execution_count": 329,
   "metadata": {},
   "outputs": [
    {
     "data": {
      "text/html": [
       "<div>\n",
       "<style scoped>\n",
       "    .dataframe tbody tr th:only-of-type {\n",
       "        vertical-align: middle;\n",
       "    }\n",
       "\n",
       "    .dataframe tbody tr th {\n",
       "        vertical-align: top;\n",
       "    }\n",
       "\n",
       "    .dataframe thead tr th {\n",
       "        text-align: left;\n",
       "    }\n",
       "</style>\n",
       "<table border=\"1\" class=\"dataframe\">\n",
       "  <thead>\n",
       "    <tr>\n",
       "      <th></th>\n",
       "      <th>seed_doc_id</th>\n",
       "      <th>seed_doc</th>\n",
       "      <th>seed_ref_id</th>\n",
       "      <th>seed_ref</th>\n",
       "      <th>doc_id</th>\n",
       "      <th>doc</th>\n",
       "      <th>ref_id</th>\n",
       "      <th>ref</th>\n",
       "    </tr>\n",
       "  </thead>\n",
       "  <tbody>\n",
       "    <tr>\n",
       "      <th>0</th>\n",
       "      <td>595f9d6cfe7683316b2dce91</td>\n",
       "      <td>&lt;Article: \"Giacomo Casanova e Merlin Cocai Con...</td>\n",
       "      <td>58e4ce01fe7683152b57fcba</td>\n",
       "      <td>Ricci, Figure e figuri del mondo teatrale, Mil...</td>\n",
       "      <td>None</td>\n",
       "      <td>None</td>\n",
       "      <td>None</td>\n",
       "      <td>None</td>\n",
       "    </tr>\n",
       "    <tr>\n",
       "      <th>1</th>\n",
       "      <td>595f9d2ffe7683316b2dc622</td>\n",
       "      <td>&lt;Book: Navis : l'umanesimo sul mare, 1470-1740...</td>\n",
       "      <td>5919e9663dde944752f57161</td>\n",
       "      <td>Da E. Dummer, A Voyage into the Mediterranean ...</td>\n",
       "      <td>None</td>\n",
       "      <td>None</td>\n",
       "      <td>None</td>\n",
       "      <td>None</td>\n",
       "    </tr>\n",
       "    <tr>\n",
       "      <th>2</th>\n",
       "      <td>595fa072fe7683316b2de8ba</td>\n",
       "      <td>&lt;Article: \" Les marchands vénitiens à Constant...</td>\n",
       "      <td>58e4ce02fe7683152b5a958b</td>\n",
       "      <td>Sacerdoti, Bembo, Marco, dans Dizionario Biogr...</td>\n",
       "      <td>None</td>\n",
       "      <td>None</td>\n",
       "      <td>None</td>\n",
       "      <td>None</td>\n",
       "    </tr>\n",
       "    <tr>\n",
       "      <th>3</th>\n",
       "      <td>595f9d35fe7683316b2dc662</td>\n",
       "      <td>&lt;Book: Daniele Manin e la rivoluzione venezian...</td>\n",
       "      <td>5919e96d3dde944752f745be</td>\n",
       "      <td>G. p. gooch (a cura di), Later Correspondence ...</td>\n",
       "      <td>None</td>\n",
       "      <td>None</td>\n",
       "      <td>None</td>\n",
       "      <td>None</td>\n",
       "    </tr>\n",
       "    <tr>\n",
       "      <th>4</th>\n",
       "      <td>59600cb6fe768357a5f6c02b</td>\n",
       "      <td>&lt;Book: Il Veneto nell'Alto Medioevo,  Libreria...</td>\n",
       "      <td>59de7a1f48e232540c5b79b9</td>\n",
       "      <td>Bettolini, Roma di fronte a Bisanzio e i Longo...</td>\n",
       "      <td>None</td>\n",
       "      <td>None</td>\n",
       "      <td>None</td>\n",
       "      <td>None</td>\n",
       "    </tr>\n",
       "    <tr>\n",
       "      <th>5</th>\n",
       "      <td>595f9d33fe7683316b2dc651</td>\n",
       "      <td>&lt;Book: L'Austria a Venezia : società e istituz...</td>\n",
       "      <td>5919e9663dde944752f58fb4</td>\n",
       "      <td>L. Carrer, Pagani Cesa, Giuseppe Urbano, Biogr...</td>\n",
       "      <td>None</td>\n",
       "      <td>None</td>\n",
       "      <td>None</td>\n",
       "      <td>None</td>\n",
       "    </tr>\n",
       "    <tr>\n",
       "      <th>6</th>\n",
       "      <td>595f9d2bfe7683316b2dc5f7</td>\n",
       "      <td>&lt;Book: Venezia e la Spagna,  Banca cattolica d...</td>\n",
       "      <td>5919e9663dde944752f4fcb3</td>\n",
       "      <td>J.A. Ceán Bermúdez, Diccionario histórico Je l...</td>\n",
       "      <td>None</td>\n",
       "      <td>None</td>\n",
       "      <td>None</td>\n",
       "      <td>None</td>\n",
       "    </tr>\n",
       "    <tr>\n",
       "      <th>7</th>\n",
       "      <td>59dc7571fe76834059d445dd</td>\n",
       "      <td>&lt;Book: La comunità ebraica di Venezia e il suo...</td>\n",
       "      <td>59de7a1f48e232540c5bfc04</td>\n",
       "      <td>Viterbo Ariel, v. Leone Da Modena, Vita dijehu...</td>\n",
       "      <td>None</td>\n",
       "      <td>None</td>\n",
       "      <td>None</td>\n",
       "      <td>None</td>\n",
       "    </tr>\n",
       "    <tr>\n",
       "      <th>8</th>\n",
       "      <td>595f9d53fe7683316b2dca31</td>\n",
       "      <td>&lt;Article: \"La biblioteca di Gerolamo Filago\" i...</td>\n",
       "      <td>58e4ce00fe7683152b56f0cc</td>\n",
       "      <td>L. Gelasino de Fiesoli, Capitolo del gioco del...</td>\n",
       "      <td>None</td>\n",
       "      <td>None</td>\n",
       "      <td>None</td>\n",
       "      <td>None</td>\n",
       "    </tr>\n",
       "    <tr>\n",
       "      <th>9</th>\n",
       "      <td>595fa06cfe7683316b2de782</td>\n",
       "      <td>&lt;Article: \"Il ‘clan’ dei Foscari. Politica mat...</td>\n",
       "      <td>58e4ce01fe7683152b59ce76</td>\n",
       "      <td>G. Zoccoletto, La contea dei Foscari a Zelarin...</td>\n",
       "      <td>None</td>\n",
       "      <td>None</td>\n",
       "      <td>None</td>\n",
       "      <td>None</td>\n",
       "    </tr>\n",
       "  </tbody>\n",
       "</table>\n",
       "</div>"
      ],
      "text/plain": [
       "                seed_doc_id  \\\n",
       "0  595f9d6cfe7683316b2dce91   \n",
       "1  595f9d2ffe7683316b2dc622   \n",
       "2  595fa072fe7683316b2de8ba   \n",
       "3  595f9d35fe7683316b2dc662   \n",
       "4  59600cb6fe768357a5f6c02b   \n",
       "5  595f9d33fe7683316b2dc651   \n",
       "6  595f9d2bfe7683316b2dc5f7   \n",
       "7  59dc7571fe76834059d445dd   \n",
       "8  595f9d53fe7683316b2dca31   \n",
       "9  595fa06cfe7683316b2de782   \n",
       "\n",
       "                                            seed_doc  \\\n",
       "0  <Article: \"Giacomo Casanova e Merlin Cocai Con...   \n",
       "1  <Book: Navis : l'umanesimo sul mare, 1470-1740...   \n",
       "2  <Article: \" Les marchands vénitiens à Constant...   \n",
       "3  <Book: Daniele Manin e la rivoluzione venezian...   \n",
       "4  <Book: Il Veneto nell'Alto Medioevo,  Libreria...   \n",
       "5  <Book: L'Austria a Venezia : società e istituz...   \n",
       "6  <Book: Venezia e la Spagna,  Banca cattolica d...   \n",
       "7  <Book: La comunità ebraica di Venezia e il suo...   \n",
       "8  <Article: \"La biblioteca di Gerolamo Filago\" i...   \n",
       "9  <Article: \"Il ‘clan’ dei Foscari. Politica mat...   \n",
       "\n",
       "                seed_ref_id  \\\n",
       "0  58e4ce01fe7683152b57fcba   \n",
       "1  5919e9663dde944752f57161   \n",
       "2  58e4ce02fe7683152b5a958b   \n",
       "3  5919e96d3dde944752f745be   \n",
       "4  59de7a1f48e232540c5b79b9   \n",
       "5  5919e9663dde944752f58fb4   \n",
       "6  5919e9663dde944752f4fcb3   \n",
       "7  59de7a1f48e232540c5bfc04   \n",
       "8  58e4ce00fe7683152b56f0cc   \n",
       "9  58e4ce01fe7683152b59ce76   \n",
       "\n",
       "                                            seed_ref doc_id   doc ref_id   ref  \n",
       "0  Ricci, Figure e figuri del mondo teatrale, Mil...   None  None   None  None  \n",
       "1  Da E. Dummer, A Voyage into the Mediterranean ...   None  None   None  None  \n",
       "2  Sacerdoti, Bembo, Marco, dans Dizionario Biogr...   None  None   None  None  \n",
       "3  G. p. gooch (a cura di), Later Correspondence ...   None  None   None  None  \n",
       "4  Bettolini, Roma di fronte a Bisanzio e i Longo...   None  None   None  None  \n",
       "5  L. Carrer, Pagani Cesa, Giuseppe Urbano, Biogr...   None  None   None  None  \n",
       "6  J.A. Ceán Bermúdez, Diccionario histórico Je l...   None  None   None  None  \n",
       "7  Viterbo Ariel, v. Leone Da Modena, Vita dijehu...   None  None   None  None  \n",
       "8  L. Gelasino de Fiesoli, Capitolo del gioco del...   None  None   None  None  \n",
       "9  G. Zoccoletto, La contea dei Foscari a Zelarin...   None  None   None  None  "
      ]
     },
     "execution_count": 329,
     "metadata": {},
     "output_type": "execute_result"
    }
   ],
   "source": [
    "df_0_sample = df_0.loc[[24220, 74948, 51340, 91746, 96647, 76131, 71035, 100418, 13564, 43012]]\n",
    "df_0_sample['doc_repr'] = df_0_sample['doc_id'].apply(repr_return)\n",
    "df_0_sample = df_0_sample.set_index('ref_id')\n",
    "df_0_sample = df_0_sample.reset_index()\n",
    "df_0_sample = df_0_sample[['doc_id','doc_repr','ref_id','surface']]\n",
    "df_0_sample.columns = [['seed_doc_id', 'seed_doc', 'seed_ref_id', 'seed_ref']]\n",
    "df_0_sample['doc_id'] = None\n",
    "df_0_sample['doc'] = None\n",
    "df_0_sample['ref_id'] = None\n",
    "df_0_sample['ref'] = None\n",
    "df_0_sample"
   ]
  },
  {
   "cell_type": "code",
   "execution_count": 330,
   "metadata": {},
   "outputs": [],
   "source": [
    "df_0_sample.to_csv('./csv/0.csv', index=False)"
   ]
  },
  {
   "cell_type": "markdown",
   "metadata": {},
   "source": [
    "---"
   ]
  },
  {
   "cell_type": "code",
   "execution_count": 141,
   "metadata": {},
   "outputs": [],
   "source": [
    "df_all = pd.read_pickle('./pickle/ref_doc_surface.pickle')\n",
    "df_all.set_index('ref_id', inplace=True) "
   ]
  },
  {
   "cell_type": "code",
   "execution_count": 155,
   "metadata": {},
   "outputs": [],
   "source": [
    "def generate_scv(df):\n",
    "    for r in df.iterrows():\n",
    "        record = r[1]\n",
    "        # Information about seed\n",
    "        seed_doc_id = record['doc_id']\n",
    "        seed_doc = repr_return(seed_doc_id)\n",
    "        seed_ref_id = record['ref_id']\n",
    "        seed_ref = record['surface']\n",
    "        # Match information\n",
    "        match = record['new_match']\n",
    "        d_list = []\n",
    "        for m in match:\n",
    "            ref_id = m\n",
    "            ref = df_all.loc[m].surface\n",
    "            doc_id = df_all.loc[m].doc_id\n",
    "            doc = repr_return(doc_id)\n",
    "            d = {\n",
    "                'seed_doc_id': seed_doc_id,\n",
    "                'seed_doc': seed_doc,\n",
    "                'seed_ref_id': seed_ref_id,\n",
    "                'seed_ref': seed_ref,\n",
    "                'doc_id': doc_id,\n",
    "                'doc': doc,\n",
    "                'ref_id': ref_id,\n",
    "                'ref': ref,\n",
    "                'True': 0,\n",
    "                'Hash': 1\n",
    "            }\n",
    "            d_list.append(d)\n",
    "        df_r = pd.DataFrame.from_records(d_list)\n",
    "        df_r = df_r[['seed_doc_id', 'seed_doc', 'seed_ref_id', 'seed_ref',\n",
    "                     'doc_id', 'doc', 'ref_id', 'ref', 'True', 'Hash']]\n",
    "        df_r.to_csv('./csv/{}_{}.csv'.format(record['len'], seed_ref_id), index=False)"
   ]
  },
  {
   "cell_type": "markdown",
   "metadata": {},
   "source": [
    "### 1-10 match"
   ]
  },
  {
   "cell_type": "code",
   "execution_count": 306,
   "metadata": {},
   "outputs": [],
   "source": [
    "df_10 = df_1[(df_1.len>0) & (df_1.len<10)]"
   ]
  },
  {
   "cell_type": "code",
   "execution_count": 308,
   "metadata": {},
   "outputs": [],
   "source": [
    "index = [74727, 16720, 12544, 30713, 87072, 77051, 61584, 27682, 20104, 837]\n",
    "df_10_sample = df_10.loc[index]"
   ]
  },
  {
   "cell_type": "code",
   "execution_count": 309,
   "metadata": {},
   "outputs": [
    {
     "data": {
      "text/plain": [
       "array([\"L. Guerci, Libertà degli antichi e libertà dei moderni. Sparta, Atene e i « philosophes » nella Francia del '700, Napoli,\\xa0Guida, 1979.\",\n",
       "       'M.G. MaiORINI, La Reggenza Borbonica (1759-1767), Napoli, 1991.',\n",
       "       'L. Pupp ATI, Elogio a Francesco Trevisan, Padova 1850, pp. 13-15;',\n",
       "       'J. Rousseau, L’Emile ou de l’éducation, II, Amsterdam 1762, pp. 167-168.',\n",
       "       'D.\\xa0Bellegarde, Histoire du peuple haitien, Losanna, 1954.',\n",
       "       'V. Giuliani, Un tesoro nascosto ossia diario, a cura di P. Pizzicarla, I-III,\\xa0Prato 1899.',\n",
       "       'M. Valerii Probi in Virgilii Bucolica et Georgica Commentarius. Accedunt Scho- liorum Veronensium, et Aspri quaestionum Virgilianarum fragmen- ta, Halis , 1848,',\n",
       "       'P. Tudebode, Historia de Hierosolymitano itinere, J.H. Hill and L.L. Hill, eds., Paris 1977, p. 131',\n",
       "       'A. Catalano, Linee del sistema sovrannazìonale romano, I, Torino 1965, pp. 270-288;',\n",
       "       \"R. Paulson, Hogarth's Graphic Works: First Com- plete Edition, I, New Haven, 1965, pp. 182-183.\"],\n",
       "      dtype=object)"
      ]
     },
     "execution_count": 309,
     "metadata": {},
     "output_type": "execute_result"
    }
   ],
   "source": [
    "df_10_sample.surface.values"
   ]
  },
  {
   "cell_type": "code",
   "execution_count": 310,
   "metadata": {},
   "outputs": [],
   "source": [
    "generate_scv(df_10_sample)"
   ]
  },
  {
   "cell_type": "markdown",
   "metadata": {},
   "source": [
    "### 1-100 match"
   ]
  },
  {
   "cell_type": "code",
   "execution_count": 404,
   "metadata": {},
   "outputs": [],
   "source": [
    "df_100 = df_1[(df_1.len>=10) & (df_1.len<100)]"
   ]
  },
  {
   "cell_type": "code",
   "execution_count": 406,
   "metadata": {},
   "outputs": [],
   "source": [
    "index = [91466, 31675, 10372, 78971, 77779, 89333, 46474, 75271, 3895, 64889]\n",
    "df_100_sample = df_100.loc[index]"
   ]
  },
  {
   "cell_type": "code",
   "execution_count": 407,
   "metadata": {},
   "outputs": [
    {
     "data": {
      "text/plain": [
       "array(['A.ventura, La formazione intellettuale di Daniele Manin, in «Il Risorgimento», IX\\xa0(1957).',\n",
       "       'F. Di Maniago, Guida d’Udine in ciò che risguarda le tre belle Arti sorelle, San Vito (Pn) 1839, doc. III.',\n",
       "       \"BECKFORD, Dreams, 'Waking Thoughts and Incidents; in a series of letters from various parts of Europe, Londra, J. Johnson e P. Elmsly, 1783;\",\n",
       "       'Walter Binni, L’Arcadia e il Metastasio, Florence 1968',\n",
       "       'DAVIES J.D., Gentlemen and Tarpaulins. The Officers and Men of the Restoration Navy, Oxford 1991.',\n",
       "       'G. Pavanello, La Riva degli Schiavavi, in La Riviera di San Marco, a cura del\\xa0Magistrato alle Acque, Venezia 1932;',\n",
       "       'Angelo Tamborra, Gli Stati italiani, l’Europa e il problema turco dopo Lepanto, Firenze, 1961, p. 22.',\n",
       "       'P. Chau-nu, Le temps des réformes. La crise de la chrétienté 1250-1550, Paris 1975;',\n",
       "       'S. Lunardon, Hospitale S. Mariae Cruciferorum. L’ospizio dei Crociferi a Ve- nezia, Venezia 1985, pp. 46-56.',\n",
       "       'Chronicon Marchia e Tarvisinae et Lombardiae, a cura di L. A. Botteghi in RR. IL SS., Città di Castello, 1916, T. Vili, P. Ili, p. 51.'],\n",
       "      dtype=object)"
      ]
     },
     "execution_count": 407,
     "metadata": {},
     "output_type": "execute_result"
    }
   ],
   "source": [
    "df_100_sample.surface.values"
   ]
  },
  {
   "cell_type": "code",
   "execution_count": 408,
   "metadata": {},
   "outputs": [],
   "source": [
    "generate_scv(df_100_sample)"
   ]
  },
  {
   "cell_type": "markdown",
   "metadata": {},
   "source": [
    "### 100-500 match"
   ]
  },
  {
   "cell_type": "code",
   "execution_count": 203,
   "metadata": {},
   "outputs": [],
   "source": [
    "df_500 = df_1[(df_1.len>=100) & (df_1.len<500)]"
   ]
  },
  {
   "cell_type": "code",
   "execution_count": 208,
   "metadata": {},
   "outputs": [],
   "source": [
    "index= [40399, 91427, 97228, 11378, 46818, \n",
    "        33721, 86855, 14699, 104095, 20250, \n",
    "        103807, 2192, 5964, 35188, 31133, \n",
    "        13084, 35114, 16450, 101276, 11945]\n",
    "df_500_sample = df_500.loc[index]"
   ]
  },
  {
   "cell_type": "code",
   "execution_count": 209,
   "metadata": {},
   "outputs": [],
   "source": [
    "generate_scv(df_500_sample)"
   ]
  },
  {
   "cell_type": "code",
   "execution_count": 276,
   "metadata": {},
   "outputs": [
    {
     "data": {
      "text/plain": [
       "array(['Chastel, Art et humanisme au Quattrocento, in Umanesimo europeo e umanesimo veneziano, a cura di V. Branca, Firenze 1963, pp. 395-405.',\n",
       "       'SANSOVINO, F., Venetia città nobilissima et singolare, Venice, 1581,',\n",
       "       'Stella, Chiesa e Stato nelle relazioni dei nunzi pontifici a Venezia, Città del Vaticano 1964,\\xa0pp. 23-28.',\n",
       "       \"G. Tabacco, La sintesi istituzionale di vescovo e città in Italia e il suo supe- ramento nella 'res publica’ comunale, in Id., Egemonie sociali e strutture del potere nel medioevo italiano, Torino 1979, pp. 400-410.\",\n",
       "       \"L. Cisotto, Le valli da pesca delle lagune venete. Loro evoluzione storica e loro stato attuale sotto l'aspetto idraulico-amministrativo, Venezia, 1964, p. 13.\",\n",
       "       'G. Lo- RENZETTi, Venezia e il suo estuario, Venezia, Bestetti e Tumminelli, 1926, p. 381;',\n",
       "       'e di V. Vedaldi Iasbez, La Venetia orientale e l’Histria. Le fonti letterarie greche e latine fino alla caduta dell’Impero\\xa0Romano d’Occidente, Roma, 1994.',\n",
       "       'M. Zano- TELLI, Il problema della storiografia nell’epoca dei lumi. Storia e storiografia di Carlo Antonio Pilati, in «Atti della giornata di studi su Carlo Antonio Pilati», Trento 1984, pp. 30-40;',\n",
       "       'Giorgio PADOAN (a cura di), Dante e la cultura veneta, Firenze, Olschki 1966: pp. 109-15.',\n",
       "       'G. Gullino, I Pisani «.dal banco» e «moretta». Storia di due famiglie veneziane in età moderna e delle loro vicende patrimoniali tra 1705 e 1836, Roma, Istituto storico italiano per l’età moderna e contempora- nea, 1984, p. 316',\n",
       "       'G. Penco, Storia del monacheSimo in Italia. Dalle origini allafine del Medio Evo,\\xa0 Milano 1983.2',\n",
       "       \"L. BESCHI, Coll, d'antichità a Venezia ai tempi di Tiziano, in «Aquileia Nostra», 1976, pp. 6-7.\",\n",
       "       'JACOB Burckhardt, Il Cicerone. Guida al godimento delle opere d’arte in Italia, Firenze, Sansoni, 1955 (I ed. tedesca, 1855), p. 4.',\n",
       "       'Hocquet J-C., Expansion, Crises et Déclin des Salines dans la lagune de Venise au Moyen Age, in Catalogo della « Mostra Storica della Laguna Veneta», Venezia 1970.',\n",
       "       'celebre erudito veneziano (1773-1840), in sintesi G. C. Parolari, in G. A. Moschini, La Chiesa e il Seminario di Santa Maria della Salute in Venezia, Venezia 1842, pp. V-XX.',\n",
       "       'Masau Dan, Maria - Delneri, Annalia, (a cura di), Il Castello di Gorizia e il suo Borgo, Gorizia 1991.',\n",
       "       \"J. Tedeschi, fl giudice e l'eretico. Studi sull'Inquisizione romana, Milano, Vita e Pensie- ro, 1997, p. 138.97\",\n",
       "       'P. Paoletti, Larchitettura e la scultura del Rinascimento in Venezia, Venise, 1893-1897, II, p. 110-115;',\n",
       "       'Andrea Cafarelli, La terra avara. Assetti fondiari e forme di conduzione agraria nella bassa\\xa0friulana (1866-1914), Venezia 1999, pp.\\xa0372, voi. LXXXIII,',\n",
       "       'G. Gaeta, Il «Corriere Italiano» di Vienna (1850-57) ed il suo redattore, in «Rassegna storica del Risorgimento», 1957, pp. 690-724.'],\n",
       "      dtype=object)"
      ]
     },
     "execution_count": 276,
     "metadata": {},
     "output_type": "execute_result"
    }
   ],
   "source": [
    "df_500_sample.surface.values"
   ]
  },
  {
   "cell_type": "markdown",
   "metadata": {},
   "source": [
    "### 500+match"
   ]
  },
  {
   "cell_type": "code",
   "execution_count": 224,
   "metadata": {},
   "outputs": [],
   "source": [
    "df_1000 = df_1[(df_1.len>=500)]"
   ]
  },
  {
   "cell_type": "code",
   "execution_count": 227,
   "metadata": {},
   "outputs": [],
   "source": [
    "index = [109403, 90014, 69, 95973, 1737,\n",
    "         75305, 15194, 16193, 19517, 28488]\n",
    "df_1000_sample = df_1000.loc[index]"
   ]
  },
  {
   "cell_type": "code",
   "execution_count": 228,
   "metadata": {},
   "outputs": [],
   "source": [
    "generate_scv(df_1000_sample)"
   ]
  },
  {
   "cell_type": "code",
   "execution_count": 275,
   "metadata": {},
   "outputs": [
    {
     "data": {
      "text/plain": [
       "array(['E. CoNCiNA, San Marco, Costantinopoli e il primo Rinascimento veneziano: «traditio magnificentiae», in Storia dell’arte marcina: l’architettura, a c. di R. Polacco, Venezia 1997, pp. 29-30.',\n",
       "       'A. Dorigato, Francesco Guardi: Disegni del Museo Correr di Venezia, Caldes 1993.',\n",
       "       \"S. Tramontin, Breve storia dell'agiografia veneziana, in S. Tramontin e altri. Culto dei santi a Venezia, Venezia 1965, pp. 19-21\",\n",
       "       'F. Meneghetti Casarin, Malviventi e\\xa0vagabondi nella società veneta di fine Settecento, in « Atti dell’Istituto Veneto\\xa0di Scienze, Lettere ed Arti», CXXXVI (1978);',\n",
       "       'Pallucchini, La pittura veneziana del Trecento, Venezia-Roma, 1964, p. 154,',\n",
       "       'F. Gilbert, Religion and politics in the thought of Gasparo Contarmi, in Action\\xa0and Commitment in Early Modem Europe, essays in memory of E. H. Harbison, Princeton N. J. 1969;',\n",
       "       'G. Luzzatto, L’economia veneziana dal 1797 al 1866, in La civiltà veneziana nell’età romantica, Firenze 1961, pp. 103-104.',\n",
       "       'G. COZZI, Repubblica di Venezia e Stati italiani, Torino 1982, p. 178',\n",
       "       'M. Berengo, Le origini del Lombardo Veneto, in \"Rivista storica ita- liana”, 1971, pp. 525-544.',\n",
       "       'G. Ruggiero, Violence in Early Renaissance Venice, Rutgers Univ. Press 1980, p. 8.'],\n",
       "      dtype=object)"
      ]
     },
     "execution_count": 275,
     "metadata": {},
     "output_type": "execute_result"
    }
   ],
   "source": [
    "df_1000_sample.surface.values"
   ]
  }
 ],
 "metadata": {
  "kernelspec": {
   "display_name": "Python 3",
   "language": "python",
   "name": "python3"
  },
  "language_info": {
   "codemirror_mode": {
    "name": "ipython",
    "version": 3
   },
   "file_extension": ".py",
   "mimetype": "text/x-python",
   "name": "python",
   "nbconvert_exporter": "python",
   "pygments_lexer": "ipython3",
   "version": "3.6.4"
  }
 },
 "nbformat": 4,
 "nbformat_minor": 2
}
