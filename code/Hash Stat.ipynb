{
 "cells": [
  {
   "cell_type": "markdown",
   "metadata": {},
   "source": [
    "# Hash Stat\n",
    "\n",
    "This is the notebook for some statistics of the number of returned references of hashes."
   ]
  },
  {
   "cell_type": "code",
   "execution_count": 1,
   "metadata": {},
   "outputs": [],
   "source": [
    "import pandas as pd\n",
    "import numpy as np\n",
    "import matplotlib.pyplot as plt\n",
    "%matplotlib inline"
   ]
  },
  {
   "cell_type": "code",
   "execution_count": 2,
   "metadata": {
    "scrolled": true
   },
   "outputs": [
    {
     "data": {
      "text/html": [
       "<div>\n",
       "<style scoped>\n",
       "    .dataframe tbody tr th:only-of-type {\n",
       "        vertical-align: middle;\n",
       "    }\n",
       "\n",
       "    .dataframe tbody tr th {\n",
       "        vertical-align: top;\n",
       "    }\n",
       "\n",
       "    .dataframe thead th {\n",
       "        text-align: right;\n",
       "    }\n",
       "</style>\n",
       "<table border=\"1\" class=\"dataframe\">\n",
       "  <thead>\n",
       "    <tr style=\"text-align: right;\">\n",
       "      <th></th>\n",
       "      <th>counts</th>\n",
       "    </tr>\n",
       "    <tr>\n",
       "      <th>hashtag</th>\n",
       "      <th></th>\n",
       "    </tr>\n",
       "  </thead>\n",
       "  <tbody>\n",
       "    <tr>\n",
       "      <th>repubblica#venezia</th>\n",
       "      <td>6508</td>\n",
       "    </tr>\n",
       "    <tr>\n",
       "      <th>san#marco</th>\n",
       "      <td>4759</td>\n",
       "    </tr>\n",
       "    <tr>\n",
       "      <th>storia#venezia</th>\n",
       "      <td>4671</td>\n",
       "    </tr>\n",
       "    <tr>\n",
       "      <th>atti#convegno</th>\n",
       "      <td>4603</td>\n",
       "    </tr>\n",
       "    <tr>\n",
       "      <th>cura#1985</th>\n",
       "      <td>3684</td>\n",
       "    </tr>\n",
       "  </tbody>\n",
       "</table>\n",
       "</div>"
      ],
      "text/plain": [
       "                    counts\n",
       "hashtag                   \n",
       "repubblica#venezia    6508\n",
       "san#marco             4759\n",
       "storia#venezia        4671\n",
       "atti#convegno         4603\n",
       "cura#1985             3684"
      ]
     },
     "execution_count": 2,
     "metadata": {},
     "output_type": "execute_result"
    }
   ],
   "source": [
    "df_stat = pd.read_pickle('./pickle/hash_stat.pickle')\n",
    "df_stat.head()"
   ]
  },
  {
   "cell_type": "code",
   "execution_count": 3,
   "metadata": {},
   "outputs": [
    {
     "data": {
      "text/plain": [
       "k_group\n",
       "0    22374351\n",
       "1          67\n",
       "2          16\n",
       "3          21\n",
       "4           3\n",
       "6           1\n",
       "Name: counts, dtype: int64"
      ]
     },
     "execution_count": 3,
     "metadata": {},
     "output_type": "execute_result"
    }
   ],
   "source": [
    "# In thousands\n",
    "df_stat['k_group'] = df_stat['counts'].apply(lambda x: (x//1000))\n",
    "df_stat.groupby('k_group')['counts'].count()"
   ]
  },
  {
   "cell_type": "code",
   "execution_count": 5,
   "metadata": {},
   "outputs": [
    {
     "data": {
      "text/plain": [
       "h_group\n",
       "0    22369404\n",
       "1        3587\n",
       "2         773\n",
       "3         289\n",
       "4         134\n",
       "5          58\n",
       "6          41\n",
       "7          27\n",
       "8          24\n",
       "9          14\n",
       "Name: counts, dtype: int64"
      ]
     },
     "execution_count": 5,
     "metadata": {},
     "output_type": "execute_result"
    }
   ],
   "source": [
    "# In hundreds, for those below 1,000\n",
    "df_stat['h_group'] = df_stat['counts'].apply(lambda x: (x//100))\n",
    "df_stat[df_stat.counts<1000].groupby('h_group')['counts'].count()"
   ]
  },
  {
   "cell_type": "code",
   "execution_count": 6,
   "metadata": {},
   "outputs": [
    {
     "data": {
      "text/plain": [
       "t_group\n",
       "0    22228720\n",
       "1       90892\n",
       "2       24089\n",
       "3       10675\n",
       "4        5635\n",
       "5        3282\n",
       "6        2410\n",
       "7        1609\n",
       "8        1179\n",
       "9         913\n",
       "Name: counts, dtype: int64"
      ]
     },
     "execution_count": 6,
     "metadata": {},
     "output_type": "execute_result"
    }
   ],
   "source": [
    "# In tens, for those below 100\n",
    "df_stat['t_group'] = df_stat['counts'].apply(lambda x: (x//10))\n",
    "df_stat[df_stat.counts<100].groupby('t_group')['counts'].count()"
   ]
  },
  {
   "cell_type": "code",
   "execution_count": 7,
   "metadata": {},
   "outputs": [
    {
     "data": {
      "text/plain": [
       "d_group\n",
       "1    20004324\n",
       "2     1401939\n",
       "3      380207\n",
       "4      178342\n",
       "5      100915\n",
       "6       63798\n",
       "7       43459\n",
       "8       31810\n",
       "9       23926\n",
       "Name: counts, dtype: int64"
      ]
     },
     "execution_count": 7,
     "metadata": {},
     "output_type": "execute_result"
    }
   ],
   "source": [
    "# In ones, for those below 10\n",
    "df_stat['d_group'] = df_stat['counts'].apply(lambda x: (x//1))\n",
    "df_stat[df_stat.counts<10].groupby('d_group')['counts'].count()"
   ]
  },
  {
   "cell_type": "code",
   "execution_count": 8,
   "metadata": {},
   "outputs": [
    {
     "data": {
      "text/plain": [
       "array(['repubblica#venezia', 'san#marco', 'storia#venezia',\n",
       "       'atti#convegno', 'cura#1985', 'eta#moderna', 'cura#1984',\n",
       "       'cura#1987', 'cura#1983', 'cura#1993', 'cura#1996', 'cura#1986',\n",
       "       'cura#1997', 'cura#1981', 'cura#1995', 'cura#1988', 'cura#1989',\n",
       "       'cura#1994', 'cura#1991', 'cura#1992', 'cura#1998',\n",
       "       'catalogo#mostra', 'cura#1990', 'cura#1982', 'cura#1980',\n",
       "       'renaissance#venice', 'storia#cultura', 'cultura#veneta',\n",
       "       'cura#1979', 'moyen#age', 'cura#1999', 'repubblica#veneta',\n",
       "       'cura#2000', 'storia#arte', 'cura#2001', 'cura#2002', 'cura#2003',\n",
       "       'secolo#xvi', 'cura#atti#convegno', 'cura#1978', 'cura#1973',\n",
       "       'cura#1977', 'cura#1974', 'cura#1972', 'cura#1968',\n",
       "       'dizionario#biografico', 'storia#italia', 'cura#1967', 'cura#2004',\n",
       "       'cura#1976', 'cura#1969', 'cura#1966', 'biografico#italiani',\n",
       "       'xvi#secolo', 'cura#1975', 'storia#economica', 'cura#1970',\n",
       "       'civilta#veneziana', 'venezia#eta', 'cura#2005', 'cura#1965',\n",
       "       'venezia#origini', 'palazzo#ducale', 'cura#1964', 'cura#1971',\n",
       "       'cura#1963', 'caduta#repubblica', 'scienze#lettere',\n",
       "       'xviii#secolo', 'cura#1962', 'secoli#xvi', 'lettere#arti',\n",
       "       'studi#onore', 'cura#1959', 'citta#venezia', 'cura#1961',\n",
       "       'cura#1960', 'cura#1958', 'sixteenth#century', 'archivio#veneto',\n",
       "       'cura#2006', 'pittura#veneziana', 'cura#storia#venezia',\n",
       "       'secoli#xiii', 'studi#storia', 'istituto#veneto', 'venezia#secoli',\n",
       "       'laguna#venezia', 'cura#catalogo#mostra',\n",
       "       'convegno#internazionale', 'middle#ages', 'secolo#xviii',\n",
       "       'santa#maria', 'cura#2007', 'arte#veneta', 'citta#nobilissima',\n",
       "       'cura#1957', 'storia#documentata', 'origini#caduta',\n",
       "       'veneto#scienze', 'venezia#venezia', 'letteratura#italiana',\n",
       "       'paolo#sarpi', 'venezia#vita', 'cura#1956',\n",
       "       'sansovino#citta#nobilissima', 'venetia#citta',\n",
       "       'cozzi#repubblica#venezia'], dtype=object)"
      ]
     },
     "execution_count": 8,
     "metadata": {},
     "output_type": "execute_result"
    }
   ],
   "source": [
    "# 1000+\n",
    "df_stat[df_stat.k_group>0].index.values"
   ]
  },
  {
   "cell_type": "markdown",
   "metadata": {},
   "source": [
    "**Brief Analysis:**\n",
    "1. `venezia` or `venetia` is quite common.\n",
    "2. `cultura` means 'culture' and `storia` means 'history'.\n",
    "3. `san#marco` is one of the six sestieri of Venice.\n",
    "4. 'atti del convegno' means 'conference proceedings'. `atti#convegno` is parsed as part of title.\n",
    "5. 'a cura di' means 'edited by'. `cura` is included in the hashtag as part of author due to parsing error.\n",
    "6. `eta#moderna` means 'modern age'; `moyen#age`, `middle#age` means 'middle age'. \n",
    "7. 'catalogo della mostra' means 'exhibition catalog'. `catalogo#mostra` is parsed as part of title.\n",
    "8. `xvi#secolo`, `secoli#xvi`, `sixteenth#century`,  `xviii#secolo`  means '16th century' or '18th century'.\n",
    "9. `dizionario#biografico`, `biografico#italiani` are part of 'Dizionario biografico degli Italiani', which is a biographical dictionary.\n",
    "10. `palazzo#ducale` is a palace built in Venetian Gothic style.\n",
    "11. `convegno#internazionale` means 'international conference'.\n",
    "12. `santa#maria` always showes up as part of church name.\n",
    "13. `citta#nobilissima`, `sansovino#citta#nobilissima` points to the reference 'Venetia città nobilissima et singolare' that is commonly cited.\n",
    "14. `origini#caduta` points to the reference 'Storia di Venezia nella vita privata dalle origini alla caduta della Repubblica' that is commonly cited.\n",
    "15. `paolo#sarpi` is an Italian historian.\n",
    "16. `cozzi#repubblica#venezia` is a combination of author 'cozzi' and title bigram 'repubblica#venezia' which is the favorite topic of this author.\n",
    "\n",
    "**Black List for this part:**:\n",
    "- Meaningless: `cura#...`\n",
    "- **??Too common??**: `venezia`, `veneta`, `palazzo#ducale`, `paolo#sarpi`, etc.\n",
    "- Not necessay : `secolo`, `secoli`, `century` ... date information which is not main part of title\n",
    "- Publication name or similar: `convegno#internazionale`, `dizionario#biografico`, `biografico#italiani`"
   ]
  },
  {
   "cell_type": "code",
   "execution_count": 19,
   "metadata": {
    "scrolled": false
   },
   "outputs": [
    {
     "data": {
      "text/plain": [
       "array(['medio#evo', 'storia#repubblica', 'memorie#storiche',\n",
       "       'seconda#meta', 'studi#storici', 'maggior#consiglio',\n",
       "       'nobilissima#singolare', 'xvii#xviii', 'andrea#palladio',\n",
       "       'sansovino#venetia#citta', 'vita#privata', 'storia#patria',\n",
       "       'documentata#venezia', 'storia#diritto', 'societa#veneta',\n",
       "       'luzzatto#storia#economica', 'internazionale#studi',\n",
       "       'marco#venezia', 'museo#correr', 'sansovino#nobilissima#singolare',\n",
       "       'chiesa#san', 'romanin#storia#documentata', 'medioevo#eta',\n",
       "       'early#modem', 'chiesa#venezia', 'arnaldi#cultura#veneta',\n",
       "       'ateneo#veneto', 'archivio#stato', 'caduta#serenissima',\n",
       "       'early#modern', 'stato#venezia', 'vita#opere',\n",
       "       'arnaldi#storia#cultura', 'romanin#documentata#venezia',\n",
       "       'patriziato#veneziano', 'aspetti#problemi', 'xvi#xviii',\n",
       "       'belle#arti', 'ducale#venezia', 'xvie#siecle',\n",
       "       'venezia#cinquecento', 'convegno#studi', 'marco#polo',\n",
       "       'italian#renaissance', 'secolo#xiv', 'hale#1974', 'opere#arte',\n",
       "       'hale#1973', 'cessi#repubblica#venezia', 'hale#renaissance#venice',\n",
       "       'basilica#san', 'museo#civico', 'xvi#xvii', 'secolo#xvii',\n",
       "       'notizie#storiche', 'pastore#cultura#veneta', 'xiii#xiv',\n",
       "       'storia#chiesa', 'molmenti#vita#privata',\n",
       "       'molmenti#storia#venezia', 'hale#1972', 'pastore#storia#cultura',\n",
       "       'universita#padova', 'molmenti#venezia#vita', 'century#venice',\n",
       "       'laguna#veneta', 'cozzi#1981', 'economica#venezia',\n",
       "       'archivio#storico', 'venezia#rinascimento', 'san#giorgio',\n",
       "       'cenni#storici', 'stato#societa', 'alto#medioevo',\n",
       "       'cinque#seicento', 'scuola#grande', 'cozzi#1986', 'atti#istituto',\n",
       "       'renaissance#italy', 'giorgio#maggiore', 'giovanni#battista',\n",
       "       'letteratura#veneziana', 'sec#xvi', 'xve#siecle', 'venezia#roma',\n",
       "       'studi#veneziani', 'san#giovanni', 'ambasciatori#veneti',\n",
       "       'venezia#terraferma', 'convegno#intemazionale', 'concilio#trento',\n",
       "       'diritto#comune', 'stocchi#cultura#veneta', 'dogi#venezia',\n",
       "       'venezia#storia', 'canal#grande', 'venezia#fine', 'giovanni#paolo',\n",
       "       'stocchi#storia#cultura', 'venezia#ottocento', 'arte#italiana',\n",
       "       'curiosita#veneziane', 'pittori#scultori', 'architettura#scultura',\n",
       "       'dialetto#veneziano', 'venezia#settecento',\n",
       "       'medioevo#rinascimento', 'storia#civilta', 'new#york',\n",
       "       'republique#venise', 'atti#congresso', 'ecclesiae#venetae',\n",
       "       'economica#veneziana', 'daniele#manin', 'societa#stato',\n",
       "       'storia#letteratura', 'stati#italiani', 'stato#veneziano',\n",
       "       'corner#1749', 'comune#venezia', 'societa#giustizia',\n",
       "       'corner#1748', 'cozzi#1985', 'beltrami#1955', 'oriente#occidente',\n",
       "       'corner#1750', 'tafuri#1984', 'tenenti#storia#venezia',\n",
       "       'giustizia#repubblica', 'rinascimento#venezia', 'jacopo#sansovino',\n",
       "       'cozzi#1993', 'sec#xviii', 'inscrizioni#veneziane',\n",
       "       'luzzatto#1962'], dtype='<U31')"
      ]
     },
     "execution_count": 19,
     "metadata": {},
     "output_type": "execute_result"
    }
   ],
   "source": [
    "# 500-900+\n",
    "tags = df_stat[(df_stat.counts<1000) & (df_stat.h_group>=5)].index.values\n",
    "# remove those with 'cura' and with 'century'\n",
    "np.array([t for t in tags if  not t.startswith('cura#') \n",
    "                 and not (t.startswith('secoli#') or t.endswith('#secolo') or t.endswith('#century'))])"
   ]
  },
  {
   "cell_type": "markdown",
   "metadata": {},
   "source": [
    "## Try to Build Black List - whether include in those too common ones?"
   ]
  },
  {
   "cell_type": "code",
   "execution_count": null,
   "metadata": {},
   "outputs": [],
   "source": [
    "# with cura\n",
    "hash_cura = [h for h in df_stat.index.values if h.startswith('cura#')]"
   ]
  },
  {
   "cell_type": "code",
   "execution_count": null,
   "metadata": {},
   "outputs": [],
   "source": [
    "# only bigrams with century information\n",
    "hash_seco = [h for h in df_stat.index.values \n",
    "             if (h.startswith('secoli#') or h.endswith('#secolo') or h.endswith('#century'))\n",
    "                and (len(h.split('#'))<=2)\n",
    "            ]"
   ]
  },
  {
   "cell_type": "code",
   "execution_count": null,
   "metadata": {},
   "outputs": [],
   "source": [
    "# part of a publication where the reference from\n",
    "\n",
    "# TODO #\n",
    "hash_public = ['studi#onore', 'archivio#veneto', 'lettere#arti', 'scienze#lettere',\n",
    "               'dizionario#biografico', 'biografico#italiani', 'convegno#internazionale',\n",
    "               'storia#patria', \n",
    "              ]"
   ]
  },
  {
   "cell_type": "code",
   "execution_count": null,
   "metadata": {},
   "outputs": [],
   "source": [
    "# hashes produced only by one ref\n",
    "# avoid for useless search\n",
    "hash_one = df_stat[df_stat['counts']==1].index.values"
   ]
  },
  {
   "cell_type": "markdown",
   "metadata": {},
   "source": [
    "## Match Result without Hash Blacklist"
   ]
  },
  {
   "cell_type": "markdown",
   "metadata": {},
   "source": [
    "IF do the match **without building hash blacklist**, and the result of $\\frac{3}{4}$ of all full refs:"
   ]
  },
  {
   "cell_type": "code",
   "execution_count": 36,
   "metadata": {},
   "outputs": [],
   "source": [
    "def number_level(n):\n",
    "    if n//1000>0:\n",
    "        return '1000+'\n",
    "    if n//500>0:\n",
    "        return '500+'\n",
    "    if n//200>0:\n",
    "        return '200+'\n",
    "    if n//100>0:\n",
    "        return '100+'\n",
    "    if n//50>0:\n",
    "        return '50+'\n",
    "    if n//20>0:\n",
    "        return '20+'\n",
    "    if n//10>0:\n",
    "        return '10+'\n",
    "    if n==1:\n",
    "        return '1'\n",
    "    return '1+'"
   ]
  },
  {
   "cell_type": "code",
   "execution_count": 43,
   "metadata": {},
   "outputs": [],
   "source": [
    "level = ['1000+', '500+', '200+', '100+', '50+', '20+', '10+', '1+', '1']"
   ]
  },
  {
   "cell_type": "code",
   "execution_count": 20,
   "metadata": {
    "scrolled": true
   },
   "outputs": [
    {
     "data": {
      "text/plain": [
       "count    117029.000000\n",
       "mean        830.340873\n",
       "std        1714.278039\n",
       "min           1.000000\n",
       "25%          20.000000\n",
       "50%         124.000000\n",
       "75%         679.000000\n",
       "max       21467.000000\n",
       "Name: len, dtype: float64"
      ]
     },
     "execution_count": 20,
     "metadata": {},
     "output_type": "execute_result"
    }
   ],
   "source": [
    "df_1 = pd.read_pickle(\"./pickle/hash_ref1.pickle\")\n",
    "\n",
    "df_1['len'] = df_1['match'].apply(len)\n",
    "\n",
    "df_1['len'].describe()"
   ]
  },
  {
   "cell_type": "code",
   "execution_count": 44,
   "metadata": {},
   "outputs": [
    {
     "data": {
      "text/plain": [
       "1000+    23537\n",
       "500+     10689\n",
       "200+     15591\n",
       "100+     12693\n",
       "50+      11732\n",
       "20+      14202\n",
       "10+       8865\n",
       "1+       14880\n",
       "1         4840\n",
       "Name: len, dtype: int64"
      ]
     },
     "execution_count": 44,
     "metadata": {},
     "output_type": "execute_result"
    }
   ],
   "source": [
    "df_1['len'].apply(number_level).value_counts()[level]"
   ]
  },
  {
   "cell_type": "code",
   "execution_count": 21,
   "metadata": {},
   "outputs": [
    {
     "data": {
      "text/plain": [
       "count    130925.000000\n",
       "mean       1137.804377\n",
       "std        2074.346238\n",
       "min           1.000000\n",
       "25%          37.000000\n",
       "50%         212.000000\n",
       "75%        1063.000000\n",
       "max       31267.000000\n",
       "Name: len, dtype: float64"
      ]
     },
     "execution_count": 21,
     "metadata": {},
     "output_type": "execute_result"
    }
   ],
   "source": [
    "df_2 = pd.read_pickle(\"./pickle/hash_ref2.pickle\")\n",
    "\n",
    "df_2['len'] = df_2['match'].apply(len)\n",
    "\n",
    "df_2['len'].describe()"
   ]
  },
  {
   "cell_type": "code",
   "execution_count": 45,
   "metadata": {
    "scrolled": true
   },
   "outputs": [
    {
     "data": {
      "text/plain": [
       "1000+    33701\n",
       "500+     13159\n",
       "200+     19707\n",
       "100+     14276\n",
       "50+      12577\n",
       "20+      13947\n",
       "10+       8193\n",
       "1+       12264\n",
       "1         3101\n",
       "Name: len, dtype: int64"
      ]
     },
     "execution_count": 45,
     "metadata": {},
     "output_type": "execute_result"
    }
   ],
   "source": [
    "df_2['len'].apply(number_level).value_counts()[level]"
   ]
  },
  {
   "cell_type": "code",
   "execution_count": 22,
   "metadata": {},
   "outputs": [
    {
     "data": {
      "text/plain": [
       "count    130800.000000\n",
       "mean       1260.774205\n",
       "std        2202.370634\n",
       "min           1.000000\n",
       "25%          43.000000\n",
       "50%         242.000000\n",
       "75%        1269.000000\n",
       "max       36125.000000\n",
       "Name: len, dtype: float64"
      ]
     },
     "execution_count": 22,
     "metadata": {},
     "output_type": "execute_result"
    }
   ],
   "source": [
    "df_3 = pd.read_pickle(\"./pickle/hash_ref3.pickle\")\n",
    "\n",
    "df_3['len'] = df_3['match'].apply(len)\n",
    "\n",
    "df_3['len'].describe()"
   ]
  },
  {
   "cell_type": "code",
   "execution_count": 46,
   "metadata": {},
   "outputs": [
    {
     "data": {
      "text/plain": [
       "1000+    36840\n",
       "500+     13386\n",
       "200+     19116\n",
       "100+     14061\n",
       "50+      12154\n",
       "20+      13618\n",
       "10+       7851\n",
       "1+       11157\n",
       "1         2617\n",
       "Name: len, dtype: int64"
      ]
     },
     "execution_count": 46,
     "metadata": {},
     "output_type": "execute_result"
    }
   ],
   "source": [
    "df_3['len'].apply(number_level).value_counts()[level]"
   ]
  },
  {
   "cell_type": "code",
   "execution_count": null,
   "metadata": {},
   "outputs": [],
   "source": []
  }
 ],
 "metadata": {
  "kernelspec": {
   "display_name": "Python 3",
   "language": "python",
   "name": "python3"
  },
  "language_info": {
   "codemirror_mode": {
    "name": "ipython",
    "version": 3
   },
   "file_extension": ".py",
   "mimetype": "text/x-python",
   "name": "python",
   "nbconvert_exporter": "python",
   "pygments_lexer": "ipython3",
   "version": "3.6.4"
  }
 },
 "nbformat": 4,
 "nbformat_minor": 2
}
