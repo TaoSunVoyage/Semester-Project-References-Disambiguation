{
 "cells": [
  {
   "cell_type": "code",
   "execution_count": 15,
   "metadata": {},
   "outputs": [],
   "source": [
    "from hashfunction import *\n",
    "\n",
    "from bson.objectid import ObjectId"
   ]
  },
  {
   "cell_type": "markdown",
   "metadata": {},
   "source": [
    "Test"
   ]
  },
  {
   "cell_type": "code",
   "execution_count": 16,
   "metadata": {},
   "outputs": [],
   "source": [
    "citation = {\n",
    "    'doc_id': ObjectId('595f9e37fe7683316b2dd4b4'), \n",
    "    'ref_id': ObjectId('58e4ce00fe7683152b55e328'), \n",
    "    'surface': 'Hans Tietzte - Tietzte Conrad The drawings of the Venetian painters New York, 1944, p. 222 N. 1180.', \n",
    "    'author': ['Hans Tietzte - Tietzte Conrad'], \n",
    "    'title': ['The drawings of the Venetian painters New'], \n",
    "    'year': ['1944,'], \n",
    "    'page': ['p. 222']\n",
    "}"
   ]
  },
  {
   "cell_type": "code",
   "execution_count": 17,
   "metadata": {},
   "outputs": [],
   "source": [
    "# Baseline\n",
    "g0 = CitationBaselineHashGenerator()\n",
    "\n",
    "# Bigrams of Title\n",
    "g1 = CitationTitleHashGenerator()\n",
    "\n",
    "# Author + Year\n",
    "g2 = CitationAuthorYearHashGenerator()\n",
    "g3 = CitationAuthorBlurYearHashGenerator()\n",
    "\n",
    "# Author + Year + Page\n",
    "g4 = CitationAuthorYearPageHashGenerator()\n",
    "g5 = CitationAuthorBlurYearPageHashGenerator()\n",
    "\n",
    "# Author + Year + Num\n",
    "g6 = CitationAuthorYearNumHashGenerator(n=3)\n",
    "\n",
    "###############Not in Paper#################\n",
    "# Author\n",
    "g7 = CitationAuthorHashGenerator()\n",
    "\n",
    "# Author + Title\n",
    "g8 = CitationAuthorTitleHashGenerator()\n",
    "\n",
    "# Author + Title + Year\n",
    "g9 = CitationAuthorTitleYearHashGenerator()\n",
    "g10 = CitationAuthorTitleBlurYearHashGenerator()"
   ]
  },
  {
   "cell_type": "code",
   "execution_count": 13,
   "metadata": {
    "scrolled": false
   },
   "outputs": [
    {
     "name": "stdout",
     "output_type": "stream",
     "text": [
      "Baseline\n",
      "['hans#tietzte#tietzte#conrad#the#drawings#the#venetian#painters#new#york#1944#222#1180']\n",
      "\n",
      "\n",
      "Bigrams of Title\n",
      "['the#venetian', 'drawings#the', 'the#drawings', 'venetian#painters', 'painters#new']\n",
      "\n",
      "\n",
      "Author + Year\n",
      "['hans#1944', 'tietzte#1944', 'tietzte#1944', 'conrad#1944']\n",
      "\n",
      "\n",
      "Author + Blurred Year\n",
      "['hans#1944', 'hans#1943', 'hans#1945', 'tietzte#1944', 'tietzte#1943', 'tietzte#1945', 'tietzte#1944', 'tietzte#1943', 'tietzte#1945', 'conrad#1944', 'conrad#1943', 'conrad#1945']\n",
      "\n",
      "\n",
      "Author + Year + Page\n",
      "['hans#1944#222', 'tietzte#1944#222', 'tietzte#1944#222', 'conrad#1944#222']\n",
      "\n",
      "\n",
      "Author + Blured Year + Blured Page\n",
      "['hans#1944#222', 'hans#1944#223', 'hans#1944#221', 'hans#1943#222', 'hans#1943#223', 'hans#1943#221', 'hans#1945#222', 'hans#1945#223', 'hans#1945#221', 'tietzte#1944#222', 'tietzte#1944#223', 'tietzte#1944#221', 'tietzte#1943#222', 'tietzte#1943#223', 'tietzte#1943#221', 'tietzte#1945#222', 'tietzte#1945#223', 'tietzte#1945#221', 'tietzte#1944#222', 'tietzte#1944#223', 'tietzte#1944#221', 'tietzte#1943#222', 'tietzte#1943#223', 'tietzte#1943#221', 'tietzte#1945#222', 'tietzte#1945#223', 'tietzte#1945#221', 'conrad#1944#222', 'conrad#1944#223', 'conrad#1944#221', 'conrad#1943#222', 'conrad#1943#223', 'conrad#1943#221', 'conrad#1945#222', 'conrad#1945#223', 'conrad#1945#221']\n",
      "\n",
      "\n",
      "Author + Year + Num\n",
      "['hans#1944#222#1180', 'tietzte#1944#222#1180', 'tietzte#1944#222#1180', 'conrad#1944#222#1180']\n",
      "\n",
      "\n",
      "Author\n",
      "['hans', 'tietzte', 'tietzte', 'conrad']\n",
      "\n",
      "\n",
      "Author + Bigrams of Title\n",
      "['hans#the#venetian', 'hans#drawings#the', 'hans#the#drawings', 'hans#venetian#painters', 'hans#painters#new', 'tietzte#the#venetian', 'tietzte#drawings#the', 'tietzte#the#drawings', 'tietzte#venetian#painters', 'tietzte#painters#new', 'tietzte#the#venetian', 'tietzte#drawings#the', 'tietzte#the#drawings', 'tietzte#venetian#painters', 'tietzte#painters#new', 'conrad#the#venetian', 'conrad#drawings#the', 'conrad#the#drawings', 'conrad#venetian#painters', 'conrad#painters#new']\n",
      "\n",
      "\n",
      "Author + Bigrams of Title + Year\n",
      "['hans#the#venetian#1944', 'hans#drawings#the#1944', 'hans#the#drawings#1944', 'hans#venetian#painters#1944', 'hans#painters#new#1944', 'tietzte#the#venetian#1944', 'tietzte#drawings#the#1944', 'tietzte#the#drawings#1944', 'tietzte#venetian#painters#1944', 'tietzte#painters#new#1944', 'tietzte#the#venetian#1944', 'tietzte#drawings#the#1944', 'tietzte#the#drawings#1944', 'tietzte#venetian#painters#1944', 'tietzte#painters#new#1944', 'conrad#the#venetian#1944', 'conrad#drawings#the#1944', 'conrad#the#drawings#1944', 'conrad#venetian#painters#1944', 'conrad#painters#new#1944']\n",
      "\n",
      "\n",
      "Author + Bigrams of Title + Blurred Year\n",
      "['hans#the#venetian#1944', 'hans#the#venetian#1943', 'hans#the#venetian#1945', 'hans#drawings#the#1944', 'hans#drawings#the#1943', 'hans#drawings#the#1945', 'hans#the#drawings#1944', 'hans#the#drawings#1943', 'hans#the#drawings#1945', 'hans#venetian#painters#1944', 'hans#venetian#painters#1943', 'hans#venetian#painters#1945', 'hans#painters#new#1944', 'hans#painters#new#1943', 'hans#painters#new#1945', 'tietzte#the#venetian#1944', 'tietzte#the#venetian#1943', 'tietzte#the#venetian#1945', 'tietzte#drawings#the#1944', 'tietzte#drawings#the#1943', 'tietzte#drawings#the#1945', 'tietzte#the#drawings#1944', 'tietzte#the#drawings#1943', 'tietzte#the#drawings#1945', 'tietzte#venetian#painters#1944', 'tietzte#venetian#painters#1943', 'tietzte#venetian#painters#1945', 'tietzte#painters#new#1944', 'tietzte#painters#new#1943', 'tietzte#painters#new#1945', 'tietzte#the#venetian#1944', 'tietzte#the#venetian#1943', 'tietzte#the#venetian#1945', 'tietzte#drawings#the#1944', 'tietzte#drawings#the#1943', 'tietzte#drawings#the#1945', 'tietzte#the#drawings#1944', 'tietzte#the#drawings#1943', 'tietzte#the#drawings#1945', 'tietzte#venetian#painters#1944', 'tietzte#venetian#painters#1943', 'tietzte#venetian#painters#1945', 'tietzte#painters#new#1944', 'tietzte#painters#new#1943', 'tietzte#painters#new#1945', 'conrad#the#venetian#1944', 'conrad#the#venetian#1943', 'conrad#the#venetian#1945', 'conrad#drawings#the#1944', 'conrad#drawings#the#1943', 'conrad#drawings#the#1945', 'conrad#the#drawings#1944', 'conrad#the#drawings#1943', 'conrad#the#drawings#1945', 'conrad#venetian#painters#1944', 'conrad#venetian#painters#1943', 'conrad#venetian#painters#1945', 'conrad#painters#new#1944', 'conrad#painters#new#1943', 'conrad#painters#new#1945']\n",
      "\n",
      "\n"
     ]
    }
   ],
   "source": [
    "for g in [g0, g1, g2, g3, g4, g5, g6, g7, g8, g9, g10]:\n",
    "    print(g.name)\n",
    "    print(list(g.generate(citation)))\n",
    "    print(\"\\n\")"
   ]
  },
  {
   "cell_type": "code",
   "execution_count": null,
   "metadata": {},
   "outputs": [],
   "source": []
  }
 ],
 "metadata": {
  "kernelspec": {
   "display_name": "Python 3",
   "language": "python",
   "name": "python3"
  },
  "language_info": {
   "codemirror_mode": {
    "name": "ipython",
    "version": 3
   },
   "file_extension": ".py",
   "mimetype": "text/x-python",
   "name": "python",
   "nbconvert_exporter": "python",
   "pygments_lexer": "ipython3",
   "version": "3.6.4"
  }
 },
 "nbformat": 4,
 "nbformat_minor": 2
}
