{
 "cells": [
  {
   "cell_type": "code",
   "execution_count": 1,
   "metadata": {},
   "outputs": [],
   "source": [
    "import mongoengine\n",
    "from mongoengine import *\n",
    "from mongoengine.queryset.visitor import Q\n",
    "from dbmodels import *\n",
    "from hashfunction import *\n",
    "from readref import *\n",
    "\n",
    "import pandas as pd\n",
    "from bson.objectid import ObjectId\n",
    "import configparser\n",
    "from multiprocessing import Pool\n",
    "import pickle\n",
    "\n",
    "import matplotlib.pyplot as plt\n",
    "%matplotlib inline"
   ]
  },
  {
   "cell_type": "code",
   "execution_count": 182,
   "metadata": {},
   "outputs": [
    {
     "data": {
      "text/plain": [
       "MongoClient(host=['128.178.60.49:27017'], document_class=dict, tz_aware=False, connect=True, read_preference=Primary())"
      ]
     },
     "execution_count": 182,
     "metadata": {},
     "output_type": "execute_result"
    }
   ],
   "source": [
    "# Read the confidentials.\n",
    "credentials = configparser.ConfigParser()\n",
    "credentials.read('credentials.ini')\n",
    "\n",
    "# Connect to the database.\n",
    "connect(\n",
    "    db = credentials.get('lb', 'db'),\n",
    "    username = credentials.get('lb', 'username'),\n",
    "    password = credentials.get('lb', 'password'),\n",
    "    host = credentials.get('lb', 'host'), \n",
    "    port = int(credentials.get('lb', 'port')), \n",
    ")"
   ]
  },
  {
   "cell_type": "markdown",
   "metadata": {},
   "source": [
    "# Get Filtered References\n",
    "\n",
    "Assume the full reference should be like: \n",
    "- Author + Title + xxx\n",
    "- Title + Author + xxx\n",
    "- xxx + Author + Title\n",
    "- xxx + Title + Author"
   ]
  },
  {
   "cell_type": "code",
   "execution_count": 35,
   "metadata": {},
   "outputs": [],
   "source": [
    "refs = Reference.objects.filter(Q(contents__1__tag='author', contents__2__tag='title') |\n",
    "                                Q(contents__2__tag='author', contents__1__tag='title') |\n",
    "                                Q(contents__2__tag='author', contents__3__tag='title') |\n",
    "                                Q(contents__3__tag='author', contents__2__tag='title'))"
   ]
  },
  {
   "cell_type": "code",
   "execution_count": 36,
   "metadata": {},
   "outputs": [
    {
     "data": {
      "text/plain": [
       "3850581"
      ]
     },
     "execution_count": 36,
     "metadata": {},
     "output_type": "execute_result"
    }
   ],
   "source": [
    "Reference.objects.count()"
   ]
  },
  {
   "cell_type": "code",
   "execution_count": 37,
   "metadata": {},
   "outputs": [
    {
     "data": {
      "text/plain": [
       "1227978"
      ]
     },
     "execution_count": 37,
     "metadata": {},
     "output_type": "execute_result"
    }
   ],
   "source": [
    "refNum = refs.count()\n",
    "refNum"
   ]
  },
  {
   "cell_type": "code",
   "execution_count": 7,
   "metadata": {},
   "outputs": [
    {
     "name": "stdout",
     "output_type": "stream",
     "text": [
      "{'doc_id': ObjectId('595f9e11fe7683316b2dd3f5'), 'ref_id': ObjectId('58e4ce00fe7683152b55e325'), 'surface': 'ATTI DELL’ATENEO necrologio GIOVANNI MANETTI Fra i soci scomparsi, Γ Ateneo deve rimpiangere il Comm. Dr. Giovanni Manetti, cara e degnissima figura di vero galantuomo. A riposo, dopo avere a lungo coperto a Venezia Γ Ufficio di Consigliere di Prefettura, fu, durante la grande guerra, Commissario per i profughi Veneti rico- verati lungo i lidi Anconitani, profondendo in quest’ opera i tesori della sua filantropia illuminata e squisita. Fu poi Commissario per la fondazione Querini Stampalia e attivissimo Vice- presidente dell’ opera « Nave Asilo Scilla per gli orfani di pescatori » ; presiedette infine per lunghi anni, con costante e fervido amore, la « Cassa del piccolo Credito » e la «S. A. Cooperativa Bagni di Mare fra impiegati e professionisti» al Lido.', 'order': 68001, 'author': ['ATTI DELL’ATENEO necrologio GIOVANNI MANETTI'], 'title': ['Fra i soci scomparsi, Γ Ateneo deve rimpiangere il Comm. Dr. Giovanni Manetti, cara e degnissima figura di vero galantuomo. A riposo, dopo avere a lungo coperto a Venezia Γ Ufficio di Consigliere di Prefettura, fu, durante la grande guerra, Commissario per i profughi Veneti rico- verati lungo i lidi Anconitani, profondendo in quest’ opera i tesori della sua filantropia illuminata e squisita. Fu poi Commissario per la fondazione Querini Stampalia e attivissimo Vice- presidente dell’ opera « Nave Asilo Scilla per gli orfani di pescatori » ; presiedette infine per lunghi anni, con costante e fervido amore, la « Cassa del piccolo Credito » e la «S. A. Cooperativa Bagni di Mare fra impiegati e professionisti» al Lido.']}\n",
      "\n",
      "\n",
      "{'doc_id': ObjectId('595f9e37fe7683316b2dd4b4'), 'ref_id': ObjectId('58e4ce00fe7683152b55e328'), 'surface': 'Hans Tietzte - Tietzte Conrad The drawings of the Venetian painters New York, 1944, p. 222 N. 1180.', 'order': 48002, 'author': ['Hans Tietzte - Tietzte Conrad'], 'title': ['The drawings of the Venetian painters New'], 'year': ['1944,'], 'page': ['p. 222']}\n",
      "\n",
      "\n",
      "{'doc_id': ObjectId('595f9e37fe7683316b2dd4b4'), 'ref_id': ObjectId('58e4ce00fe7683152b55e32b'), 'surface': 'Heil Palma devant als Zeichner, in \"in Jahrbuch für Preussichen Kunstsammlungen 1926', 'order': 49001, 'author': ['Heil'], 'title': ['Palma devant als Zeichner,', 'Jahrbuch für Preussichen'], 'year': ['1926']}\n",
      "\n",
      "\n"
     ]
    },
    {
     "name": "stderr",
     "output_type": "stream",
     "text": [
      "/Users/suntao/anaconda3/envs/lb/lib/python3.6/site-packages/ipykernel/__main__.py:2: DeprecationWarning: generator 'QuerySet._iter_results' raised StopIteration\n",
      "  from ipykernel import kernelapp as app\n"
     ]
    }
   ],
   "source": [
    "# test\n",
    "for r in refs.limit(3):\n",
    "    print(read_ref(r))\n",
    "    print(\"\\n\")"
   ]
  },
  {
   "cell_type": "markdown",
   "metadata": {},
   "source": [
    "# Apply Hash Functions"
   ]
  },
  {
   "cell_type": "code",
   "execution_count": 8,
   "metadata": {},
   "outputs": [],
   "source": [
    "def read_hash(ref):\n",
    "    '''\n",
    "    Read reference and generate hashes.\n",
    "    '''\n",
    "    citation = read_ref(ref)\n",
    "    d = {\n",
    "        'doc_id' : citation['doc_id'],\n",
    "        'ref_id' : citation['ref_id'],\n",
    "        'surface' : citation['surface'],\n",
    "        'hashes' : hashCombined(citation)\n",
    "    }\n",
    "    return d"
   ]
  },
  {
   "cell_type": "code",
   "execution_count": 12,
   "metadata": {},
   "outputs": [
    {
     "name": "stderr",
     "output_type": "stream",
     "text": [
      "/Users/suntao/anaconda3/envs/lb/lib/python3.6/site-packages/pymongo/topology.py:145: UserWarning: MongoClient opened before fork. Create MongoClient with connect=False, or create client after forking. See PyMongo's documentation for details: http://api.mongodb.org/python/current/faq.html#pymongo-fork-safe>\n",
      "  \"MongoClient opened before fork. Create MongoClient \"\n",
      "/Users/suntao/anaconda3/envs/lb/lib/python3.6/site-packages/pymongo/topology.py:145: UserWarning: MongoClient opened before fork. Create MongoClient with connect=False, or create client after forking. See PyMongo's documentation for details: http://api.mongodb.org/python/current/faq.html#pymongo-fork-safe>\n",
      "  \"MongoClient opened before fork. Create MongoClient \"\n",
      "/Users/suntao/anaconda3/envs/lb/lib/python3.6/site-packages/pymongo/topology.py:145: UserWarning: MongoClient opened before fork. Create MongoClient with connect=False, or create client after forking. See PyMongo's documentation for details: http://api.mongodb.org/python/current/faq.html#pymongo-fork-safe>\n",
      "  \"MongoClient opened before fork. Create MongoClient \"\n",
      "/Users/suntao/anaconda3/envs/lb/lib/python3.6/site-packages/pymongo/topology.py:145: UserWarning: MongoClient opened before fork. Create MongoClient with connect=False, or create client after forking. See PyMongo's documentation for details: http://api.mongodb.org/python/current/faq.html#pymongo-fork-safe>\n",
      "  \"MongoClient opened before fork. Create MongoClient \"\n",
      "Process ForkPoolWorker-5:\n",
      "Process ForkPoolWorker-7:\n",
      "Process ForkPoolWorker-8:\n",
      "Process ForkPoolWorker-6:\n",
      "Traceback (most recent call last):\n",
      "  File \"/Users/suntao/anaconda3/envs/lb/lib/python3.6/multiprocessing/process.py\", line 258, in _bootstrap\n",
      "    self.run()\n",
      "  File \"/Users/suntao/anaconda3/envs/lb/lib/python3.6/multiprocessing/process.py\", line 93, in run\n",
      "    self._target(*self._args, **self._kwargs)\n",
      "  File \"/Users/suntao/anaconda3/envs/lb/lib/python3.6/multiprocessing/pool.py\", line 119, in worker\n",
      "    result = (True, func(*args, **kwds))\n",
      "  File \"/Users/suntao/anaconda3/envs/lb/lib/python3.6/multiprocessing/pool.py\", line 44, in mapstar\n",
      "    return list(map(*args))\n",
      "  File \"<ipython-input-8-94a547bd5929>\", line 5, in read_hash\n",
      "    citation = read_ref(ref)\n",
      "  File \"/Users/suntao/Studying/Semester Project/readref.py\", line 29, in read_ref\n",
      "    doc = ref.get_containing_publication()\n",
      "  File \"/Users/suntao/Studying/Semester Project/dbmodels.py\", line 298, in get_containing_publication\n",
      "    return Book.objects(document_id=self.document_id).get()\n",
      "  File \"/Users/suntao/anaconda3/envs/lb/lib/python3.6/site-packages/mongoengine/queryset/base.py\", line 272, in get\n",
      "    result = next(queryset)\n",
      "  File \"/Users/suntao/anaconda3/envs/lb/lib/python3.6/site-packages/mongoengine/queryset/base.py\", line 1466, in __next__\n",
      "    raw_doc = next(self._cursor)\n",
      "  File \"/Users/suntao/anaconda3/envs/lb/lib/python3.6/site-packages/mongoengine/queryset/base.py\", line 1547, in _cursor\n",
      "    self._cursor_obj = self._collection.find(self._query,\n",
      "  File \"/Users/suntao/anaconda3/envs/lb/lib/python3.6/site-packages/mongoengine/queryset/base.py\", line 1590, in _query\n",
      "    self._mongo_query = self._query_obj.to_query(self._document)\n",
      "  File \"/Users/suntao/anaconda3/envs/lb/lib/python3.6/site-packages/mongoengine/queryset/visitor.py\", line 89, in to_query\n",
      "    query = query.accept(QueryCompilerVisitor(document))\n",
      "  File \"/Users/suntao/anaconda3/envs/lb/lib/python3.6/site-packages/mongoengine/queryset/visitor.py\", line 155, in accept\n",
      "    return visitor.visit_query(self)\n",
      "  File \"/Users/suntao/anaconda3/envs/lb/lib/python3.6/site-packages/mongoengine/queryset/visitor.py\", line 78, in visit_query\n",
      "    return transform.query(self.document, **query.query)\n",
      "  File \"/Users/suntao/anaconda3/envs/lb/lib/python3.6/site-packages/mongoengine/queryset/transform.py\", line 35, in query\n",
      "    merge_query = defaultdict(list)\n",
      "KeyboardInterrupt\n",
      "Traceback (most recent call last):\n",
      "Traceback (most recent call last):\n",
      "Traceback (most recent call last):\n",
      "  File \"/Users/suntao/anaconda3/envs/lb/lib/python3.6/multiprocessing/process.py\", line 258, in _bootstrap\n",
      "    self.run()\n",
      "  File \"/Users/suntao/anaconda3/envs/lb/lib/python3.6/multiprocessing/process.py\", line 258, in _bootstrap\n",
      "    self.run()\n",
      "  File \"/Users/suntao/anaconda3/envs/lb/lib/python3.6/multiprocessing/process.py\", line 258, in _bootstrap\n",
      "    self.run()\n",
      "  File \"/Users/suntao/anaconda3/envs/lb/lib/python3.6/multiprocessing/process.py\", line 93, in run\n",
      "    self._target(*self._args, **self._kwargs)\n",
      "  File \"/Users/suntao/anaconda3/envs/lb/lib/python3.6/multiprocessing/process.py\", line 93, in run\n",
      "    self._target(*self._args, **self._kwargs)\n",
      "  File \"/Users/suntao/anaconda3/envs/lb/lib/python3.6/multiprocessing/pool.py\", line 119, in worker\n",
      "    result = (True, func(*args, **kwds))\n",
      "  File \"/Users/suntao/anaconda3/envs/lb/lib/python3.6/multiprocessing/process.py\", line 93, in run\n",
      "    self._target(*self._args, **self._kwargs)\n",
      "  File \"/Users/suntao/anaconda3/envs/lb/lib/python3.6/multiprocessing/pool.py\", line 119, in worker\n",
      "    result = (True, func(*args, **kwds))\n",
      "  File \"/Users/suntao/anaconda3/envs/lb/lib/python3.6/multiprocessing/pool.py\", line 44, in mapstar\n",
      "    return list(map(*args))\n",
      "  File \"/Users/suntao/anaconda3/envs/lb/lib/python3.6/multiprocessing/pool.py\", line 119, in worker\n",
      "    result = (True, func(*args, **kwds))\n",
      "  File \"/Users/suntao/anaconda3/envs/lb/lib/python3.6/multiprocessing/pool.py\", line 44, in mapstar\n",
      "    return list(map(*args))\n",
      "  File \"/Users/suntao/anaconda3/envs/lb/lib/python3.6/multiprocessing/pool.py\", line 44, in mapstar\n",
      "    return list(map(*args))\n",
      "  File \"<ipython-input-8-94a547bd5929>\", line 5, in read_hash\n",
      "    citation = read_ref(ref)\n",
      "  File \"<ipython-input-8-94a547bd5929>\", line 5, in read_hash\n",
      "    citation = read_ref(ref)\n",
      "  File \"/Users/suntao/Studying/Semester Project/readref.py\", line 29, in read_ref\n",
      "    doc = ref.get_containing_publication()\n",
      "  File \"<ipython-input-8-94a547bd5929>\", line 5, in read_hash\n",
      "    citation = read_ref(ref)\n",
      "  File \"/Users/suntao/Studying/Semester Project/readref.py\", line 29, in read_ref\n",
      "    doc = ref.get_containing_publication()\n",
      "  File \"/Users/suntao/Studying/Semester Project/readref.py\", line 29, in read_ref\n",
      "    doc = ref.get_containing_publication()\n",
      "  File \"/Users/suntao/Studying/Semester Project/dbmodels.py\", line 298, in get_containing_publication\n",
      "    return Book.objects(document_id=self.document_id).get()\n",
      "  File \"/Users/suntao/Studying/Semester Project/dbmodels.py\", line 298, in get_containing_publication\n",
      "    return Book.objects(document_id=self.document_id).get()\n",
      "  File \"/Users/suntao/anaconda3/envs/lb/lib/python3.6/site-packages/mongoengine/queryset/base.py\", line 272, in get\n",
      "    result = next(queryset)\n",
      "  File \"/Users/suntao/Studying/Semester Project/dbmodels.py\", line 298, in get_containing_publication\n",
      "    return Book.objects(document_id=self.document_id).get()\n",
      "  File \"/Users/suntao/anaconda3/envs/lb/lib/python3.6/site-packages/mongoengine/queryset/base.py\", line 1466, in __next__\n",
      "    raw_doc = next(self._cursor)\n",
      "  File \"/Users/suntao/anaconda3/envs/lb/lib/python3.6/site-packages/mongoengine/queryset/base.py\", line 272, in get\n",
      "    result = next(queryset)\n",
      "  File \"/Users/suntao/anaconda3/envs/lb/lib/python3.6/site-packages/mongoengine/queryset/base.py\", line 272, in get\n",
      "    result = next(queryset)\n",
      "  File \"/Users/suntao/anaconda3/envs/lb/lib/python3.6/site-packages/pymongo/cursor.py\", line 1114, in next\n",
      "    if len(self.__data) or self._refresh():\n",
      "  File \"/Users/suntao/anaconda3/envs/lb/lib/python3.6/site-packages/mongoengine/queryset/base.py\", line 1466, in __next__\n",
      "    raw_doc = next(self._cursor)\n",
      "  File \"/Users/suntao/anaconda3/envs/lb/lib/python3.6/site-packages/pymongo/cursor.py\", line 1036, in _refresh\n",
      "    self.__collation))\n",
      "  File \"/Users/suntao/anaconda3/envs/lb/lib/python3.6/site-packages/mongoengine/queryset/base.py\", line 1466, in __next__\n",
      "    raw_doc = next(self._cursor)\n",
      "  File \"/Users/suntao/anaconda3/envs/lb/lib/python3.6/site-packages/pymongo/cursor.py\", line 1114, in next\n",
      "    if len(self.__data) or self._refresh():\n",
      "  File \"/Users/suntao/anaconda3/envs/lb/lib/python3.6/site-packages/pymongo/cursor.py\", line 873, in __send_message\n",
      "    **kwargs)\n",
      "  File \"/Users/suntao/anaconda3/envs/lb/lib/python3.6/site-packages/pymongo/cursor.py\", line 1114, in next\n",
      "    if len(self.__data) or self._refresh():\n"
     ]
    },
    {
     "name": "stderr",
     "output_type": "stream",
     "text": [
      "  File \"/Users/suntao/anaconda3/envs/lb/lib/python3.6/site-packages/pymongo/cursor.py\", line 1036, in _refresh\n",
      "    self.__collation))\n",
      "  File \"/Users/suntao/anaconda3/envs/lb/lib/python3.6/site-packages/pymongo/mongo_client.py\", line 905, in _send_message_with_response\n",
      "    exhaust)\n",
      "  File \"/Users/suntao/anaconda3/envs/lb/lib/python3.6/site-packages/pymongo/cursor.py\", line 1036, in _refresh\n",
      "    self.__collation))\n",
      "  File \"/Users/suntao/anaconda3/envs/lb/lib/python3.6/site-packages/pymongo/cursor.py\", line 873, in __send_message\n",
      "    **kwargs)\n",
      "  File \"/Users/suntao/anaconda3/envs/lb/lib/python3.6/site-packages/pymongo/cursor.py\", line 873, in __send_message\n",
      "    **kwargs)\n",
      "  File \"/Users/suntao/anaconda3/envs/lb/lib/python3.6/site-packages/pymongo/mongo_client.py\", line 916, in _reset_on_error\n",
      "    return func(*args, **kwargs)\n",
      "  File \"/Users/suntao/anaconda3/envs/lb/lib/python3.6/site-packages/pymongo/mongo_client.py\", line 905, in _send_message_with_response\n",
      "    exhaust)\n",
      "  File \"/Users/suntao/anaconda3/envs/lb/lib/python3.6/site-packages/pymongo/mongo_client.py\", line 905, in _send_message_with_response\n",
      "    exhaust)\n",
      "  File \"/Users/suntao/anaconda3/envs/lb/lib/python3.6/site-packages/pymongo/server.py\", line 136, in send_message_with_response\n",
      "    response_data = sock_info.receive_message(1, request_id)\n",
      "  File \"/Users/suntao/anaconda3/envs/lb/lib/python3.6/site-packages/pymongo/mongo_client.py\", line 916, in _reset_on_error\n",
      "    return func(*args, **kwargs)\n",
      "  File \"/Users/suntao/anaconda3/envs/lb/lib/python3.6/site-packages/pymongo/mongo_client.py\", line 916, in _reset_on_error\n",
      "    return func(*args, **kwargs)\n",
      "  File \"/Users/suntao/anaconda3/envs/lb/lib/python3.6/site-packages/pymongo/server.py\", line 136, in send_message_with_response\n",
      "    response_data = sock_info.receive_message(1, request_id)\n",
      "  File \"/Users/suntao/anaconda3/envs/lb/lib/python3.6/site-packages/pymongo/server.py\", line 136, in send_message_with_response\n",
      "    response_data = sock_info.receive_message(1, request_id)\n",
      "  File \"/Users/suntao/anaconda3/envs/lb/lib/python3.6/site-packages/pymongo/pool.py\", line 452, in receive_message\n",
      "    self._raise_connection_failure(error)\n",
      "  File \"/Users/suntao/anaconda3/envs/lb/lib/python3.6/site-packages/pymongo/pool.py\", line 452, in receive_message\n",
      "    self._raise_connection_failure(error)\n",
      "  File \"/Users/suntao/anaconda3/envs/lb/lib/python3.6/site-packages/pymongo/pool.py\", line 452, in receive_message\n",
      "    self._raise_connection_failure(error)\n",
      "  File \"/Users/suntao/anaconda3/envs/lb/lib/python3.6/site-packages/pymongo/pool.py\", line 552, in _raise_connection_failure\n",
      "    raise error\n",
      "  File \"/Users/suntao/anaconda3/envs/lb/lib/python3.6/site-packages/pymongo/pool.py\", line 552, in _raise_connection_failure\n",
      "    raise error\n",
      "  File \"/Users/suntao/anaconda3/envs/lb/lib/python3.6/site-packages/pymongo/pool.py\", line 450, in receive_message\n",
      "    self.sock, operation, request_id, self.max_message_size)\n",
      "  File \"/Users/suntao/anaconda3/envs/lb/lib/python3.6/site-packages/pymongo/pool.py\", line 552, in _raise_connection_failure\n",
      "    raise error\n",
      "  File \"/Users/suntao/anaconda3/envs/lb/lib/python3.6/site-packages/pymongo/pool.py\", line 450, in receive_message\n",
      "    self.sock, operation, request_id, self.max_message_size)\n",
      "  File \"/Users/suntao/anaconda3/envs/lb/lib/python3.6/site-packages/pymongo/pool.py\", line 450, in receive_message\n",
      "    self.sock, operation, request_id, self.max_message_size)\n",
      "  File \"/Users/suntao/anaconda3/envs/lb/lib/python3.6/site-packages/pymongo/network.py\", line 137, in receive_message\n",
      "    header = _receive_data_on_socket(sock, 16)\n",
      "  File \"/Users/suntao/anaconda3/envs/lb/lib/python3.6/site-packages/pymongo/network.py\", line 137, in receive_message\n",
      "    header = _receive_data_on_socket(sock, 16)\n",
      "  File \"/Users/suntao/anaconda3/envs/lb/lib/python3.6/site-packages/pymongo/network.py\", line 137, in receive_message\n",
      "    header = _receive_data_on_socket(sock, 16)\n",
      "  File \"/Users/suntao/anaconda3/envs/lb/lib/python3.6/site-packages/pymongo/network.py\", line 164, in _receive_data_on_socket\n",
      "    chunk = sock.recv(length)\n",
      "  File \"/Users/suntao/anaconda3/envs/lb/lib/python3.6/site-packages/pymongo/network.py\", line 164, in _receive_data_on_socket\n",
      "    chunk = sock.recv(length)\n",
      "  File \"/Users/suntao/anaconda3/envs/lb/lib/python3.6/site-packages/pymongo/network.py\", line 164, in _receive_data_on_socket\n",
      "    chunk = sock.recv(length)\n",
      "KeyboardInterrupt\n",
      "KeyboardInterrupt\n",
      "KeyboardInterrupt\n"
     ]
    }
   ],
   "source": [
    "pool = Pool()"
   ]
  },
  {
   "cell_type": "code",
   "execution_count": 10,
   "metadata": {},
   "outputs": [
    {
     "data": {
      "text/html": [
       "<div>\n",
       "<style scoped>\n",
       "    .dataframe tbody tr th:only-of-type {\n",
       "        vertical-align: middle;\n",
       "    }\n",
       "\n",
       "    .dataframe tbody tr th {\n",
       "        vertical-align: top;\n",
       "    }\n",
       "\n",
       "    .dataframe thead th {\n",
       "        text-align: right;\n",
       "    }\n",
       "</style>\n",
       "<table border=\"1\" class=\"dataframe\">\n",
       "  <thead>\n",
       "    <tr style=\"text-align: right;\">\n",
       "      <th></th>\n",
       "      <th>doc_id</th>\n",
       "      <th>hashes</th>\n",
       "      <th>ref_id</th>\n",
       "      <th>surface</th>\n",
       "    </tr>\n",
       "  </thead>\n",
       "  <tbody>\n",
       "    <tr>\n",
       "      <th>0</th>\n",
       "      <td>595f9e11fe7683316b2dd3f5</td>\n",
       "      <td>[giovanni#asilo#scilla, ateneo#soci#scomparsi,...</td>\n",
       "      <td>58e4ce00fe7683152b55e325</td>\n",
       "      <td>ATTI DELL’ATENEO necrologio GIOVANNI MANETTI F...</td>\n",
       "    </tr>\n",
       "    <tr>\n",
       "      <th>1</th>\n",
       "      <td>595f9e37fe7683316b2dd4b4</td>\n",
       "      <td>[hans#drawings#the, hans#1943#221, the#drawing...</td>\n",
       "      <td>58e4ce00fe7683152b55e328</td>\n",
       "      <td>Hans Tietzte - Tietzte Conrad The drawings of ...</td>\n",
       "    </tr>\n",
       "    <tr>\n",
       "      <th>2</th>\n",
       "      <td>595f9e37fe7683316b2dd4b4</td>\n",
       "      <td>[devant#als, heil#palma#devant#als#zeichner#ja...</td>\n",
       "      <td>58e4ce00fe7683152b55e32b</td>\n",
       "      <td>Heil Palma devant als Zeichner, in \"in Jahrbuc...</td>\n",
       "    </tr>\n",
       "  </tbody>\n",
       "</table>\n",
       "</div>"
      ],
      "text/plain": [
       "                     doc_id  \\\n",
       "0  595f9e11fe7683316b2dd3f5   \n",
       "1  595f9e37fe7683316b2dd4b4   \n",
       "2  595f9e37fe7683316b2dd4b4   \n",
       "\n",
       "                                              hashes  \\\n",
       "0  [giovanni#asilo#scilla, ateneo#soci#scomparsi,...   \n",
       "1  [hans#drawings#the, hans#1943#221, the#drawing...   \n",
       "2  [devant#als, heil#palma#devant#als#zeichner#ja...   \n",
       "\n",
       "                     ref_id                                            surface  \n",
       "0  58e4ce00fe7683152b55e325  ATTI DELL’ATENEO necrologio GIOVANNI MANETTI F...  \n",
       "1  58e4ce00fe7683152b55e328  Hans Tietzte - Tietzte Conrad The drawings of ...  \n",
       "2  58e4ce00fe7683152b55e32b  Heil Palma devant als Zeichner, in \"in Jahrbuc...  "
      ]
     },
     "execution_count": 10,
     "metadata": {},
     "output_type": "execute_result"
    }
   ],
   "source": [
    "# test\n",
    "temp = pool.map(read_hash, refs.limit(3))\n",
    "df = pd.DataFrame(temp)\n",
    "df.head()"
   ]
  },
  {
   "cell_type": "code",
   "execution_count": null,
   "metadata": {},
   "outputs": [],
   "source": [
    "df = pd.read_pickle('hashsample.pickle')"
   ]
  },
  {
   "cell_type": "code",
   "execution_count": 13,
   "metadata": {
    "scrolled": true
   },
   "outputs": [
    {
     "name": "stdout",
     "output_type": "stream",
     "text": [
      "Now we are at 0.\n",
      "Now we are at 50000.\n",
      "Now we are at 100000.\n",
      "Now we are at 150000.\n",
      "Now we are at 200000.\n",
      "Now we are at 250000.\n",
      "Now we are at 300000.\n",
      "Now we are at 350000.\n",
      "Now we are at 400000.\n"
     ]
    },
    {
     "ename": "KeyboardInterrupt",
     "evalue": "",
     "output_type": "error",
     "traceback": [
      "\u001b[0;31m---------------------------------------------------------------------------\u001b[0m",
      "\u001b[0;31mKeyboardInterrupt\u001b[0m                         Traceback (most recent call last)",
      "\u001b[0;32m<ipython-input-13-c2351ca4ed2f>\u001b[0m in \u001b[0;36m<module>\u001b[0;34m()\u001b[0m\n\u001b[1;32m      2\u001b[0m \u001b[0;32mfor\u001b[0m \u001b[0mi\u001b[0m \u001b[0;32min\u001b[0m \u001b[0mrange\u001b[0m\u001b[0;34m(\u001b[0m\u001b[0;36m0\u001b[0m\u001b[0;34m,\u001b[0m \u001b[0mrefNum\u001b[0m\u001b[0;34m,\u001b[0m \u001b[0;36m50000\u001b[0m\u001b[0;34m)\u001b[0m\u001b[0;34m:\u001b[0m\u001b[0;34m\u001b[0m\u001b[0m\n\u001b[1;32m      3\u001b[0m     \u001b[0mprint\u001b[0m\u001b[0;34m(\u001b[0m\u001b[0;34m\"Now we are at {}.\"\u001b[0m\u001b[0;34m.\u001b[0m\u001b[0mformat\u001b[0m\u001b[0;34m(\u001b[0m\u001b[0mi\u001b[0m\u001b[0;34m)\u001b[0m\u001b[0;34m)\u001b[0m\u001b[0;34m\u001b[0m\u001b[0m\n\u001b[0;32m----> 4\u001b[0;31m     \u001b[0mtemp\u001b[0m \u001b[0;34m=\u001b[0m \u001b[0mpool\u001b[0m\u001b[0;34m.\u001b[0m\u001b[0mmap\u001b[0m\u001b[0;34m(\u001b[0m\u001b[0mread_hash\u001b[0m\u001b[0;34m,\u001b[0m \u001b[0mrefs\u001b[0m\u001b[0;34m[\u001b[0m\u001b[0mi\u001b[0m\u001b[0;34m:\u001b[0m\u001b[0mi\u001b[0m\u001b[0;34m+\u001b[0m\u001b[0;36m50000\u001b[0m\u001b[0;34m]\u001b[0m\u001b[0;34m)\u001b[0m\u001b[0;34m\u001b[0m\u001b[0m\n\u001b[0m\u001b[1;32m      5\u001b[0m     \u001b[0mdf_temp\u001b[0m \u001b[0;34m=\u001b[0m \u001b[0mpd\u001b[0m\u001b[0;34m.\u001b[0m\u001b[0mDataFrame\u001b[0m\u001b[0;34m(\u001b[0m\u001b[0mtemp\u001b[0m\u001b[0;34m)\u001b[0m\u001b[0;34m\u001b[0m\u001b[0m\n\u001b[1;32m      6\u001b[0m     \u001b[0mdf\u001b[0m \u001b[0;34m=\u001b[0m \u001b[0mdf\u001b[0m\u001b[0;34m.\u001b[0m\u001b[0mappend\u001b[0m\u001b[0;34m(\u001b[0m\u001b[0mdf_temp\u001b[0m\u001b[0;34m)\u001b[0m\u001b[0;34m\u001b[0m\u001b[0m\n",
      "\u001b[0;32m/Users/suntao/anaconda3/envs/lb/lib/python3.6/multiprocessing/pool.py\u001b[0m in \u001b[0;36mmap\u001b[0;34m(self, func, iterable, chunksize)\u001b[0m\n\u001b[1;32m    264\u001b[0m         \u001b[0;32min\u001b[0m \u001b[0ma\u001b[0m \u001b[0mlist\u001b[0m \u001b[0mthat\u001b[0m \u001b[0;32mis\u001b[0m \u001b[0mreturned\u001b[0m\u001b[0;34m.\u001b[0m\u001b[0;34m\u001b[0m\u001b[0m\n\u001b[1;32m    265\u001b[0m         '''\n\u001b[0;32m--> 266\u001b[0;31m         \u001b[0;32mreturn\u001b[0m \u001b[0mself\u001b[0m\u001b[0;34m.\u001b[0m\u001b[0m_map_async\u001b[0m\u001b[0;34m(\u001b[0m\u001b[0mfunc\u001b[0m\u001b[0;34m,\u001b[0m \u001b[0miterable\u001b[0m\u001b[0;34m,\u001b[0m \u001b[0mmapstar\u001b[0m\u001b[0;34m,\u001b[0m \u001b[0mchunksize\u001b[0m\u001b[0;34m)\u001b[0m\u001b[0;34m.\u001b[0m\u001b[0mget\u001b[0m\u001b[0;34m(\u001b[0m\u001b[0;34m)\u001b[0m\u001b[0;34m\u001b[0m\u001b[0m\n\u001b[0m\u001b[1;32m    267\u001b[0m \u001b[0;34m\u001b[0m\u001b[0m\n\u001b[1;32m    268\u001b[0m     \u001b[0;32mdef\u001b[0m \u001b[0mstarmap\u001b[0m\u001b[0;34m(\u001b[0m\u001b[0mself\u001b[0m\u001b[0;34m,\u001b[0m \u001b[0mfunc\u001b[0m\u001b[0;34m,\u001b[0m \u001b[0miterable\u001b[0m\u001b[0;34m,\u001b[0m \u001b[0mchunksize\u001b[0m\u001b[0;34m=\u001b[0m\u001b[0;32mNone\u001b[0m\u001b[0;34m)\u001b[0m\u001b[0;34m:\u001b[0m\u001b[0;34m\u001b[0m\u001b[0m\n",
      "\u001b[0;32m/Users/suntao/anaconda3/envs/lb/lib/python3.6/multiprocessing/pool.py\u001b[0m in \u001b[0;36mget\u001b[0;34m(self, timeout)\u001b[0m\n\u001b[1;32m    636\u001b[0m \u001b[0;34m\u001b[0m\u001b[0m\n\u001b[1;32m    637\u001b[0m     \u001b[0;32mdef\u001b[0m \u001b[0mget\u001b[0m\u001b[0;34m(\u001b[0m\u001b[0mself\u001b[0m\u001b[0;34m,\u001b[0m \u001b[0mtimeout\u001b[0m\u001b[0;34m=\u001b[0m\u001b[0;32mNone\u001b[0m\u001b[0;34m)\u001b[0m\u001b[0;34m:\u001b[0m\u001b[0;34m\u001b[0m\u001b[0m\n\u001b[0;32m--> 638\u001b[0;31m         \u001b[0mself\u001b[0m\u001b[0;34m.\u001b[0m\u001b[0mwait\u001b[0m\u001b[0;34m(\u001b[0m\u001b[0mtimeout\u001b[0m\u001b[0;34m)\u001b[0m\u001b[0;34m\u001b[0m\u001b[0m\n\u001b[0m\u001b[1;32m    639\u001b[0m         \u001b[0;32mif\u001b[0m \u001b[0;32mnot\u001b[0m \u001b[0mself\u001b[0m\u001b[0;34m.\u001b[0m\u001b[0mready\u001b[0m\u001b[0;34m(\u001b[0m\u001b[0;34m)\u001b[0m\u001b[0;34m:\u001b[0m\u001b[0;34m\u001b[0m\u001b[0m\n\u001b[1;32m    640\u001b[0m             \u001b[0;32mraise\u001b[0m \u001b[0mTimeoutError\u001b[0m\u001b[0;34m\u001b[0m\u001b[0m\n",
      "\u001b[0;32m/Users/suntao/anaconda3/envs/lb/lib/python3.6/multiprocessing/pool.py\u001b[0m in \u001b[0;36mwait\u001b[0;34m(self, timeout)\u001b[0m\n\u001b[1;32m    633\u001b[0m \u001b[0;34m\u001b[0m\u001b[0m\n\u001b[1;32m    634\u001b[0m     \u001b[0;32mdef\u001b[0m \u001b[0mwait\u001b[0m\u001b[0;34m(\u001b[0m\u001b[0mself\u001b[0m\u001b[0;34m,\u001b[0m \u001b[0mtimeout\u001b[0m\u001b[0;34m=\u001b[0m\u001b[0;32mNone\u001b[0m\u001b[0;34m)\u001b[0m\u001b[0;34m:\u001b[0m\u001b[0;34m\u001b[0m\u001b[0m\n\u001b[0;32m--> 635\u001b[0;31m         \u001b[0mself\u001b[0m\u001b[0;34m.\u001b[0m\u001b[0m_event\u001b[0m\u001b[0;34m.\u001b[0m\u001b[0mwait\u001b[0m\u001b[0;34m(\u001b[0m\u001b[0mtimeout\u001b[0m\u001b[0;34m)\u001b[0m\u001b[0;34m\u001b[0m\u001b[0m\n\u001b[0m\u001b[1;32m    636\u001b[0m \u001b[0;34m\u001b[0m\u001b[0m\n\u001b[1;32m    637\u001b[0m     \u001b[0;32mdef\u001b[0m \u001b[0mget\u001b[0m\u001b[0;34m(\u001b[0m\u001b[0mself\u001b[0m\u001b[0;34m,\u001b[0m \u001b[0mtimeout\u001b[0m\u001b[0;34m=\u001b[0m\u001b[0;32mNone\u001b[0m\u001b[0;34m)\u001b[0m\u001b[0;34m:\u001b[0m\u001b[0;34m\u001b[0m\u001b[0m\n",
      "\u001b[0;32m/Users/suntao/anaconda3/envs/lb/lib/python3.6/threading.py\u001b[0m in \u001b[0;36mwait\u001b[0;34m(self, timeout)\u001b[0m\n\u001b[1;32m    549\u001b[0m             \u001b[0msignaled\u001b[0m \u001b[0;34m=\u001b[0m \u001b[0mself\u001b[0m\u001b[0;34m.\u001b[0m\u001b[0m_flag\u001b[0m\u001b[0;34m\u001b[0m\u001b[0m\n\u001b[1;32m    550\u001b[0m             \u001b[0;32mif\u001b[0m \u001b[0;32mnot\u001b[0m \u001b[0msignaled\u001b[0m\u001b[0;34m:\u001b[0m\u001b[0;34m\u001b[0m\u001b[0m\n\u001b[0;32m--> 551\u001b[0;31m                 \u001b[0msignaled\u001b[0m \u001b[0;34m=\u001b[0m \u001b[0mself\u001b[0m\u001b[0;34m.\u001b[0m\u001b[0m_cond\u001b[0m\u001b[0;34m.\u001b[0m\u001b[0mwait\u001b[0m\u001b[0;34m(\u001b[0m\u001b[0mtimeout\u001b[0m\u001b[0;34m)\u001b[0m\u001b[0;34m\u001b[0m\u001b[0m\n\u001b[0m\u001b[1;32m    552\u001b[0m             \u001b[0;32mreturn\u001b[0m \u001b[0msignaled\u001b[0m\u001b[0;34m\u001b[0m\u001b[0m\n\u001b[1;32m    553\u001b[0m \u001b[0;34m\u001b[0m\u001b[0m\n",
      "\u001b[0;32m/Users/suntao/anaconda3/envs/lb/lib/python3.6/threading.py\u001b[0m in \u001b[0;36mwait\u001b[0;34m(self, timeout)\u001b[0m\n\u001b[1;32m    293\u001b[0m         \u001b[0;32mtry\u001b[0m\u001b[0;34m:\u001b[0m    \u001b[0;31m# restore state no matter what (e.g., KeyboardInterrupt)\u001b[0m\u001b[0;34m\u001b[0m\u001b[0m\n\u001b[1;32m    294\u001b[0m             \u001b[0;32mif\u001b[0m \u001b[0mtimeout\u001b[0m \u001b[0;32mis\u001b[0m \u001b[0;32mNone\u001b[0m\u001b[0;34m:\u001b[0m\u001b[0;34m\u001b[0m\u001b[0m\n\u001b[0;32m--> 295\u001b[0;31m                 \u001b[0mwaiter\u001b[0m\u001b[0;34m.\u001b[0m\u001b[0macquire\u001b[0m\u001b[0;34m(\u001b[0m\u001b[0;34m)\u001b[0m\u001b[0;34m\u001b[0m\u001b[0m\n\u001b[0m\u001b[1;32m    296\u001b[0m                 \u001b[0mgotit\u001b[0m \u001b[0;34m=\u001b[0m \u001b[0;32mTrue\u001b[0m\u001b[0;34m\u001b[0m\u001b[0m\n\u001b[1;32m    297\u001b[0m             \u001b[0;32melse\u001b[0m\u001b[0;34m:\u001b[0m\u001b[0;34m\u001b[0m\u001b[0m\n",
      "\u001b[0;31mKeyboardInterrupt\u001b[0m: "
     ]
    },
    {
     "name": "stderr",
     "output_type": "stream",
     "text": [
      "/Users/suntao/anaconda3/envs/lb/lib/python3.6/site-packages/pymongo/topology.py:145: UserWarning: MongoClient opened before fork. Create MongoClient with connect=False, or create client after forking. See PyMongo's documentation for details: http://api.mongodb.org/python/current/faq.html#pymongo-fork-safe>\n",
      "  \"MongoClient opened before fork. Create MongoClient \"\n",
      "/Users/suntao/anaconda3/envs/lb/lib/python3.6/site-packages/pymongo/topology.py:145: UserWarning: MongoClient opened before fork. Create MongoClient with connect=False, or create client after forking. See PyMongo's documentation for details: http://api.mongodb.org/python/current/faq.html#pymongo-fork-safe>\n",
      "  \"MongoClient opened before fork. Create MongoClient \"\n",
      "/Users/suntao/anaconda3/envs/lb/lib/python3.6/site-packages/pymongo/topology.py:145: UserWarning: MongoClient opened before fork. Create MongoClient with connect=False, or create client after forking. See PyMongo's documentation for details: http://api.mongodb.org/python/current/faq.html#pymongo-fork-safe>\n",
      "  \"MongoClient opened before fork. Create MongoClient \"\n",
      "/Users/suntao/anaconda3/envs/lb/lib/python3.6/site-packages/pymongo/topology.py:145: UserWarning: MongoClient opened before fork. Create MongoClient with connect=False, or create client after forking. See PyMongo's documentation for details: http://api.mongodb.org/python/current/faq.html#pymongo-fork-safe>\n",
      "  \"MongoClient opened before fork. Create MongoClient \"\n"
     ]
    }
   ],
   "source": [
    "df = pd.DataFrame()\n",
    "for i in range(0, refNum, 50000):\n",
    "    print(\"Now we are at {}.\".format(i))\n",
    "    temp = pool.map(read_hash, refs[i:i+50000])\n",
    "    df_temp = pd.DataFrame(temp)\n",
    "    df = df.append(df_temp)"
   ]
  },
  {
   "cell_type": "code",
   "execution_count": 14,
   "metadata": {
    "scrolled": true
   },
   "outputs": [
    {
     "data": {
      "text/html": [
       "<div>\n",
       "<style scoped>\n",
       "    .dataframe tbody tr th:only-of-type {\n",
       "        vertical-align: middle;\n",
       "    }\n",
       "\n",
       "    .dataframe tbody tr th {\n",
       "        vertical-align: top;\n",
       "    }\n",
       "\n",
       "    .dataframe thead th {\n",
       "        text-align: right;\n",
       "    }\n",
       "</style>\n",
       "<table border=\"1\" class=\"dataframe\">\n",
       "  <thead>\n",
       "    <tr style=\"text-align: right;\">\n",
       "      <th></th>\n",
       "      <th>doc_id</th>\n",
       "      <th>hashes</th>\n",
       "      <th>ref_id</th>\n",
       "      <th>surface</th>\n",
       "    </tr>\n",
       "  </thead>\n",
       "  <tbody>\n",
       "    <tr>\n",
       "      <th>0</th>\n",
       "      <td>595f9e11fe7683316b2dd3f5</td>\n",
       "      <td>[giovanni#asilo#scilla, ateneo#soci#scomparsi,...</td>\n",
       "      <td>58e4ce00fe7683152b55e325</td>\n",
       "      <td>ATTI DELL’ATENEO necrologio GIOVANNI MANETTI F...</td>\n",
       "    </tr>\n",
       "    <tr>\n",
       "      <th>1</th>\n",
       "      <td>595f9e37fe7683316b2dd4b4</td>\n",
       "      <td>[hans#drawings#the, hans#1943#221, the#drawing...</td>\n",
       "      <td>58e4ce00fe7683152b55e328</td>\n",
       "      <td>Hans Tietzte - Tietzte Conrad The drawings of ...</td>\n",
       "    </tr>\n",
       "    <tr>\n",
       "      <th>2</th>\n",
       "      <td>595f9e37fe7683316b2dd4b4</td>\n",
       "      <td>[devant#als, heil#palma#devant#als#zeichner#ja...</td>\n",
       "      <td>58e4ce00fe7683152b55e32b</td>\n",
       "      <td>Heil Palma devant als Zeichner, in \"in Jahrbuc...</td>\n",
       "    </tr>\n",
       "    <tr>\n",
       "      <th>3</th>\n",
       "      <td>595f9e0efe7683316b2dd3eb</td>\n",
       "      <td>[croce#modesti#innumerevoli, croce#vigilia#mor...</td>\n",
       "      <td>58e4ce00fe7683152b55e330</td>\n",
       "      <td>LA CROCE el vialetto che girava attorno allo s...</td>\n",
       "    </tr>\n",
       "    <tr>\n",
       "      <th>4</th>\n",
       "      <td>595f9f57fe7683316b2dda8c</td>\n",
       "      <td>[monticolo#1906#468, monticolo#1906#467, capit...</td>\n",
       "      <td>58e4ce00fe7683152b55e336</td>\n",
       "      <td>Monticolo, I capitolari delle arti veneziane, ...</td>\n",
       "    </tr>\n",
       "  </tbody>\n",
       "</table>\n",
       "</div>"
      ],
      "text/plain": [
       "                     doc_id  \\\n",
       "0  595f9e11fe7683316b2dd3f5   \n",
       "1  595f9e37fe7683316b2dd4b4   \n",
       "2  595f9e37fe7683316b2dd4b4   \n",
       "3  595f9e0efe7683316b2dd3eb   \n",
       "4  595f9f57fe7683316b2dda8c   \n",
       "\n",
       "                                              hashes  \\\n",
       "0  [giovanni#asilo#scilla, ateneo#soci#scomparsi,...   \n",
       "1  [hans#drawings#the, hans#1943#221, the#drawing...   \n",
       "2  [devant#als, heil#palma#devant#als#zeichner#ja...   \n",
       "3  [croce#modesti#innumerevoli, croce#vigilia#mor...   \n",
       "4  [monticolo#1906#468, monticolo#1906#467, capit...   \n",
       "\n",
       "                     ref_id                                            surface  \n",
       "0  58e4ce00fe7683152b55e325  ATTI DELL’ATENEO necrologio GIOVANNI MANETTI F...  \n",
       "1  58e4ce00fe7683152b55e328  Hans Tietzte - Tietzte Conrad The drawings of ...  \n",
       "2  58e4ce00fe7683152b55e32b  Heil Palma devant als Zeichner, in \"in Jahrbuc...  \n",
       "3  58e4ce00fe7683152b55e330  LA CROCE el vialetto che girava attorno allo s...  \n",
       "4  58e4ce00fe7683152b55e336  Monticolo, I capitolari delle arti veneziane, ...  "
      ]
     },
     "execution_count": 14,
     "metadata": {},
     "output_type": "execute_result"
    }
   ],
   "source": [
    "df.head()"
   ]
  },
  {
   "cell_type": "code",
   "execution_count": 15,
   "metadata": {},
   "outputs": [
    {
     "data": {
      "text/plain": [
       "400000"
      ]
     },
     "execution_count": 15,
     "metadata": {},
     "output_type": "execute_result"
    }
   ],
   "source": [
    "len(df)"
   ]
  },
  {
   "cell_type": "code",
   "execution_count": 16,
   "metadata": {},
   "outputs": [],
   "source": [
    "pool.close()"
   ]
  },
  {
   "cell_type": "code",
   "execution_count": 17,
   "metadata": {},
   "outputs": [],
   "source": [
    "df[:100000].to_pickle('hashsample1.pickle')\n",
    "df[100000:200000].to_pickle('hashsample2.pickle')\n",
    "df[200000:300000].to_pickle('hashsample3.pickle')\n",
    "df[300000:400000].to_pickle('hashsample4.pickle')"
   ]
  },
  {
   "cell_type": "code",
   "execution_count": null,
   "metadata": {},
   "outputs": [],
   "source": [
    "df.to_pickle('hashsample.pickle')"
   ]
  },
  {
   "cell_type": "code",
   "execution_count": null,
   "metadata": {},
   "outputs": [],
   "source": [
    "pool.join()"
   ]
  },
  {
   "cell_type": "markdown",
   "metadata": {},
   "source": [
    "# Map"
   ]
  },
  {
   "cell_type": "code",
   "execution_count": 3,
   "metadata": {},
   "outputs": [],
   "source": [
    "def splitHash(df):\n",
    "    s = df.apply(lambda x: pd.Series(x['hashes']),axis=1).stack().reset_index(level=1, drop=True)\n",
    "    s.name = 'hashtag'\n",
    "    return df.drop('hashes', axis=1).join(s)"
   ]
  },
  {
   "cell_type": "code",
   "execution_count": 58,
   "metadata": {},
   "outputs": [],
   "source": [
    "df = pd.read_pickle('hashsample.pickle')"
   ]
  },
  {
   "cell_type": "code",
   "execution_count": 61,
   "metadata": {
    "scrolled": true
   },
   "outputs": [],
   "source": [
    "df_sample_split = splitHash(df)"
   ]
  },
  {
   "cell_type": "markdown",
   "metadata": {},
   "source": [
    "# Hash Statistics"
   ]
  },
  {
   "cell_type": "code",
   "execution_count": 5,
   "metadata": {},
   "outputs": [
    {
     "name": "stdout",
     "output_type": "stream",
     "text": [
      "1\n",
      "2\n",
      "3\n",
      "4\n"
     ]
    }
   ],
   "source": [
    "list_groupby = []\n",
    "for i in range(1, 5):\n",
    "    print(i)\n",
    "    df_temp = pd.read_pickle(f\"./pickle/hash_split{i}.pickle\")\n",
    "    df_temp = df_temp.groupby('hashtag').count()[['ref_id']]\n",
    "    df_temp.columns = ['counts']\n",
    "    list_groupby.append(df_temp)\n",
    "df_all = pd.concat(list_groupby)"
   ]
  },
  {
   "cell_type": "code",
   "execution_count": 20,
   "metadata": {},
   "outputs": [],
   "source": [
    "df_all = df_all.groupby('hashtag').sum()\n",
    "\n",
    "df_all = df_all.sort_values('counts', ascending=False)\n",
    "\n",
    "df_all.to_pickle('./pickle/hash_stat.pickle')"
   ]
  },
  {
   "cell_type": "code",
   "execution_count": 53,
   "metadata": {},
   "outputs": [],
   "source": [
    "df_all = pd.read_pickle('./pickle/hash_stat.pickle')"
   ]
  },
  {
   "cell_type": "code",
   "execution_count": 54,
   "metadata": {},
   "outputs": [
    {
     "data": {
      "text/plain": [
       "k_group\n",
       "0    22374351\n",
       "1          67\n",
       "2          16\n",
       "3          21\n",
       "4           3\n",
       "6           1\n",
       "Name: counts, dtype: int64"
      ]
     },
     "execution_count": 54,
     "metadata": {},
     "output_type": "execute_result"
    }
   ],
   "source": [
    "# In thousands\n",
    "df_all['k_group'] = df_all['counts'].apply(lambda x: (x//1000))\n",
    "df_all.groupby('k_group')['counts'].count()"
   ]
  },
  {
   "cell_type": "code",
   "execution_count": 55,
   "metadata": {},
   "outputs": [
    {
     "data": {
      "text/plain": [
       "h_group\n",
       "0    22369404\n",
       "1        3587\n",
       "2         773\n",
       "3         289\n",
       "4         134\n",
       "5          58\n",
       "6          41\n",
       "7          27\n",
       "8          24\n",
       "9          14\n",
       "Name: counts, dtype: int64"
      ]
     },
     "execution_count": 55,
     "metadata": {},
     "output_type": "execute_result"
    }
   ],
   "source": [
    "# In hundreds, for those below 1,000\n",
    "df_all['h_group'] = df_all['counts'].apply(lambda x: (x//100))\n",
    "df_all[df_all.counts<1000].groupby('h_group')['counts'].count()"
   ]
  },
  {
   "cell_type": "code",
   "execution_count": 56,
   "metadata": {},
   "outputs": [
    {
     "data": {
      "text/plain": [
       "t_group\n",
       "0    22228720\n",
       "1       90892\n",
       "2       24089\n",
       "3       10675\n",
       "4        5635\n",
       "5        3282\n",
       "6        2410\n",
       "7        1609\n",
       "8        1179\n",
       "9         913\n",
       "Name: counts, dtype: int64"
      ]
     },
     "execution_count": 56,
     "metadata": {},
     "output_type": "execute_result"
    }
   ],
   "source": [
    "# In tens, for those below 100\n",
    "df_all['t_group'] = df_all['counts'].apply(lambda x: (x//10))\n",
    "df_all[df_all.counts<100].groupby('t_group')['counts'].count()"
   ]
  },
  {
   "cell_type": "code",
   "execution_count": 57,
   "metadata": {},
   "outputs": [
    {
     "data": {
      "text/plain": [
       "d_group\n",
       "1    20004324\n",
       "2     1401939\n",
       "3      380207\n",
       "4      178342\n",
       "5      100915\n",
       "6       63798\n",
       "7       43459\n",
       "8       31810\n",
       "9       23926\n",
       "Name: counts, dtype: int64"
      ]
     },
     "execution_count": 57,
     "metadata": {},
     "output_type": "execute_result"
    }
   ],
   "source": [
    "# In ones, for those below 10\n",
    "df_all['d_group'] = df_all['counts'].apply(lambda x: (x//1))\n",
    "df_all[df_all.counts<10].groupby('d_group')['counts'].count()"
   ]
  },
  {
   "cell_type": "code",
   "execution_count": 85,
   "metadata": {},
   "outputs": [
    {
     "data": {
      "text/plain": [
       "array(['repubblica#venezia', 'san#marco', 'storia#venezia',\n",
       "       'atti#convegno', 'cura#1985', 'eta#moderna', 'cura#1984',\n",
       "       'cura#1987', 'cura#1983', 'cura#1993', 'cura#1996', 'cura#1986',\n",
       "       'cura#1997', 'cura#1981', 'cura#1995', 'cura#1988', 'cura#1989',\n",
       "       'cura#1994', 'cura#1991', 'cura#1992', 'cura#1998',\n",
       "       'catalogo#mostra', 'cura#1990', 'cura#1982', 'cura#1980',\n",
       "       'renaissance#venice', 'storia#cultura', 'cultura#veneta',\n",
       "       'cura#1979', 'moyen#age', 'cura#1999', 'repubblica#veneta',\n",
       "       'cura#2000', 'storia#arte', 'cura#2001', 'cura#2002', 'cura#2003',\n",
       "       'secolo#xvi', 'cura#atti#convegno', 'cura#1978', 'cura#1973',\n",
       "       'cura#1977', 'cura#1974', 'cura#1972', 'cura#1968',\n",
       "       'dizionario#biografico', 'storia#italia', 'cura#1967', 'cura#2004',\n",
       "       'cura#1976', 'cura#1969', 'cura#1966', 'biografico#italiani',\n",
       "       'xvi#secolo', 'cura#1975', 'storia#economica', 'cura#1970',\n",
       "       'civilta#veneziana', 'venezia#eta', 'cura#2005', 'cura#1965',\n",
       "       'venezia#origini', 'palazzo#ducale', 'cura#1964', 'cura#1971',\n",
       "       'cura#1963', 'caduta#repubblica', 'scienze#lettere',\n",
       "       'xviii#secolo', 'cura#1962', 'secoli#xvi', 'lettere#arti',\n",
       "       'studi#onore', 'cura#1959', 'citta#venezia', 'cura#1961',\n",
       "       'cura#1960', 'cura#1958', 'sixteenth#century', 'archivio#veneto',\n",
       "       'cura#2006', 'pittura#veneziana', 'cura#storia#venezia',\n",
       "       'secoli#xiii', 'studi#storia', 'istituto#veneto', 'venezia#secoli',\n",
       "       'laguna#venezia', 'cura#catalogo#mostra',\n",
       "       'convegno#internazionale', 'middle#ages', 'secolo#xviii',\n",
       "       'santa#maria', 'cura#2007', 'arte#veneta', 'citta#nobilissima',\n",
       "       'cura#1957', 'storia#documentata', 'origini#caduta',\n",
       "       'veneto#scienze', 'venezia#venezia', 'letteratura#italiana',\n",
       "       'paolo#sarpi', 'venezia#vita', 'cura#1956',\n",
       "       'sansovino#citta#nobilissima', 'venetia#citta',\n",
       "       'cozzi#repubblica#venezia'], dtype=object)"
      ]
     },
     "execution_count": 85,
     "metadata": {},
     "output_type": "execute_result"
    }
   ],
   "source": [
    "# 1000+\n",
    "df_all[df_all.k_group>0].index.values"
   ]
  },
  {
   "cell_type": "markdown",
   "metadata": {},
   "source": [
    "1. `venezia` or `venetia` is quite common.\n",
    "2. `cultura` means 'culture' and `storia` means 'history'.\n",
    "3. `san#marco` is one of the six sestieri of Venice.\n",
    "4. 'atti del convegno' means 'conference proceedings'. `atti#convegno` is parsed as part of title.\n",
    "5. 'a cura di' means 'edited by'. `cura` is included in the hashtag as part of author due to parsing error.\n",
    "6. `eta#moderna` means 'modern age'; `moyen#age`, `middle#age` means 'middle age'. \n",
    "7. 'catalogo della mostra' means 'exhibition catalog'. `catalogo#mostra` is parsed as part of title.\n",
    "8. `xvi#secolo`, `secoli#xvi`, `sixteenth#century`,  `xviii#secolo`  means '16th century' or '18th century'.\n",
    "9. `dizionario#biografico`, `biografico#italiani` are part of 'Dizionario biografico degli Italiani', which is a biographical dictionary.\n",
    "10. `palazzo#ducale` is a palace built in Venetian Gothic style.\n",
    "11. `convegno#internazionale` means 'international conference'.\n",
    "12. `santa#maria` always showes up as part of church name.\n",
    "13. `citta#nobilissima`, `sansovino#citta#nobilissima` points to the reference 'Venetia città nobilissima et singolare' that is commonly cited.\n",
    "14. `origini#caduta` points to the reference 'Storia di Venezia nella vita privata dalle origini alla caduta della Repubblica' that is commonly cited.\n",
    "15. `paolo#sarpi` is an Italian historian.\n",
    "16. `cozzi#repubblica#venezia` is a combination of author 'cozzi' and title bigram 'repubblica#venezia' which is the favorite topic of this author.\n",
    "\n",
    "**Black List**:\n",
    "- `cura#...`\n",
    "- `san#marco`\n",
    "- `secolo`, `secoli`\n",
    "- `palazzo#ducale`\n",
    "- `paolo#sarpi`\n",
    "- `dizionario#biografico`, `biografico#italiani`"
   ]
  },
  {
   "cell_type": "code",
   "execution_count": 64,
   "metadata": {},
   "outputs": [
    {
     "data": {
      "text/plain": [
       "array(['medio#evo', 'storia#repubblica', 'cura#2008', 'memorie#storiche',\n",
       "       'seconda#meta', 'studi#storici', 'maggior#consiglio',\n",
       "       'seventeenth#century', 'nobilissima#singolare', 'xvii#xviii',\n",
       "       'secoli#xiv', 'andrea#palladio', 'sansovino#venetia#citta',\n",
       "       'vita#privata', 'storia#patria', 'documentata#venezia',\n",
       "       'venezia#secolo', 'storia#diritto', 'societa#veneta',\n",
       "       'luzzatto#storia#economica', 'internazionale#studi', 'fine#secolo',\n",
       "       'fifteenth#century', 'fino#secolo', 'marco#venezia',\n",
       "       'museo#correr', 'sansovino#nobilissima#singolare', 'chiesa#san',\n",
       "       'romanin#storia#documentata', 'medioevo#eta', 'early#modem',\n",
       "       'chiesa#venezia', 'arnaldi#cultura#veneta', 'ateneo#veneto',\n",
       "       'archivio#stato', 'caduta#serenissima', 'early#modern',\n",
       "       'stato#venezia', 'vita#opere', 'arnaldi#storia#cultura',\n",
       "       'romanin#documentata#venezia', 'patriziato#veneziano', 'cura#1955',\n",
       "       'aspetti#problemi', 'xvi#xviii', 'belle#arti', 'ducale#venezia',\n",
       "       'xvie#siecle', 'venezia#cinquecento', 'convegno#studi',\n",
       "       'marco#polo', 'italian#renaissance', 'xix#secolo', 'secolo#xiv',\n",
       "       'hale#1974', 'cura#eta#moderna', 'opere#arte', 'hale#1973',\n",
       "       'cessi#repubblica#venezia', 'hale#renaissance#venice',\n",
       "       'basilica#san', 'museo#civico', 'secoli#xvii', 'cura#2009',\n",
       "       'xvi#xvii', 'secolo#xvii', 'notizie#storiche',\n",
       "       'pastore#cultura#veneta', 'meta#secolo', 'xiii#xiv', 'secoli#xii',\n",
       "       'storia#chiesa', 'cura#1954', 'molmenti#vita#privata',\n",
       "       'molmenti#storia#venezia', 'hale#1972', 'pastore#storia#cultura',\n",
       "       'universita#padova', 'molmenti#venezia#vita',\n",
       "       'cura#repubblica#venezia', 'century#venice', 'laguna#veneta',\n",
       "       'cozzi#1981', 'eighteenth#century', 'economica#venezia',\n",
       "       'archivio#storico', 'venezia#rinascimento', 'san#giorgio',\n",
       "       'cenni#storici', 'stato#societa', 'alto#medioevo',\n",
       "       'cinque#seicento', 'scuola#grande', 'cozzi#1986', 'cura#1941',\n",
       "       'atti#istituto', 'renaissance#italy', 'giorgio#maggiore',\n",
       "       'giovanni#battista', 'letteratura#veneziana', 'sec#xvi',\n",
       "       'xve#siecle', 'venezia#roma', 'studi#veneziani', 'san#giovanni',\n",
       "       'ambasciatori#veneti', 'venezia#terraferma',\n",
       "       'convegno#intemazionale', 'xiii#secolo', 'concilio#trento',\n",
       "       'cura#storia#cultura', 'cura#convegno#internazionale',\n",
       "       'diritto#comune', 'stocchi#cultura#veneta', 'xvii#secolo',\n",
       "       'dogi#venezia', 'venezia#storia', 'canal#grande', 'venezia#fine',\n",
       "       'giovanni#paolo', 'stocchi#storia#cultura', 'venezia#ottocento',\n",
       "       'arte#italiana', 'cura#venezia#origini', 'curiosita#veneziane',\n",
       "       'pittori#scultori', 'architettura#scultura', 'dialetto#veneziano',\n",
       "       'venezia#settecento', 'medioevo#rinascimento', 'storia#civilta',\n",
       "       'new#york', 'republique#venise', 'atti#congresso',\n",
       "       'ecclesiae#venetae', 'economica#veneziana', 'daniele#manin',\n",
       "       'societa#stato', 'storia#letteratura', 'cura#1942',\n",
       "       'veneziana#secolo', 'stati#italiani', 'stato#veneziano',\n",
       "       'corner#1749', 'comune#venezia', 'societa#giustizia',\n",
       "       'corner#1748', 'cozzi#1985', 'beltrami#1955',\n",
       "       'cura#cultura#veneta', 'oriente#occidente', 'corner#1750',\n",
       "       'tafuri#1984', 'cura#2010', 'tenenti#storia#venezia',\n",
       "       'giustizia#repubblica', 'cura#1913', 'rinascimento#venezia',\n",
       "       'jacopo#sansovino', 'cura#1939', 'cozzi#1993', 'sec#xviii',\n",
       "       'inscrizioni#veneziane', 'luzzatto#1962'], dtype=object)"
      ]
     },
     "execution_count": 64,
     "metadata": {},
     "output_type": "execute_result"
    }
   ],
   "source": [
    "# 500-900+\n",
    "df_all[(df_all.counts<1000) & (df_all.h_group>=5)].index.values"
   ]
  },
  {
   "cell_type": "markdown",
   "metadata": {},
   "source": [
    "1. `medio#evo` means middle age.\n",
    "2. "
   ]
  },
  {
   "cell_type": "code",
   "execution_count": null,
   "metadata": {},
   "outputs": [],
   "source": [
    "df_1 = pd.read_pickle(\"./pickle/hash_split1.pickle\")"
   ]
  },
  {
   "cell_type": "code",
   "execution_count": 106,
   "metadata": {},
   "outputs": [
    {
     "name": "stdout",
     "output_type": "stream",
     "text": [
      "Bensa, Il contralto di assicurazione nel medio evo, Genova, 1884, p. 32 sg.;\n",
      "Augusto Torre, L’oggetto delle relazioni fra Ravenna e Venezia nel Medio evo in Miscel- lanea in onore di Roberto Cessi, Roma 1958, pp. 121-141.\n",
      "G. LUZZATTO, Le vicende del Porto di Venezia, dal primo Medio Evo allo scoppio della Guerra 1914-1918, in L. CANDIDA, Il Porto di Venezia, con introduzione storica di G. LUZZATTO, Venezia 1950, pp. 7-44,\n",
      "G. DE VERGOTTINI, Lineamenti storici della costituzione politica dell'Istria durante il Medio Evo, Roma 1924-25\n",
      "Flavio Testi, La musica italiana nel Medio Evo e nel Rinascimento, 1, Busto Arsizio, Bra- mante Editrice, 1977, pp. 395-396, n. 15.\n",
      "Pietro Selvatico, Sulla architettura e sulla scultura in Venezia dal Medio Evo sino ai nostri giorni, Venezia, Paolo Ripamonti Carpano, 1847;\n",
      "Camillo Borro, Architettura del Medio Evo in Italia, Milano, Hoepli, 1880, p. 308.\n",
      "PIETRO Selvatico, Sull’architettura e sulla scultura in Venezia. Dal Medio Evo sino ai giorni nostri. Studi di [...] per servire di guida estetica, Venezia, Ripamonti Carcano, 1847,\n",
      "R. Caggese, Classi e comuni rurali nel Medio Evo italiano. Saggio di storia economica e giuridica, I, Firenze, Tip. Galileiana, 1907.\n",
      "P. S. LEICHT, Studi sulla proprietà fondiaria nel Medio Evo, Padova, Drucker, 1907.\n",
      "R. Cessi, Note per la storia delle società di commercio nel Medio Evo in Italia, Roma, 1917;\n",
      "U. Monneret de Villard, L’organizzazione industriale nell’Italia longobarda durante l’alto Medio Evo, «Archivio storico lombardo», 1919;\n",
      "L. Zdekauer, Fiera e mercato in Italia sulla fine del Medio Evo, Macerata, Bianchini, 1920;\n",
      "G. Mengozzi, La città italiana nell’alto Medio Evo, 2a ed. Firenze, La Nuova Italia, 1931;\n",
      "F. Vaisecchi, Le corporazioni nell’organismo poli- tico del Medio Evo, Milano, Alpes, 1931;\n",
      "A. Solmi, L’amministrazione finanziaria del Regno Italico nell’alto Medio Evo, Pavia, 1932;\n",
      "F. Carli, Storia del commercio italiano. Il mercato nell’alto Medio Evo, Padova, Cedam, 1934, in «Giornale», s. IV, a. L, 1935, voi. LXXVI, n. 3, pp. 142-145.\n",
      "F. Carli, Storia del commercio italiano. Il mercato nell’alto Medio Evo, Padova, Cedam, 1934, in «Weltwirtschaftliches Archiv», n.s., a. XLII, 1935, p. 116.\n",
      "Doren, Storia economica dell’Italia nel Medio Evo, traduzione di G. Luzzatto, Padova, Cedam, (Vicenza, Coop. tip. «F. Corridoni»), 1936, 8°, pp. IV, 65156.\n",
      "G. FORNASIERl, G. Falco, La Santa Romana Repubblica. Profilo storico del Medio Evo, Napoli, Ricciardi, 1943.\n"
     ]
    }
   ],
   "source": [
    "for r in df_1[df_1.hashtag=='medio#evo'].head(20).surface:\n",
    "    print(r)"
   ]
  },
  {
   "cell_type": "markdown",
   "metadata": {},
   "source": [
    "# Map"
   ]
  },
  {
   "cell_type": "code",
   "execution_count": 92,
   "metadata": {},
   "outputs": [],
   "source": [
    "for i in [1, 2, 3, 4]:\n",
    "    df = pd.read_pickle(f\"./pickle/hash_split{i}.pickle\")\n",
    "    df.set_index('ref_id', inplace=True)\n",
    "    d = df.groupby('hashtag').groups\n",
    "    s = pd.Series(d)\n",
    "    s = s.apply(lambda x: x.values)\n",
    "    s.to_pickle(f'./pickle/hash_match{i}.pickle')"
   ]
  },
  {
   "cell_type": "code",
   "execution_count": 83,
   "metadata": {},
   "outputs": [],
   "source": [
    "s_1 = pd.read_pickle('./pickle/hash_match1.pickle')"
   ]
  },
  {
   "cell_type": "code",
   "execution_count": 94,
   "metadata": {},
   "outputs": [
    {
     "data": {
      "text/plain": [
       "000#000           [5919e9663dde944752f56652, 5919e96d3dde944752f...\n",
       "000#100                                  [58e4ce01fe7683152b592f60]\n",
       "000#1650                                 [59de7a2048e232540c5d5d85]\n",
       "000#1968                                 [59de7a2048e232540c5dcfb6]\n",
       "000#1968#-1#29                           [59de7a2048e232540c5dcfb6]\n",
       "dtype: object"
      ]
     },
     "execution_count": 94,
     "metadata": {},
     "output_type": "execute_result"
    }
   ],
   "source": [
    "s_1.head()"
   ]
  },
  {
   "cell_type": "markdown",
   "metadata": {},
   "source": [
    "# Select without black list"
   ]
  },
  {
   "cell_type": "code",
   "execution_count": 131,
   "metadata": {},
   "outputs": [],
   "source": [
    "s_1 = pd.read_pickle('./pickle/hash_match1.pickle')\n",
    "s_2 = pd.read_pickle('./pickle/hash_match2.pickle')\n",
    "s_3 = pd.read_pickle('./pickle/hash_match3.pickle')\n",
    "s_4 = pd.read_pickle('./pickle/hash_match4.pickle')"
   ]
  },
  {
   "cell_type": "code",
   "execution_count": 170,
   "metadata": {},
   "outputs": [],
   "source": [
    "df_1 = pd.read_pickle(\"./pickle/hash_ref1.pickle\")\n",
    "df_2 = pd.read_pickle(\"./pickle/hash_ref2.pickle\")\n",
    "df_3 = pd.read_pickle(\"./pickle/hash_ref3.pickle\")\n",
    "df_4 = pd.read_pickle(\"./pickle/hash_ref4.pickle\")"
   ]
  },
  {
   "cell_type": "code",
   "execution_count": 184,
   "metadata": {},
   "outputs": [],
   "source": [
    "hash_black = ['000#000']\n",
    "def find_match(record):\n",
    "    doc_id = record.doc_id\n",
    "    hashes_all = record.hashes\n",
    "    hashes = [h for h in hashes_all if h not in hash_black] # remove hashes in black list\n",
    "    set_result = set()\n",
    "    for s in [s_1, s_2, s_3, s_4]:\n",
    "        r = [r for rs in s.reindex(hashes).dropna().values for r in rs]\n",
    "             #if Reference.objects(id=r).first().get_containing_publication()!=doc_id]\n",
    "        r = set(r)\n",
    "        set_result = set_result.union(r) \n",
    "    return list(set_result)"
   ]
  },
  {
   "cell_type": "code",
   "execution_count": null,
   "metadata": {},
   "outputs": [],
   "source": [
    "for i, df in enumerate([df_1, df_2, df_3, df_4]):\n",
    "    print(i+1)\n",
    "    df['match'] = df['hashes'].apply(find_match)\n",
    "    print('store')\n",
    "    df.to_pickle('./pickle/hash_ref{}.pickle'.format(i+1))"
   ]
  },
  {
   "cell_type": "code",
   "execution_count": 172,
   "metadata": {},
   "outputs": [
    {
     "data": {
      "text/html": [
       "<div>\n",
       "<style scoped>\n",
       "    .dataframe tbody tr th:only-of-type {\n",
       "        vertical-align: middle;\n",
       "    }\n",
       "\n",
       "    .dataframe tbody tr th {\n",
       "        vertical-align: top;\n",
       "    }\n",
       "\n",
       "    .dataframe thead th {\n",
       "        text-align: right;\n",
       "    }\n",
       "</style>\n",
       "<table border=\"1\" class=\"dataframe\">\n",
       "  <thead>\n",
       "    <tr style=\"text-align: right;\">\n",
       "      <th></th>\n",
       "      <th>doc_id</th>\n",
       "      <th>hashes</th>\n",
       "      <th>ref_id</th>\n",
       "      <th>surface</th>\n",
       "      <th>match</th>\n",
       "    </tr>\n",
       "  </thead>\n",
       "  <tbody>\n",
       "    <tr>\n",
       "      <th>0</th>\n",
       "      <td>595f9e37fe7683316b2dd4b4</td>\n",
       "      <td>[conrad#1943#221, tietzte#tietzte#conrad#drawi...</td>\n",
       "      <td>58e4ce00fe7683152b55e328</td>\n",
       "      <td>Hans Tietzte - Tietzte Conrad The drawings of ...</td>\n",
       "      <td>[59df6ec59be3c75dd98c28bc, 59e23a5988316162134...</td>\n",
       "    </tr>\n",
       "    <tr>\n",
       "      <th>1</th>\n",
       "      <td>595f9e37fe7683316b2dd4b4</td>\n",
       "      <td>[heil#devant#zeichner, devant#zeichner, heil#p...</td>\n",
       "      <td>58e4ce00fe7683152b55e32b</td>\n",
       "      <td>Heil Palma devant als Zeichner, in \"in Jahrbuc...</td>\n",
       "      <td>[59e23a53883161621340307b, 58e4ce00fe7683152b5...</td>\n",
       "    </tr>\n",
       "    <tr>\n",
       "      <th>2</th>\n",
       "      <td>595f9f57fe7683316b2dda8c</td>\n",
       "      <td>[monticolo#1904#466, monticolo#1905#468, monti...</td>\n",
       "      <td>58e4ce00fe7683152b55e336</td>\n",
       "      <td>Monticolo, I capitolari delle arti veneziane, ...</td>\n",
       "      <td>[59e332f68831617f5edda08e, 59e333088831617f5ee...</td>\n",
       "    </tr>\n",
       "    <tr>\n",
       "      <th>3</th>\n",
       "      <td>595f9e2afe7683316b2dd476</td>\n",
       "      <td>[morassi#1942#91, morassi#1943#91, morassi#194...</td>\n",
       "      <td>58e4ce00fe7683152b55e33f</td>\n",
       "      <td>Morassi, Novità e precisazioni sul Tiepolo in ...</td>\n",
       "      <td>[59e23a58883161621344b833, 59df53d09be3c75c2e6...</td>\n",
       "    </tr>\n",
       "    <tr>\n",
       "      <th>4</th>\n",
       "      <td>595f9e39fe7683316b2dd4bc</td>\n",
       "      <td>[sanudo#itinerario#terra, sanudo#terra#venezia...</td>\n",
       "      <td>58e4ce00fe7683152b55e34f</td>\n",
       "      <td>M. Sañudo, Itinerario per la terra di Venezia ...</td>\n",
       "      <td>[59df53d09be3c75c2e687c85, 59e333098831617f5ee...</td>\n",
       "    </tr>\n",
       "  </tbody>\n",
       "</table>\n",
       "</div>"
      ],
      "text/plain": [
       "                     doc_id  \\\n",
       "0  595f9e37fe7683316b2dd4b4   \n",
       "1  595f9e37fe7683316b2dd4b4   \n",
       "2  595f9f57fe7683316b2dda8c   \n",
       "3  595f9e2afe7683316b2dd476   \n",
       "4  595f9e39fe7683316b2dd4bc   \n",
       "\n",
       "                                              hashes  \\\n",
       "0  [conrad#1943#221, tietzte#tietzte#conrad#drawi...   \n",
       "1  [heil#devant#zeichner, devant#zeichner, heil#p...   \n",
       "2  [monticolo#1904#466, monticolo#1905#468, monti...   \n",
       "3  [morassi#1942#91, morassi#1943#91, morassi#194...   \n",
       "4  [sanudo#itinerario#terra, sanudo#terra#venezia...   \n",
       "\n",
       "                     ref_id  \\\n",
       "0  58e4ce00fe7683152b55e328   \n",
       "1  58e4ce00fe7683152b55e32b   \n",
       "2  58e4ce00fe7683152b55e336   \n",
       "3  58e4ce00fe7683152b55e33f   \n",
       "4  58e4ce00fe7683152b55e34f   \n",
       "\n",
       "                                             surface  \\\n",
       "0  Hans Tietzte - Tietzte Conrad The drawings of ...   \n",
       "1  Heil Palma devant als Zeichner, in \"in Jahrbuc...   \n",
       "2  Monticolo, I capitolari delle arti veneziane, ...   \n",
       "3  Morassi, Novità e precisazioni sul Tiepolo in ...   \n",
       "4  M. Sañudo, Itinerario per la terra di Venezia ...   \n",
       "\n",
       "                                               match  \n",
       "0  [59df6ec59be3c75dd98c28bc, 59e23a5988316162134...  \n",
       "1  [59e23a53883161621340307b, 58e4ce00fe7683152b5...  \n",
       "2  [59e332f68831617f5edda08e, 59e333088831617f5ee...  \n",
       "3  [59e23a58883161621344b833, 59df53d09be3c75c2e6...  \n",
       "4  [59df53d09be3c75c2e687c85, 59e333098831617f5ee...  "
      ]
     },
     "execution_count": 172,
     "metadata": {},
     "output_type": "execute_result"
    }
   ],
   "source": [
    "df_1.head()"
   ]
  },
  {
   "cell_type": "code",
   "execution_count": 173,
   "metadata": {},
   "outputs": [],
   "source": [
    "df_sample = df_1.iloc[:3]"
   ]
  },
  {
   "cell_type": "code",
   "execution_count": null,
   "metadata": {},
   "outputs": [],
   "source": [
    "df_sample['new_match'] = df_sample.apply(find_match, axis=1)"
   ]
  },
  {
   "cell_type": "markdown",
   "metadata": {},
   "source": [
    "# Filter Out Possible \"Full\" References"
   ]
  },
  {
   "cell_type": "code",
   "execution_count": 3,
   "metadata": {},
   "outputs": [],
   "source": [
    "# function for the reference resolutions\n",
    "def retain_reference(journal_reference, min_size=3, required_fields=[\"author\",\"title\"]):\n",
    "    \"\"\"\n",
    "    Determine whether the input reference should be retained, and thus resolved, or skipped.\n",
    "    This allows to skip erroneously extracted references, partial ones, etc.\n",
    "    :param journal_reference: the input reference (extracted from journals in LinkedBooks)\n",
    "    :type journal_reference: dict\n",
    "    :param min_size: the minimum number of fields `journal_reference` must have\n",
    "    :type min_size: int\n",
    "    :param required_fields: the fields that must be contained in `journal_reference`\n",
    "    :type required_fields: list of str\n",
    "    :return: bool -- True if the reference should be retained, False otherwise\n",
    "    \"\"\"\n",
    "    fields = [field[\"tag\"] for field in journal_reference[\"contents\"].values()]\n",
    "    if(len(fields)>=min_size):\n",
    "        if(len(set(fields).intersection(set(required_fields))) >= len(required_fields)):\n",
    "            return True\n",
    "        else:\n",
    "            return False\n",
    "    else:\n",
    "        return False"
   ]
  },
  {
   "cell_type": "code",
   "execution_count": 4,
   "metadata": {},
   "outputs": [],
   "source": [
    "refs = Reference.objects.filter(Q(contents__1__tag='author', contents__2__tag='title') |\n",
    "                                Q(contents__2__tag='author', contents__1__tag='title') |\n",
    "                                Q(contents__2__tag='author', contents__3__tag='title') |\n",
    "                                Q(contents__3__tag='author', contents__2__tag='title'))"
   ]
  },
  {
   "cell_type": "code",
   "execution_count": 5,
   "metadata": {},
   "outputs": [
    {
     "name": "stderr",
     "output_type": "stream",
     "text": [
      "/Users/suntao/anaconda3/envs/lb/lib/python3.6/site-packages/ipykernel/__main__.py:1: DeprecationWarning: generator 'QuerySet._iter_results' raised StopIteration\n",
      "  if __name__ == '__main__':\n"
     ]
    }
   ],
   "source": [
    "rs = [r for r in refs if retain_reference(r, 3, required_fields=[\"author\",\"title\",\"year\"])]"
   ]
  },
  {
   "cell_type": "code",
   "execution_count": 6,
   "metadata": {},
   "outputs": [
    {
     "data": {
      "text/plain": [
       "464068"
      ]
     },
     "execution_count": 6,
     "metadata": {},
     "output_type": "execute_result"
    }
   ],
   "source": [
    "len(rs)"
   ]
  },
  {
   "cell_type": "code",
   "execution_count": 7,
   "metadata": {},
   "outputs": [],
   "source": [
    "import pickle\n",
    "with open('rs.pickle', 'wb') as f:\n",
    "    pickle.dump(rs, f)"
   ]
  },
  {
   "cell_type": "code",
   "execution_count": null,
   "metadata": {},
   "outputs": [],
   "source": [
    "# find all things that are missing by my method\n",
    "rs_not = [r for r in Reference.objects() if r not in refs if retain_reference(r, 2)]\n",
    "len(rs_not)"
   ]
  },
  {
   "cell_type": "code",
   "execution_count": null,
   "metadata": {},
   "outputs": [],
   "source": [
    "rs_id = [r.id for r in rs]"
   ]
  },
  {
   "cell_type": "code",
   "execution_count": null,
   "metadata": {},
   "outputs": [],
   "source": [
    "with open('rs_id.pickle', 'wb') as f:\n",
    "    pickle.dump(rs_id, f)"
   ]
  },
  {
   "cell_type": "code",
   "execution_count": null,
   "metadata": {},
   "outputs": [],
   "source": [
    "rs_not_id = [r.id for r in rs_not]"
   ]
  },
  {
   "cell_type": "code",
   "execution_count": null,
   "metadata": {},
   "outputs": [],
   "source": [
    "with open('rs_not_id.pickle', 'wb') as f:\n",
    "    pickle.dump(rs_not_id, f)"
   ]
  },
  {
   "cell_type": "markdown",
   "metadata": {},
   "source": [
    "# Select"
   ]
  },
  {
   "cell_type": "code",
   "execution_count": 26,
   "metadata": {},
   "outputs": [],
   "source": [
    "rid = ObjectId(\"58e4ce01fe7683152b57ee3c\")"
   ]
  },
  {
   "cell_type": "code",
   "execution_count": 27,
   "metadata": {},
   "outputs": [],
   "source": [
    "for i in range(13):\n",
    "    df_temp = pd.read_pickle(\"hashsample{}.pickle\".format(i+1))\n",
    "    if len(df_temp[df_temp.ref_id==rid]) != 0:\n",
    "        hashes = df_temp[df_temp.ref_id==rid].hashes.values[0]\n",
    "        doc_id = df_temp[df_temp.ref_id==rid].doc_id.values[0]\n",
    "        surface = df_temp[df_temp.ref_id==rid].surface.values[0]\n",
    "        break"
   ]
  },
  {
   "cell_type": "code",
   "execution_count": 28,
   "metadata": {},
   "outputs": [
    {
     "data": {
      "text/plain": [
       "['vienna#venezia',\n",
       " 'eta#moderna',\n",
       " 'fornasin#eta#moderna',\n",
       " 'fornasin#patria#friuli',\n",
       " 'studi#venezia',\n",
       " 'friuli#eta',\n",
       " 'fornasin#venezia#viabilita',\n",
       " 'fornasin#friuli#eta',\n",
       " 'venezia#viabilita',\n",
       " 'fornasin#moderna#studi',\n",
       " 'fornasin#studi#venezia',\n",
       " 'moderna#studi',\n",
       " 'fornasin#viabilita#patria',\n",
       " 'fornasin#vienna#venezia',\n",
       " 'patria#friuli',\n",
       " 'fornasin#vienna#venezia#viabilita#patria#friuli#eta#moderna#studi#venezia#1999',\n",
       " 'viabilita#patria']"
      ]
     },
     "execution_count": 28,
     "metadata": {},
     "output_type": "execute_result"
    }
   ],
   "source": [
    "hashes"
   ]
  },
  {
   "cell_type": "code",
   "execution_count": 31,
   "metadata": {},
   "outputs": [
    {
     "name": "stdout",
     "output_type": "stream",
     "text": [
      "0 ['rizzi#leoni#zara#ateneo#veneto#clxxv#1988' 'rizzi#ateneo#veneto'\n",
      " 'ateneo#veneto' 'leoni#zara' 'rizzi#leoni#zara' 'vienna#venezia'\n",
      " 'eta#moderna' 'fornasin#eta#moderna' 'fornasin#patria#friuli'\n",
      " 'studi#venezia' 'friuli#eta' 'fornasin#venezia#viabilita'\n",
      " 'fornasin#friuli#eta' 'venezia#viabilita' 'fornasin#moderna#studi'\n",
      " 'fornasin#studi#venezia' 'moderna#studi' 'fornasin#viabilita#patria'\n",
      " 'fornasin#vienna#venezia' 'patria#friuli'\n",
      " 'fornasin#vienna#venezia#viabilita#patria#friuli#eta#moderna#studi#venezia#1999'\n",
      " 'viabilita#patria']\n"
     ]
    }
   ],
   "source": [
    "for i in range(13):\n",
    "    df_temp = pd.read_pickle(\"hashsplit{}.pickle\".format(i+1))\n",
    "    if len(df_temp[df_temp.ref_id==rid]) != 0:\n",
    "        hashtag = df_temp[df_temp.ref_id==rid].hashtag.values\n",
    "        print(hashtag)\n",
    "    break\n",
    "del df_temp"
   ]
  },
  {
   "cell_type": "code",
   "execution_count": 66,
   "metadata": {
    "scrolled": true
   },
   "outputs": [
    {
     "data": {
      "text/html": [
       "<div>\n",
       "<style scoped>\n",
       "    .dataframe tbody tr th:only-of-type {\n",
       "        vertical-align: middle;\n",
       "    }\n",
       "\n",
       "    .dataframe tbody tr th {\n",
       "        vertical-align: top;\n",
       "    }\n",
       "\n",
       "    .dataframe thead th {\n",
       "        text-align: right;\n",
       "    }\n",
       "</style>\n",
       "<table border=\"1\" class=\"dataframe\">\n",
       "  <thead>\n",
       "    <tr style=\"text-align: right;\">\n",
       "      <th></th>\n",
       "      <th>doc_id</th>\n",
       "      <th>ref_id</th>\n",
       "      <th>surface</th>\n",
       "      <th>hashtag</th>\n",
       "    </tr>\n",
       "  </thead>\n",
       "  <tbody>\n",
       "    <tr>\n",
       "      <th>4596</th>\n",
       "      <td>5960ca56fe76836a510e8378</td>\n",
       "      <td>59de7a2048e232540c5e7e12</td>\n",
       "      <td>FIGURE AFFACCIATE AD UNA LOGGIA Affresco, m. 4...</td>\n",
       "      <td>affacciate#1742</td>\n",
       "    </tr>\n",
       "    <tr>\n",
       "      <th>4596</th>\n",
       "      <td>5960ca56fe76836a510e8378</td>\n",
       "      <td>59de7a2048e232540c5e7e12</td>\n",
       "      <td>FIGURE AFFACCIATE AD UNA LOGGIA Affresco, m. 4...</td>\n",
       "      <td>loggia#documenti#fogolari</td>\n",
       "    </tr>\n",
       "    <tr>\n",
       "      <th>4596</th>\n",
       "      <td>5960ca56fe76836a510e8378</td>\n",
       "      <td>59de7a2048e232540c5e7e12</td>\n",
       "      <td>FIGURE AFFACCIATE AD UNA LOGGIA Affresco, m. 4...</td>\n",
       "      <td>figure#affresco#eseguito</td>\n",
       "    </tr>\n",
       "    <tr>\n",
       "      <th>4596</th>\n",
       "      <td>5960ca56fe76836a510e8378</td>\n",
       "      <td>59de7a2048e232540c5e7e12</td>\n",
       "      <td>FIGURE AFFACCIATE AD UNA LOGGIA Affresco, m. 4...</td>\n",
       "      <td>affacciate#venezia#gallerie</td>\n",
       "    </tr>\n",
       "    <tr>\n",
       "      <th>4596</th>\n",
       "      <td>5960ca56fe76836a510e8378</td>\n",
       "      <td>59de7a2048e232540c5e7e12</td>\n",
       "      <td>FIGURE AFFACCIATE AD UNA LOGGIA Affresco, m. 4...</td>\n",
       "      <td>loggia#affresco#00x1</td>\n",
       "    </tr>\n",
       "    <tr>\n",
       "      <th>4596</th>\n",
       "      <td>5960ca56fe76836a510e8378</td>\n",
       "      <td>59de7a2048e232540c5e7e12</td>\n",
       "      <td>FIGURE AFFACCIATE AD UNA LOGGIA Affresco, m. 4...</td>\n",
       "      <td>affacciate#chiesa#scalzi</td>\n",
       "    </tr>\n",
       "    <tr>\n",
       "      <th>4596</th>\n",
       "      <td>5960ca56fe76836a510e8378</td>\n",
       "      <td>59de7a2048e232540c5e7e12</td>\n",
       "      <td>FIGURE AFFACCIATE AD UNA LOGGIA Affresco, m. 4...</td>\n",
       "      <td>affacciate#eseguito#tiepolo</td>\n",
       "    </tr>\n",
       "    <tr>\n",
       "      <th>4596</th>\n",
       "      <td>5960ca56fe76836a510e8378</td>\n",
       "      <td>59de7a2048e232540c5e7e12</td>\n",
       "      <td>FIGURE AFFACCIATE AD UNA LOGGIA Affresco, m. 4...</td>\n",
       "      <td>figure#casa#loreto</td>\n",
       "    </tr>\n",
       "    <tr>\n",
       "      <th>4596</th>\n",
       "      <td>5960ca56fe76836a510e8378</td>\n",
       "      <td>59de7a2048e232540c5e7e12</td>\n",
       "      <td>FIGURE AFFACCIATE AD UNA LOGGIA Affresco, m. 4...</td>\n",
       "      <td>loggia#trasporto#santa</td>\n",
       "    </tr>\n",
       "    <tr>\n",
       "      <th>4596</th>\n",
       "      <td>5960ca56fe76836a510e8378</td>\n",
       "      <td>59de7a2048e232540c5e7e12</td>\n",
       "      <td>FIGURE AFFACCIATE AD UNA LOGGIA Affresco, m. 4...</td>\n",
       "      <td>loggia#00x1#staccato</td>\n",
       "    </tr>\n",
       "    <tr>\n",
       "      <th>4596</th>\n",
       "      <td>5960ca56fe76836a510e8378</td>\n",
       "      <td>59de7a2048e232540c5e7e12</td>\n",
       "      <td>FIGURE AFFACCIATE AD UNA LOGGIA Affresco, m. 4...</td>\n",
       "      <td>figure#1930</td>\n",
       "    </tr>\n",
       "    <tr>\n",
       "      <th>4596</th>\n",
       "      <td>5960ca56fe76836a510e8378</td>\n",
       "      <td>59de7a2048e232540c5e7e12</td>\n",
       "      <td>FIGURE AFFACCIATE AD UNA LOGGIA Affresco, m. 4...</td>\n",
       "      <td>prima#guerra</td>\n",
       "    </tr>\n",
       "    <tr>\n",
       "      <th>4596</th>\n",
       "      <td>5960ca56fe76836a510e8378</td>\n",
       "      <td>59de7a2048e232540c5e7e12</td>\n",
       "      <td>FIGURE AFFACCIATE AD UNA LOGGIA Affresco, m. 4...</td>\n",
       "      <td>affacciate#distrutto#volta</td>\n",
       "    </tr>\n",
       "    <tr>\n",
       "      <th>4596</th>\n",
       "      <td>5960ca56fe76836a510e8378</td>\n",
       "      <td>59de7a2048e232540c5e7e12</td>\n",
       "      <td>FIGURE AFFACCIATE AD UNA LOGGIA Affresco, m. 4...</td>\n",
       "      <td>loggia#tiepolo#novembre</td>\n",
       "    </tr>\n",
       "    <tr>\n",
       "      <th>4596</th>\n",
       "      <td>5960ca56fe76836a510e8378</td>\n",
       "      <td>59de7a2048e232540c5e7e12</td>\n",
       "      <td>FIGURE AFFACCIATE AD UNA LOGGIA Affresco, m. 4...</td>\n",
       "      <td>loggia#staccato#venezia</td>\n",
       "    </tr>\n",
       "    <tr>\n",
       "      <th>4596</th>\n",
       "      <td>5960ca56fe76836a510e8378</td>\n",
       "      <td>59de7a2048e232540c5e7e12</td>\n",
       "      <td>FIGURE AFFACCIATE AD UNA LOGGIA Affresco, m. 4...</td>\n",
       "      <td>loggia#scalzi#grande</td>\n",
       "    </tr>\n",
       "    <tr>\n",
       "      <th>4596</th>\n",
       "      <td>5960ca56fe76836a510e8378</td>\n",
       "      <td>59de7a2048e232540c5e7e12</td>\n",
       "      <td>FIGURE AFFACCIATE AD UNA LOGGIA Affresco, m. 4...</td>\n",
       "      <td>affacciate#colonna#provano</td>\n",
       "    </tr>\n",
       "    <tr>\n",
       "      <th>4596</th>\n",
       "      <td>5960ca56fe76836a510e8378</td>\n",
       "      <td>59de7a2048e232540c5e7e12</td>\n",
       "      <td>FIGURE AFFACCIATE AD UNA LOGGIA Affresco, m. 4...</td>\n",
       "      <td>staccato#venezia</td>\n",
       "    </tr>\n",
       "    <tr>\n",
       "      <th>4596</th>\n",
       "      <td>5960ca56fe76836a510e8378</td>\n",
       "      <td>59de7a2048e232540c5e7e12</td>\n",
       "      <td>FIGURE AFFACCIATE AD UNA LOGGIA Affresco, m. 4...</td>\n",
       "      <td>figure#scalzi#durante</td>\n",
       "    </tr>\n",
       "    <tr>\n",
       "      <th>4596</th>\n",
       "      <td>5960ca56fe76836a510e8378</td>\n",
       "      <td>59de7a2048e232540c5e7e12</td>\n",
       "      <td>FIGURE AFFACCIATE AD UNA LOGGIA Affresco, m. 4...</td>\n",
       "      <td>distrutto#volta</td>\n",
       "    </tr>\n",
       "    <tr>\n",
       "      <th>4596</th>\n",
       "      <td>5960ca56fe76836a510e8378</td>\n",
       "      <td>59de7a2048e232540c5e7e12</td>\n",
       "      <td>FIGURE AFFACCIATE AD UNA LOGGIA Affresco, m. 4...</td>\n",
       "      <td>mengozzi#casa#loreto</td>\n",
       "    </tr>\n",
       "    <tr>\n",
       "      <th>4596</th>\n",
       "      <td>5960ca56fe76836a510e8378</td>\n",
       "      <td>59de7a2048e232540c5e7e12</td>\n",
       "      <td>FIGURE AFFACCIATE AD UNA LOGGIA Affresco, m. 4...</td>\n",
       "      <td>affacciate#gallerie#accademia</td>\n",
       "    </tr>\n",
       "    <tr>\n",
       "      <th>4596</th>\n",
       "      <td>5960ca56fe76836a510e8378</td>\n",
       "      <td>59de7a2048e232540c5e7e12</td>\n",
       "      <td>FIGURE AFFACCIATE AD UNA LOGGIA Affresco, m. 4...</td>\n",
       "      <td>loggia#volta#chiesa</td>\n",
       "    </tr>\n",
       "    <tr>\n",
       "      <th>4596</th>\n",
       "      <td>5960ca56fe76836a510e8378</td>\n",
       "      <td>59de7a2048e232540c5e7e12</td>\n",
       "      <td>FIGURE AFFACCIATE AD UNA LOGGIA Affresco, m. 4...</td>\n",
       "      <td>mengozzi#scalzi#durante</td>\n",
       "    </tr>\n",
       "    <tr>\n",
       "      <th>4596</th>\n",
       "      <td>5960ca56fe76836a510e8378</td>\n",
       "      <td>59de7a2048e232540c5e7e12</td>\n",
       "      <td>FIGURE AFFACCIATE AD UNA LOGGIA Affresco, m. 4...</td>\n",
       "      <td>loggia#santa#casa</td>\n",
       "    </tr>\n",
       "    <tr>\n",
       "      <th>4596</th>\n",
       "      <td>5960ca56fe76836a510e8378</td>\n",
       "      <td>59de7a2048e232540c5e7e12</td>\n",
       "      <td>FIGURE AFFACCIATE AD UNA LOGGIA Affresco, m. 4...</td>\n",
       "      <td>figure#staccato#venezia</td>\n",
       "    </tr>\n",
       "    <tr>\n",
       "      <th>4596</th>\n",
       "      <td>5960ca56fe76836a510e8378</td>\n",
       "      <td>59de7a2048e232540c5e7e12</td>\n",
       "      <td>FIGURE AFFACCIATE AD UNA LOGGIA Affresco, m. 4...</td>\n",
       "      <td>mengozzi#1742</td>\n",
       "    </tr>\n",
       "    <tr>\n",
       "      <th>4596</th>\n",
       "      <td>5960ca56fe76836a510e8378</td>\n",
       "      <td>59de7a2048e232540c5e7e12</td>\n",
       "      <td>FIGURE AFFACCIATE AD UNA LOGGIA Affresco, m. 4...</td>\n",
       "      <td>affacciate#guerra#mondiale</td>\n",
       "    </tr>\n",
       "    <tr>\n",
       "      <th>4596</th>\n",
       "      <td>5960ca56fe76836a510e8378</td>\n",
       "      <td>59de7a2048e232540c5e7e12</td>\n",
       "      <td>FIGURE AFFACCIATE AD UNA LOGGIA Affresco, m. 4...</td>\n",
       "      <td>mengozzi#chiesa#scalzi</td>\n",
       "    </tr>\n",
       "    <tr>\n",
       "      <th>4596</th>\n",
       "      <td>5960ca56fe76836a510e8378</td>\n",
       "      <td>59de7a2048e232540c5e7e12</td>\n",
       "      <td>FIGURE AFFACCIATE AD UNA LOGGIA Affresco, m. 4...</td>\n",
       "      <td>mengozzi#1744</td>\n",
       "    </tr>\n",
       "    <tr>\n",
       "      <th>...</th>\n",
       "      <td>...</td>\n",
       "      <td>...</td>\n",
       "      <td>...</td>\n",
       "      <td>...</td>\n",
       "    </tr>\n",
       "    <tr>\n",
       "      <th>4596</th>\n",
       "      <td>595fea20fe7683532bf6c0ab</td>\n",
       "      <td>59df53cf9be3c75c2e67b171</td>\n",
       "      <td>Lopez,  Inquisizione, stampa e censura..., cit...</td>\n",
       "      <td>loggia#durante#prima</td>\n",
       "    </tr>\n",
       "    <tr>\n",
       "      <th>4596</th>\n",
       "      <td>595fea20fe7683532bf6c0ab</td>\n",
       "      <td>59df53cf9be3c75c2e67b171</td>\n",
       "      <td>Lopez,  Inquisizione, stampa e censura..., cit...</td>\n",
       "      <td>figure#prima#guerra</td>\n",
       "    </tr>\n",
       "    <tr>\n",
       "      <th>4596</th>\n",
       "      <td>595fea20fe7683532bf6c0ab</td>\n",
       "      <td>59df53cf9be3c75c2e67b171</td>\n",
       "      <td>Lopez,  Inquisizione, stampa e censura..., cit...</td>\n",
       "      <td>affacciate#staccato#venezia</td>\n",
       "    </tr>\n",
       "    <tr>\n",
       "      <th>4596</th>\n",
       "      <td>595fea20fe7683532bf6c0ab</td>\n",
       "      <td>59df53cf9be3c75c2e67b171</td>\n",
       "      <td>Lopez,  Inquisizione, stampa e censura..., cit...</td>\n",
       "      <td>figure#1743#0#1#4</td>\n",
       "    </tr>\n",
       "    <tr>\n",
       "      <th>4596</th>\n",
       "      <td>595fea20fe7683532bf6c0ab</td>\n",
       "      <td>59df53cf9be3c75c2e67b171</td>\n",
       "      <td>Lopez,  Inquisizione, stampa e censura..., cit...</td>\n",
       "      <td>figure#guerra#mondiale</td>\n",
       "    </tr>\n",
       "    <tr>\n",
       "      <th>4596</th>\n",
       "      <td>595fea20fe7683532bf6c0ab</td>\n",
       "      <td>59df53cf9be3c75c2e67b171</td>\n",
       "      <td>Lopez,  Inquisizione, stampa e censura..., cit...</td>\n",
       "      <td>trasporto#santa</td>\n",
       "    </tr>\n",
       "    <tr>\n",
       "      <th>4596</th>\n",
       "      <td>595fea20fe7683532bf6c0ab</td>\n",
       "      <td>59df53cf9be3c75c2e67b171</td>\n",
       "      <td>Lopez,  Inquisizione, stampa e censura..., cit...</td>\n",
       "      <td>figure#santa#casa</td>\n",
       "    </tr>\n",
       "    <tr>\n",
       "      <th>4596</th>\n",
       "      <td>595fea20fe7683532bf6c0ab</td>\n",
       "      <td>59df53cf9be3c75c2e67b171</td>\n",
       "      <td>Lopez,  Inquisizione, stampa e censura..., cit...</td>\n",
       "      <td>mengozzi#grande#affresco</td>\n",
       "    </tr>\n",
       "    <tr>\n",
       "      <th>4596</th>\n",
       "      <td>595fea20fe7683532bf6c0ab</td>\n",
       "      <td>59df53cf9be3c75c2e67b171</td>\n",
       "      <td>Lopez,  Inquisizione, stampa e censura..., cit...</td>\n",
       "      <td>figure#1743</td>\n",
       "    </tr>\n",
       "    <tr>\n",
       "      <th>4596</th>\n",
       "      <td>595fea20fe7683532bf6c0ab</td>\n",
       "      <td>59df53cf9be3c75c2e67b171</td>\n",
       "      <td>Lopez,  Inquisizione, stampa e censura..., cit...</td>\n",
       "      <td>affacciate#affresco#eseguito</td>\n",
       "    </tr>\n",
       "    <tr>\n",
       "      <th>4596</th>\n",
       "      <td>595fea20fe7683532bf6c0ab</td>\n",
       "      <td>59df53cf9be3c75c2e67b171</td>\n",
       "      <td>Lopez,  Inquisizione, stampa e censura..., cit...</td>\n",
       "      <td>loggia#1743</td>\n",
       "    </tr>\n",
       "    <tr>\n",
       "      <th>4596</th>\n",
       "      <td>595fea20fe7683532bf6c0ab</td>\n",
       "      <td>59df53cf9be3c75c2e67b171</td>\n",
       "      <td>Lopez,  Inquisizione, stampa e censura..., cit...</td>\n",
       "      <td>tiepolo#novembre</td>\n",
       "    </tr>\n",
       "    <tr>\n",
       "      <th>4596</th>\n",
       "      <td>595fea20fe7683532bf6c0ab</td>\n",
       "      <td>59df53cf9be3c75c2e67b171</td>\n",
       "      <td>Lopez,  Inquisizione, stampa e censura..., cit...</td>\n",
       "      <td>affacciate#1932</td>\n",
       "    </tr>\n",
       "    <tr>\n",
       "      <th>4596</th>\n",
       "      <td>595fea20fe7683532bf6c0ab</td>\n",
       "      <td>59df53cf9be3c75c2e67b171</td>\n",
       "      <td>Lopez,  Inquisizione, stampa e censura..., cit...</td>\n",
       "      <td>figure#00x1#staccato</td>\n",
       "    </tr>\n",
       "    <tr>\n",
       "      <th>4596</th>\n",
       "      <td>595fea20fe7683532bf6c0ab</td>\n",
       "      <td>59df53cf9be3c75c2e67b171</td>\n",
       "      <td>Lopez,  Inquisizione, stampa e censura..., cit...</td>\n",
       "      <td>affacciate#1743</td>\n",
       "    </tr>\n",
       "    <tr>\n",
       "      <th>4596</th>\n",
       "      <td>595fea20fe7683532bf6c0ab</td>\n",
       "      <td>59df53cf9be3c75c2e67b171</td>\n",
       "      <td>Lopez,  Inquisizione, stampa e censura..., cit...</td>\n",
       "      <td>affacciate#1931</td>\n",
       "    </tr>\n",
       "    <tr>\n",
       "      <th>4596</th>\n",
       "      <td>595fea20fe7683532bf6c0ab</td>\n",
       "      <td>59df53cf9be3c75c2e67b171</td>\n",
       "      <td>Lopez,  Inquisizione, stampa e censura..., cit...</td>\n",
       "      <td>affacciate#grande#affresco</td>\n",
       "    </tr>\n",
       "    <tr>\n",
       "      <th>4596</th>\n",
       "      <td>595fea20fe7683532bf6c0ab</td>\n",
       "      <td>59df53cf9be3c75c2e67b171</td>\n",
       "      <td>Lopez,  Inquisizione, stampa e censura..., cit...</td>\n",
       "      <td>figure#volta#chiesa</td>\n",
       "    </tr>\n",
       "    <tr>\n",
       "      <th>4596</th>\n",
       "      <td>595fea20fe7683532bf6c0ab</td>\n",
       "      <td>59df53cf9be3c75c2e67b171</td>\n",
       "      <td>Lopez,  Inquisizione, stampa e censura..., cit...</td>\n",
       "      <td>loggia#1744</td>\n",
       "    </tr>\n",
       "    <tr>\n",
       "      <th>4596</th>\n",
       "      <td>595fea20fe7683532bf6c0ab</td>\n",
       "      <td>59df53cf9be3c75c2e67b171</td>\n",
       "      <td>Lopez,  Inquisizione, stampa e censura..., cit...</td>\n",
       "      <td>ando#distrutto</td>\n",
       "    </tr>\n",
       "    <tr>\n",
       "      <th>4596</th>\n",
       "      <td>595fea20fe7683532bf6c0ab</td>\n",
       "      <td>59df53cf9be3c75c2e67b171</td>\n",
       "      <td>Lopez,  Inquisizione, stampa e censura..., cit...</td>\n",
       "      <td>chiesa#scalzi</td>\n",
       "    </tr>\n",
       "    <tr>\n",
       "      <th>4596</th>\n",
       "      <td>595fea20fe7683532bf6c0ab</td>\n",
       "      <td>59df53cf9be3c75c2e67b171</td>\n",
       "      <td>Lopez,  Inquisizione, stampa e censura..., cit...</td>\n",
       "      <td>mengozzi#scalzi#grande</td>\n",
       "    </tr>\n",
       "    <tr>\n",
       "      <th>4596</th>\n",
       "      <td>595fea20fe7683532bf6c0ab</td>\n",
       "      <td>59df53cf9be3c75c2e67b171</td>\n",
       "      <td>Lopez,  Inquisizione, stampa e censura..., cit...</td>\n",
       "      <td>mengozzi#ando#distrutto</td>\n",
       "    </tr>\n",
       "    <tr>\n",
       "      <th>4596</th>\n",
       "      <td>595fea20fe7683532bf6c0ab</td>\n",
       "      <td>59df53cf9be3c75c2e67b171</td>\n",
       "      <td>Lopez,  Inquisizione, stampa e censura..., cit...</td>\n",
       "      <td>lopez#inquisizione#stampa#censura#cit#210#350</td>\n",
       "    </tr>\n",
       "    <tr>\n",
       "      <th>4596</th>\n",
       "      <td>595fea20fe7683532bf6c0ab</td>\n",
       "      <td>59df53cf9be3c75c2e67b171</td>\n",
       "      <td>Lopez,  Inquisizione, stampa e censura..., cit...</td>\n",
       "      <td>inquisizione#stampa</td>\n",
       "    </tr>\n",
       "    <tr>\n",
       "      <th>4596</th>\n",
       "      <td>595fea20fe7683532bf6c0ab</td>\n",
       "      <td>59df53cf9be3c75c2e67b171</td>\n",
       "      <td>Lopez,  Inquisizione, stampa e censura..., cit...</td>\n",
       "      <td>lopez#inquisizione#stampa</td>\n",
       "    </tr>\n",
       "    <tr>\n",
       "      <th>4596</th>\n",
       "      <td>595fea20fe7683532bf6c0ab</td>\n",
       "      <td>59df53cf9be3c75c2e67b171</td>\n",
       "      <td>Lopez,  Inquisizione, stampa e censura..., cit...</td>\n",
       "      <td>lopez#stampa#censura</td>\n",
       "    </tr>\n",
       "    <tr>\n",
       "      <th>4596</th>\n",
       "      <td>595fea20fe7683532bf6c0ab</td>\n",
       "      <td>59df53cf9be3c75c2e67b171</td>\n",
       "      <td>Lopez,  Inquisizione, stampa e censura..., cit...</td>\n",
       "      <td>censura#cit</td>\n",
       "    </tr>\n",
       "    <tr>\n",
       "      <th>4596</th>\n",
       "      <td>595fea20fe7683532bf6c0ab</td>\n",
       "      <td>59df53cf9be3c75c2e67b171</td>\n",
       "      <td>Lopez,  Inquisizione, stampa e censura..., cit...</td>\n",
       "      <td>lopez#censura#cit</td>\n",
       "    </tr>\n",
       "    <tr>\n",
       "      <th>4596</th>\n",
       "      <td>595fea20fe7683532bf6c0ab</td>\n",
       "      <td>59df53cf9be3c75c2e67b171</td>\n",
       "      <td>Lopez,  Inquisizione, stampa e censura..., cit...</td>\n",
       "      <td>stampa#censura</td>\n",
       "    </tr>\n",
       "  </tbody>\n",
       "</table>\n",
       "<p>350 rows × 4 columns</p>\n",
       "</div>"
      ],
      "text/plain": [
       "                        doc_id                    ref_id  \\\n",
       "4596  5960ca56fe76836a510e8378  59de7a2048e232540c5e7e12   \n",
       "4596  5960ca56fe76836a510e8378  59de7a2048e232540c5e7e12   \n",
       "4596  5960ca56fe76836a510e8378  59de7a2048e232540c5e7e12   \n",
       "4596  5960ca56fe76836a510e8378  59de7a2048e232540c5e7e12   \n",
       "4596  5960ca56fe76836a510e8378  59de7a2048e232540c5e7e12   \n",
       "4596  5960ca56fe76836a510e8378  59de7a2048e232540c5e7e12   \n",
       "4596  5960ca56fe76836a510e8378  59de7a2048e232540c5e7e12   \n",
       "4596  5960ca56fe76836a510e8378  59de7a2048e232540c5e7e12   \n",
       "4596  5960ca56fe76836a510e8378  59de7a2048e232540c5e7e12   \n",
       "4596  5960ca56fe76836a510e8378  59de7a2048e232540c5e7e12   \n",
       "4596  5960ca56fe76836a510e8378  59de7a2048e232540c5e7e12   \n",
       "4596  5960ca56fe76836a510e8378  59de7a2048e232540c5e7e12   \n",
       "4596  5960ca56fe76836a510e8378  59de7a2048e232540c5e7e12   \n",
       "4596  5960ca56fe76836a510e8378  59de7a2048e232540c5e7e12   \n",
       "4596  5960ca56fe76836a510e8378  59de7a2048e232540c5e7e12   \n",
       "4596  5960ca56fe76836a510e8378  59de7a2048e232540c5e7e12   \n",
       "4596  5960ca56fe76836a510e8378  59de7a2048e232540c5e7e12   \n",
       "4596  5960ca56fe76836a510e8378  59de7a2048e232540c5e7e12   \n",
       "4596  5960ca56fe76836a510e8378  59de7a2048e232540c5e7e12   \n",
       "4596  5960ca56fe76836a510e8378  59de7a2048e232540c5e7e12   \n",
       "4596  5960ca56fe76836a510e8378  59de7a2048e232540c5e7e12   \n",
       "4596  5960ca56fe76836a510e8378  59de7a2048e232540c5e7e12   \n",
       "4596  5960ca56fe76836a510e8378  59de7a2048e232540c5e7e12   \n",
       "4596  5960ca56fe76836a510e8378  59de7a2048e232540c5e7e12   \n",
       "4596  5960ca56fe76836a510e8378  59de7a2048e232540c5e7e12   \n",
       "4596  5960ca56fe76836a510e8378  59de7a2048e232540c5e7e12   \n",
       "4596  5960ca56fe76836a510e8378  59de7a2048e232540c5e7e12   \n",
       "4596  5960ca56fe76836a510e8378  59de7a2048e232540c5e7e12   \n",
       "4596  5960ca56fe76836a510e8378  59de7a2048e232540c5e7e12   \n",
       "4596  5960ca56fe76836a510e8378  59de7a2048e232540c5e7e12   \n",
       "...                        ...                       ...   \n",
       "4596  595fea20fe7683532bf6c0ab  59df53cf9be3c75c2e67b171   \n",
       "4596  595fea20fe7683532bf6c0ab  59df53cf9be3c75c2e67b171   \n",
       "4596  595fea20fe7683532bf6c0ab  59df53cf9be3c75c2e67b171   \n",
       "4596  595fea20fe7683532bf6c0ab  59df53cf9be3c75c2e67b171   \n",
       "4596  595fea20fe7683532bf6c0ab  59df53cf9be3c75c2e67b171   \n",
       "4596  595fea20fe7683532bf6c0ab  59df53cf9be3c75c2e67b171   \n",
       "4596  595fea20fe7683532bf6c0ab  59df53cf9be3c75c2e67b171   \n",
       "4596  595fea20fe7683532bf6c0ab  59df53cf9be3c75c2e67b171   \n",
       "4596  595fea20fe7683532bf6c0ab  59df53cf9be3c75c2e67b171   \n",
       "4596  595fea20fe7683532bf6c0ab  59df53cf9be3c75c2e67b171   \n",
       "4596  595fea20fe7683532bf6c0ab  59df53cf9be3c75c2e67b171   \n",
       "4596  595fea20fe7683532bf6c0ab  59df53cf9be3c75c2e67b171   \n",
       "4596  595fea20fe7683532bf6c0ab  59df53cf9be3c75c2e67b171   \n",
       "4596  595fea20fe7683532bf6c0ab  59df53cf9be3c75c2e67b171   \n",
       "4596  595fea20fe7683532bf6c0ab  59df53cf9be3c75c2e67b171   \n",
       "4596  595fea20fe7683532bf6c0ab  59df53cf9be3c75c2e67b171   \n",
       "4596  595fea20fe7683532bf6c0ab  59df53cf9be3c75c2e67b171   \n",
       "4596  595fea20fe7683532bf6c0ab  59df53cf9be3c75c2e67b171   \n",
       "4596  595fea20fe7683532bf6c0ab  59df53cf9be3c75c2e67b171   \n",
       "4596  595fea20fe7683532bf6c0ab  59df53cf9be3c75c2e67b171   \n",
       "4596  595fea20fe7683532bf6c0ab  59df53cf9be3c75c2e67b171   \n",
       "4596  595fea20fe7683532bf6c0ab  59df53cf9be3c75c2e67b171   \n",
       "4596  595fea20fe7683532bf6c0ab  59df53cf9be3c75c2e67b171   \n",
       "4596  595fea20fe7683532bf6c0ab  59df53cf9be3c75c2e67b171   \n",
       "4596  595fea20fe7683532bf6c0ab  59df53cf9be3c75c2e67b171   \n",
       "4596  595fea20fe7683532bf6c0ab  59df53cf9be3c75c2e67b171   \n",
       "4596  595fea20fe7683532bf6c0ab  59df53cf9be3c75c2e67b171   \n",
       "4596  595fea20fe7683532bf6c0ab  59df53cf9be3c75c2e67b171   \n",
       "4596  595fea20fe7683532bf6c0ab  59df53cf9be3c75c2e67b171   \n",
       "4596  595fea20fe7683532bf6c0ab  59df53cf9be3c75c2e67b171   \n",
       "\n",
       "                                                surface  \\\n",
       "4596  FIGURE AFFACCIATE AD UNA LOGGIA Affresco, m. 4...   \n",
       "4596  FIGURE AFFACCIATE AD UNA LOGGIA Affresco, m. 4...   \n",
       "4596  FIGURE AFFACCIATE AD UNA LOGGIA Affresco, m. 4...   \n",
       "4596  FIGURE AFFACCIATE AD UNA LOGGIA Affresco, m. 4...   \n",
       "4596  FIGURE AFFACCIATE AD UNA LOGGIA Affresco, m. 4...   \n",
       "4596  FIGURE AFFACCIATE AD UNA LOGGIA Affresco, m. 4...   \n",
       "4596  FIGURE AFFACCIATE AD UNA LOGGIA Affresco, m. 4...   \n",
       "4596  FIGURE AFFACCIATE AD UNA LOGGIA Affresco, m. 4...   \n",
       "4596  FIGURE AFFACCIATE AD UNA LOGGIA Affresco, m. 4...   \n",
       "4596  FIGURE AFFACCIATE AD UNA LOGGIA Affresco, m. 4...   \n",
       "4596  FIGURE AFFACCIATE AD UNA LOGGIA Affresco, m. 4...   \n",
       "4596  FIGURE AFFACCIATE AD UNA LOGGIA Affresco, m. 4...   \n",
       "4596  FIGURE AFFACCIATE AD UNA LOGGIA Affresco, m. 4...   \n",
       "4596  FIGURE AFFACCIATE AD UNA LOGGIA Affresco, m. 4...   \n",
       "4596  FIGURE AFFACCIATE AD UNA LOGGIA Affresco, m. 4...   \n",
       "4596  FIGURE AFFACCIATE AD UNA LOGGIA Affresco, m. 4...   \n",
       "4596  FIGURE AFFACCIATE AD UNA LOGGIA Affresco, m. 4...   \n",
       "4596  FIGURE AFFACCIATE AD UNA LOGGIA Affresco, m. 4...   \n",
       "4596  FIGURE AFFACCIATE AD UNA LOGGIA Affresco, m. 4...   \n",
       "4596  FIGURE AFFACCIATE AD UNA LOGGIA Affresco, m. 4...   \n",
       "4596  FIGURE AFFACCIATE AD UNA LOGGIA Affresco, m. 4...   \n",
       "4596  FIGURE AFFACCIATE AD UNA LOGGIA Affresco, m. 4...   \n",
       "4596  FIGURE AFFACCIATE AD UNA LOGGIA Affresco, m. 4...   \n",
       "4596  FIGURE AFFACCIATE AD UNA LOGGIA Affresco, m. 4...   \n",
       "4596  FIGURE AFFACCIATE AD UNA LOGGIA Affresco, m. 4...   \n",
       "4596  FIGURE AFFACCIATE AD UNA LOGGIA Affresco, m. 4...   \n",
       "4596  FIGURE AFFACCIATE AD UNA LOGGIA Affresco, m. 4...   \n",
       "4596  FIGURE AFFACCIATE AD UNA LOGGIA Affresco, m. 4...   \n",
       "4596  FIGURE AFFACCIATE AD UNA LOGGIA Affresco, m. 4...   \n",
       "4596  FIGURE AFFACCIATE AD UNA LOGGIA Affresco, m. 4...   \n",
       "...                                                 ...   \n",
       "4596  Lopez,  Inquisizione, stampa e censura..., cit...   \n",
       "4596  Lopez,  Inquisizione, stampa e censura..., cit...   \n",
       "4596  Lopez,  Inquisizione, stampa e censura..., cit...   \n",
       "4596  Lopez,  Inquisizione, stampa e censura..., cit...   \n",
       "4596  Lopez,  Inquisizione, stampa e censura..., cit...   \n",
       "4596  Lopez,  Inquisizione, stampa e censura..., cit...   \n",
       "4596  Lopez,  Inquisizione, stampa e censura..., cit...   \n",
       "4596  Lopez,  Inquisizione, stampa e censura..., cit...   \n",
       "4596  Lopez,  Inquisizione, stampa e censura..., cit...   \n",
       "4596  Lopez,  Inquisizione, stampa e censura..., cit...   \n",
       "4596  Lopez,  Inquisizione, stampa e censura..., cit...   \n",
       "4596  Lopez,  Inquisizione, stampa e censura..., cit...   \n",
       "4596  Lopez,  Inquisizione, stampa e censura..., cit...   \n",
       "4596  Lopez,  Inquisizione, stampa e censura..., cit...   \n",
       "4596  Lopez,  Inquisizione, stampa e censura..., cit...   \n",
       "4596  Lopez,  Inquisizione, stampa e censura..., cit...   \n",
       "4596  Lopez,  Inquisizione, stampa e censura..., cit...   \n",
       "4596  Lopez,  Inquisizione, stampa e censura..., cit...   \n",
       "4596  Lopez,  Inquisizione, stampa e censura..., cit...   \n",
       "4596  Lopez,  Inquisizione, stampa e censura..., cit...   \n",
       "4596  Lopez,  Inquisizione, stampa e censura..., cit...   \n",
       "4596  Lopez,  Inquisizione, stampa e censura..., cit...   \n",
       "4596  Lopez,  Inquisizione, stampa e censura..., cit...   \n",
       "4596  Lopez,  Inquisizione, stampa e censura..., cit...   \n",
       "4596  Lopez,  Inquisizione, stampa e censura..., cit...   \n",
       "4596  Lopez,  Inquisizione, stampa e censura..., cit...   \n",
       "4596  Lopez,  Inquisizione, stampa e censura..., cit...   \n",
       "4596  Lopez,  Inquisizione, stampa e censura..., cit...   \n",
       "4596  Lopez,  Inquisizione, stampa e censura..., cit...   \n",
       "4596  Lopez,  Inquisizione, stampa e censura..., cit...   \n",
       "\n",
       "                                            hashtag  \n",
       "4596                                affacciate#1742  \n",
       "4596                      loggia#documenti#fogolari  \n",
       "4596                       figure#affresco#eseguito  \n",
       "4596                    affacciate#venezia#gallerie  \n",
       "4596                           loggia#affresco#00x1  \n",
       "4596                       affacciate#chiesa#scalzi  \n",
       "4596                    affacciate#eseguito#tiepolo  \n",
       "4596                             figure#casa#loreto  \n",
       "4596                         loggia#trasporto#santa  \n",
       "4596                           loggia#00x1#staccato  \n",
       "4596                                    figure#1930  \n",
       "4596                                   prima#guerra  \n",
       "4596                     affacciate#distrutto#volta  \n",
       "4596                        loggia#tiepolo#novembre  \n",
       "4596                        loggia#staccato#venezia  \n",
       "4596                           loggia#scalzi#grande  \n",
       "4596                     affacciate#colonna#provano  \n",
       "4596                               staccato#venezia  \n",
       "4596                          figure#scalzi#durante  \n",
       "4596                                distrutto#volta  \n",
       "4596                           mengozzi#casa#loreto  \n",
       "4596                  affacciate#gallerie#accademia  \n",
       "4596                            loggia#volta#chiesa  \n",
       "4596                        mengozzi#scalzi#durante  \n",
       "4596                              loggia#santa#casa  \n",
       "4596                        figure#staccato#venezia  \n",
       "4596                                  mengozzi#1742  \n",
       "4596                     affacciate#guerra#mondiale  \n",
       "4596                         mengozzi#chiesa#scalzi  \n",
       "4596                                  mengozzi#1744  \n",
       "...                                             ...  \n",
       "4596                           loggia#durante#prima  \n",
       "4596                            figure#prima#guerra  \n",
       "4596                    affacciate#staccato#venezia  \n",
       "4596                              figure#1743#0#1#4  \n",
       "4596                         figure#guerra#mondiale  \n",
       "4596                                trasporto#santa  \n",
       "4596                              figure#santa#casa  \n",
       "4596                       mengozzi#grande#affresco  \n",
       "4596                                    figure#1743  \n",
       "4596                   affacciate#affresco#eseguito  \n",
       "4596                                    loggia#1743  \n",
       "4596                               tiepolo#novembre  \n",
       "4596                                affacciate#1932  \n",
       "4596                           figure#00x1#staccato  \n",
       "4596                                affacciate#1743  \n",
       "4596                                affacciate#1931  \n",
       "4596                     affacciate#grande#affresco  \n",
       "4596                            figure#volta#chiesa  \n",
       "4596                                    loggia#1744  \n",
       "4596                                 ando#distrutto  \n",
       "4596                                  chiesa#scalzi  \n",
       "4596                         mengozzi#scalzi#grande  \n",
       "4596                        mengozzi#ando#distrutto  \n",
       "4596  lopez#inquisizione#stampa#censura#cit#210#350  \n",
       "4596                            inquisizione#stampa  \n",
       "4596                      lopez#inquisizione#stampa  \n",
       "4596                           lopez#stampa#censura  \n",
       "4596                                    censura#cit  \n",
       "4596                              lopez#censura#cit  \n",
       "4596                                 stampa#censura  \n",
       "\n",
       "[350 rows x 4 columns]"
      ]
     },
     "execution_count": 66,
     "metadata": {},
     "output_type": "execute_result"
    }
   ],
   "source": [
    "df_temp = pd.read_pickle(\"hashsplit4.pickle\")\n",
    "df_temp.loc[4596]"
   ]
  },
  {
   "cell_type": "code",
   "execution_count": 54,
   "metadata": {},
   "outputs": [],
   "source": [
    "for i in range(1,5):\n",
    "    df_temp_s = pd.read_pickle(f\"hashsample{i}.pickle\")\n",
    "    df_temp_s = df_temp_s.set_index('ref_id').reset_index()\n",
    "    df_temp_s.to_pickle(f\"hashsample{i}.pickle\")"
   ]
  },
  {
   "cell_type": "code",
   "execution_count": 55,
   "metadata": {},
   "outputs": [],
   "source": [
    "df_temp_s = pd.read_pickle(f\"hashsample1.pickle\")"
   ]
  },
  {
   "cell_type": "code",
   "execution_count": 56,
   "metadata": {},
   "outputs": [
    {
     "data": {
      "text/html": [
       "<div>\n",
       "<style scoped>\n",
       "    .dataframe tbody tr th:only-of-type {\n",
       "        vertical-align: middle;\n",
       "    }\n",
       "\n",
       "    .dataframe tbody tr th {\n",
       "        vertical-align: top;\n",
       "    }\n",
       "\n",
       "    .dataframe thead th {\n",
       "        text-align: right;\n",
       "    }\n",
       "</style>\n",
       "<table border=\"1\" class=\"dataframe\">\n",
       "  <thead>\n",
       "    <tr style=\"text-align: right;\">\n",
       "      <th></th>\n",
       "      <th>ref_id</th>\n",
       "      <th>doc_id</th>\n",
       "      <th>hashes</th>\n",
       "      <th>surface</th>\n",
       "    </tr>\n",
       "  </thead>\n",
       "  <tbody>\n",
       "    <tr>\n",
       "      <th>0</th>\n",
       "      <td>58e4ce00fe7683152b55e325</td>\n",
       "      <td>595f9e11fe7683316b2dd3f5</td>\n",
       "      <td>[giovanni#asilo#scilla, ateneo#soci#scomparsi,...</td>\n",
       "      <td>ATTI DELL’ATENEO necrologio GIOVANNI MANETTI F...</td>\n",
       "    </tr>\n",
       "    <tr>\n",
       "      <th>1</th>\n",
       "      <td>58e4ce00fe7683152b55e328</td>\n",
       "      <td>595f9e37fe7683316b2dd4b4</td>\n",
       "      <td>[hans#drawings#the, hans#1943#221, the#drawing...</td>\n",
       "      <td>Hans Tietzte - Tietzte Conrad The drawings of ...</td>\n",
       "    </tr>\n",
       "    <tr>\n",
       "      <th>2</th>\n",
       "      <td>58e4ce00fe7683152b55e32b</td>\n",
       "      <td>595f9e37fe7683316b2dd4b4</td>\n",
       "      <td>[devant#als, heil#palma#devant#als#zeichner#ja...</td>\n",
       "      <td>Heil Palma devant als Zeichner, in \"in Jahrbuc...</td>\n",
       "    </tr>\n",
       "    <tr>\n",
       "      <th>3</th>\n",
       "      <td>58e4ce00fe7683152b55e330</td>\n",
       "      <td>595f9e0efe7683316b2dd3eb</td>\n",
       "      <td>[croce#modesti#innumerevoli, croce#vigilia#mor...</td>\n",
       "      <td>LA CROCE el vialetto che girava attorno allo s...</td>\n",
       "    </tr>\n",
       "    <tr>\n",
       "      <th>4</th>\n",
       "      <td>58e4ce00fe7683152b55e336</td>\n",
       "      <td>595f9f57fe7683316b2dda8c</td>\n",
       "      <td>[monticolo#1906#468, monticolo#1906#467, capit...</td>\n",
       "      <td>Monticolo, I capitolari delle arti veneziane, ...</td>\n",
       "    </tr>\n",
       "    <tr>\n",
       "      <th>5</th>\n",
       "      <td>58e4ce00fe7683152b55e338</td>\n",
       "      <td>595f9e34fe7683316b2dd4ab</td>\n",
       "      <td>[croce#pascoli, rodaun#tre, croce#articoli#cro...</td>\n",
       "      <td>B. Croce. Intanto erano giunti a Rodaun i tre ...</td>\n",
       "    </tr>\n",
       "    <tr>\n",
       "      <th>6</th>\n",
       "      <td>58e4ce00fe7683152b55e339</td>\n",
       "      <td>595f9e29fe7683316b2dd470</td>\n",
       "      <td>[anno#cxlii, veneto#anno#cxlii, ateneo#anno#cx...</td>\n",
       "      <td>ATENEO VENETO Anno CXLII Vol. 135 - N.</td>\n",
       "    </tr>\n",
       "    <tr>\n",
       "      <th>7</th>\n",
       "      <td>58e4ce00fe7683152b55e33a</td>\n",
       "      <td>595f9e29fe7683316b2dd470</td>\n",
       "      <td>[freemantlc#caro, australia#colombo#freemantlc...</td>\n",
       "      <td>VIAGGIO PER L’AUSTRALIA Da bordo S/S Toscana f...</td>\n",
       "    </tr>\n",
       "    <tr>\n",
       "      <th>8</th>\n",
       "      <td>58e4ce00fe7683152b55e33c</td>\n",
       "      <td>595f9e29fe7683316b2dd470</td>\n",
       "      <td>[scarica#acqua, purtroppo#pom#pieri, purtroppo...</td>\n",
       "      <td>Purtroppo, dopo un quarto d’ora arrivarono i p...</td>\n",
       "    </tr>\n",
       "    <tr>\n",
       "      <th>9</th>\n",
       "      <td>58e4ce00fe7683152b55e33d</td>\n",
       "      <td>595f9e2afe7683316b2dd476</td>\n",
       "      <td>[postilla#tiepolesca#ipinse#venezia, tiepolesc...</td>\n",
       "      <td>UNA POSTILLA TIEPOLESCA ipinse a Venezia</td>\n",
       "    </tr>\n",
       "    <tr>\n",
       "      <th>10</th>\n",
       "      <td>58e4ce00fe7683152b55e33e</td>\n",
       "      <td>595f9e2afe7683316b2dd476</td>\n",
       "      <td>[porto#oggi#cipollato, angelo#vincenzo, cipoll...</td>\n",
       "      <td>Sandi Porto, oggi Cipollato a S. Angelo. Vince...</td>\n",
       "    </tr>\n",
       "    <tr>\n",
       "      <th>11</th>\n",
       "      <td>58e4ce00fe7683152b55e33f</td>\n",
       "      <td>595f9e2afe7683316b2dd476</td>\n",
       "      <td>[morassi#1941, morassi#precisazioni#tiepolo, m...</td>\n",
       "      <td>Morassi, Novità e precisazioni sul Tiepolo in ...</td>\n",
       "    </tr>\n",
       "    <tr>\n",
       "      <th>12</th>\n",
       "      <td>58e4ce00fe7683152b55e34f</td>\n",
       "      <td>595f9e39fe7683316b2dd4bc</td>\n",
       "      <td>[itinerario#terra, sanudo#1848, sanudo#1847, s...</td>\n",
       "      <td>M. Sañudo, Itinerario per la terra di Venezia ...</td>\n",
       "    </tr>\n",
       "    <tr>\n",
       "      <th>13</th>\n",
       "      <td>58e4ce00fe7683152b55e351</td>\n",
       "      <td>595f9e39fe7683316b2dd4bc</td>\n",
       "      <td>[chiori#cavriolo#situato, chiori#serviva#addes...</td>\n",
       "      <td>Mar- chiori, ed il terzo chiamato Cavriolo, si...</td>\n",
       "    </tr>\n",
       "    <tr>\n",
       "      <th>14</th>\n",
       "      <td>58e4ce00fe7683152b55e352</td>\n",
       "      <td>595f9e39fe7683316b2dd4bc</td>\n",
       "      <td>[cappellini#1875, cappellini#lendinara#castell...</td>\n",
       "      <td>Cappellini, Memorie di Lendinara. Il Castello,...</td>\n",
       "    </tr>\n",
       "    <tr>\n",
       "      <th>15</th>\n",
       "      <td>58e4ce00fe7683152b55e359</td>\n",
       "      <td>595f9e34fe7683316b2dd4ab</td>\n",
       "      <td>[croce#pascoli, rodaun#tre, croce#articoli#cro...</td>\n",
       "      <td>B. Croce. Intanto erano giunti a Rodaun i tre ...</td>\n",
       "    </tr>\n",
       "    <tr>\n",
       "      <th>16</th>\n",
       "      <td>58e4ce00fe7683152b55e35a</td>\n",
       "      <td>595f9e36fe7683316b2dd4ae</td>\n",
       "      <td>[annunzio#comincia#facile, carducci#carattere#...</td>\n",
       "      <td>D’Annunzio. Del Carducci, mi occupo di propo- ...</td>\n",
       "    </tr>\n",
       "    <tr>\n",
       "      <th>17</th>\n",
       "      <td>58e4ce00fe7683152b55e35b</td>\n",
       "      <td>595f9e36fe7683316b2dd4ae</td>\n",
       "      <td>[borgese#inviai#croce, borgese#pubblicati#inse...</td>\n",
       "      <td>G. A. Borgese, per ringra- ziamento del suo Go...</td>\n",
       "    </tr>\n",
       "    <tr>\n",
       "      <th>18</th>\n",
       "      <td>58e4ce00fe7683152b55e361</td>\n",
       "      <td>595f9f98fe7683316b2ddbe2</td>\n",
       "      <td>[filippo#otto#sain, otto#sain, filippo#lanz#ot...</td>\n",
       "      <td>Filippo Lanz, Otto Sain, Misha Seifert, Albino...</td>\n",
       "    </tr>\n",
       "    <tr>\n",
       "      <th>19</th>\n",
       "      <td>58e4ce00fe7683152b55e364</td>\n",
       "      <td>595f9f7ffe7683316b2ddb5f</td>\n",
       "      <td>[dennis#1560#1626, biblioteca#gentiluomo#coneg...</td>\n",
       "      <td>Dennis E. Rhodes ADDENDUM PER LA BIBLIOTECA DI...</td>\n",
       "    </tr>\n",
       "    <tr>\n",
       "      <th>20</th>\n",
       "      <td>58e4ce00fe7683152b55e365</td>\n",
       "      <td>595f9f7ffe7683316b2ddb5f</td>\n",
       "      <td>[intorno#anno, rhodes#1600#ateneo, rhodes#cone...</td>\n",
       "      <td>D.E. Rhodes, Una biblioteca privata a Coneglia...</td>\n",
       "    </tr>\n",
       "    <tr>\n",
       "      <th>21</th>\n",
       "      <td>58e4ce00fe7683152b55e370</td>\n",
       "      <td>595f9e53fe7683316b2dd543</td>\n",
       "      <td>[achille#1941#104, bosisio#1942#106, achille#1...</td>\n",
       "      <td>Achille Bosisio, Giosuè Carducci e un letteral...</td>\n",
       "    </tr>\n",
       "    <tr>\n",
       "      <th>22</th>\n",
       "      <td>58e4ce00fe7683152b55e371</td>\n",
       "      <td>595f9e53fe7683316b2dd543</td>\n",
       "      <td>[vittorio#forte#poeta, vittorio#pompeo#molment...</td>\n",
       "      <td>Vittorio Salmini, forte poeta e drammaturgo co...</td>\n",
       "    </tr>\n",
       "    <tr>\n",
       "      <th>23</th>\n",
       "      <td>58e4ce00fe7683152b55e373</td>\n",
       "      <td>595f9e53fe7683316b2dd543</td>\n",
       "      <td>[fogazzaro#ateneo, bosisio#ateneo#veneto, bosi...</td>\n",
       "      <td>Achille Bosisio, Un ricordo di A. Fogazzaro al...</td>\n",
       "    </tr>\n",
       "    <tr>\n",
       "      <th>24</th>\n",
       "      <td>58e4ce00fe7683152b55e377</td>\n",
       "      <td>595f9e36fe7683316b2dd4b0</td>\n",
       "      <td>[tempi#crisi, drammatico#molto#tempi, crisi#te...</td>\n",
       "      <td>LA CRISI DEL TEATRO DRAMMATICO S i parla molto...</td>\n",
       "    </tr>\n",
       "    <tr>\n",
       "      <th>25</th>\n",
       "      <td>58e4ce00fe7683152b55e37a</td>\n",
       "      <td>595f9e10fe7683316b2dd3f2</td>\n",
       "      <td>[anni#parecchi, oggi#casa#carmini, arte#italia...</td>\n",
       "      <td>ARTE ITALIANA D’OGGI IN UNA RACCOLTA VENEZIANA...</td>\n",
       "    </tr>\n",
       "    <tr>\n",
       "      <th>26</th>\n",
       "      <td>58e4ce00fe7683152b55e37b</td>\n",
       "      <td>595f9e10fe7683316b2dd3f2</td>\n",
       "      <td>[scultorea#ottone, modigliani#giche#inspirazio...</td>\n",
       "      <td>Modigliani : cioè nel senso primo e più ovvio ...</td>\n",
       "    </tr>\n",
       "    <tr>\n",
       "      <th>27</th>\n",
       "      <td>58e4ce00fe7683152b55e37d</td>\n",
       "      <td>595f9e10fe7683316b2dd3f2</td>\n",
       "      <td>[viani#romanelli#messina, mafai#seibezzi#lillo...</td>\n",
       "      <td>Viani e Mafai, Seibezzi e Lilloni, Romanelli e...</td>\n",
       "    </tr>\n",
       "    <tr>\n",
       "      <th>28</th>\n",
       "      <td>58e4ce00fe7683152b55e37f</td>\n",
       "      <td>595f9e10fe7683316b2dd3f2</td>\n",
       "      <td>[catalogo#domenico#natura, catalogo#violini#ri...</td>\n",
       "      <td>Diego Valeri CATALOGO PITTURA Campigli Massimo...</td>\n",
       "    </tr>\n",
       "    <tr>\n",
       "      <th>29</th>\n",
       "      <td>58e4ce00fe7683152b55e383</td>\n",
       "      <td>595f9f52fe7683316b2dda7a</td>\n",
       "      <td>[note#arte#veneta, bortolotto#chiesa#san, san#...</td>\n",
       "      <td>NOTE 1A. Alver.X Bortolotto, II pavimento maio...</td>\n",
       "    </tr>\n",
       "    <tr>\n",
       "      <th>...</th>\n",
       "      <td>...</td>\n",
       "      <td>...</td>\n",
       "      <td>...</td>\n",
       "      <td>...</td>\n",
       "    </tr>\n",
       "    <tr>\n",
       "      <th>99970</th>\n",
       "      <td>58e4ce01fe7683152b59d311</td>\n",
       "      <td>595fa073fe7683316b2de926</td>\n",
       "      <td>[renzi#1869, renzi#anno#ossia, renzi#1869#154,...</td>\n",
       "      <td>De Renzi, Napoli nell’anno 17 64 ossia documen...</td>\n",
       "    </tr>\n",
       "    <tr>\n",
       "      <th>99971</th>\n",
       "      <td>58e4ce01fe7683152b59d321</td>\n",
       "      <td>595fa073fe7683316b2de926</td>\n",
       "      <td>[tanucci#xiv]</td>\n",
       "      <td>(Tanucci, xiv, p. 77).</td>\n",
       "    </tr>\n",
       "    <tr>\n",
       "      <th>99972</th>\n",
       "      <td>58e4ce01fe7683152b59d324</td>\n",
       "      <td>595fa073fe7683316b2de926</td>\n",
       "      <td>[sardo#1990#195#198, sardo#londra#xviii, sardo...</td>\n",
       "      <td>E. Lo Sardo, Napoli e Londra nel XVIII secolo....</td>\n",
       "    </tr>\n",
       "    <tr>\n",
       "      <th>99973</th>\n",
       "      <td>58e4ce01fe7683152b59d32f</td>\n",
       "      <td>595fa073fe7683316b2de926</td>\n",
       "      <td>[villani#politica#cit, politica#cit, villani#b...</td>\n",
       "      <td>Villani, Una battaglia politica, cit.;</td>\n",
       "    </tr>\n",
       "    <tr>\n",
       "      <th>99974</th>\n",
       "      <td>58e4ce01fe7683152b59d33c</td>\n",
       "      <td>595fa073fe7683316b2de926</td>\n",
       "      <td>[provveditori#sanita, mauro#provveditori#sanit...</td>\n",
       "      <td>MAURO PITTERI 66. Gobbi ai Provveditori alla S...</td>\n",
       "    </tr>\n",
       "    <tr>\n",
       "      <th>99975</th>\n",
       "      <td>58e4ce01fe7683152b59d350</td>\n",
       "      <td>595fa073fe7683316b2de926</td>\n",
       "      <td>[felloni#seicento#restaurazione, felloni#1972#...</td>\n",
       "      <td>G. Felloni, Gli investimenti finanziari genove...</td>\n",
       "    </tr>\n",
       "    <tr>\n",
       "      <th>99976</th>\n",
       "      <td>58e4ce01fe7683152b59d359</td>\n",
       "      <td>595fa073fe7683316b2de926</td>\n",
       "      <td>[dispacci#xxi#657#658]</td>\n",
       "      <td>Dispacci, xxi, pp. 657-658:</td>\n",
       "    </tr>\n",
       "    <tr>\n",
       "      <th>99977</th>\n",
       "      <td>58e4ce01fe7683152b59d35e</td>\n",
       "      <td>595fa073fe7683316b2de926</td>\n",
       "      <td>[citta#stesso, guidotti#1780#strazzullo, redas...</td>\n",
       "      <td>Guidotti, celebre avvocato napoletano redasse ...</td>\n",
       "    </tr>\n",
       "    <tr>\n",
       "      <th>99978</th>\n",
       "      <td>58e4ce01fe7683152b59d35f</td>\n",
       "      <td>595fa073fe7683316b2de926</td>\n",
       "      <td>[carso#tamente#spediti, provano#intento, poles...</td>\n",
       "      <td>«Carso, Orgnano, Stiria, Polesine e Padovano e...</td>\n",
       "    </tr>\n",
       "    <tr>\n",
       "      <th>99979</th>\n",
       "      <td>58e4ce01fe7683152b59d364</td>\n",
       "      <td>595fa073fe7683316b2de926</td>\n",
       "      <td>[058#grano, kaunitz#rilasciare#altro, kaunitz#...</td>\n",
       "      <td>Kaunitz, Brentani rifiuta di sottoporsi a giud...</td>\n",
       "    </tr>\n",
       "    <tr>\n",
       "      <th>99980</th>\n",
       "      <td>58e4ce01fe7683152b59d36b</td>\n",
       "      <td>595fa073fe7683316b2de926</td>\n",
       "      <td>[tanucci#xiii#336#386#388#394]</td>\n",
       "      <td>Tanucci, xiii, pp. 336,386-388,394.</td>\n",
       "    </tr>\n",
       "    <tr>\n",
       "      <th>99981</th>\n",
       "      <td>58e4ce01fe7683152b59d374</td>\n",
       "      <td>595fa073fe7683316b2de926</td>\n",
       "      <td>[tanucci#xiv#356#357]</td>\n",
       "      <td>Tanucci, xiv, pp. 356-357.</td>\n",
       "    </tr>\n",
       "    <tr>\n",
       "      <th>99982</th>\n",
       "      <td>58e4ce01fe7683152b59d381</td>\n",
       "      <td>595fa073fe7683316b2de926</td>\n",
       "      <td>[uomo#opera, assante#jannucci#uomo, battista#m...</td>\n",
       "      <td>F. Assante, Giovati Battista Maria Jannucci. L...</td>\n",
       "    </tr>\n",
       "    <tr>\n",
       "      <th>99983</th>\n",
       "      <td>58e4ce01fe7683152b59d38a</td>\n",
       "      <td>595fa073fe7683316b2de926</td>\n",
       "      <td>[tanucci#xiv#458]</td>\n",
       "      <td>Tanucci, xiv, p. 458;</td>\n",
       "    </tr>\n",
       "    <tr>\n",
       "      <th>99984</th>\n",
       "      <td>58e4ce01fe7683152b59d397</td>\n",
       "      <td>595fa073fe7683316b2de926</td>\n",
       "      <td>[istoria#vera, liani#istoria#vera#controversia...</td>\n",
       "      <td>F. Ga- liani, Istoria vera della controversia ...</td>\n",
       "    </tr>\n",
       "    <tr>\n",
       "      <th>99985</th>\n",
       "      <td>58e4ce01fe7683152b59d39f</td>\n",
       "      <td>595fa073fe7683316b2de926</td>\n",
       "      <td>[macry#mercato#rit, mercato#rit, macry#mercato...</td>\n",
       "      <td>Macry, Mercato, rit., pp. 330-332.</td>\n",
       "    </tr>\n",
       "    <tr>\n",
       "      <th>99986</th>\n",
       "      <td>58e4ce01fe7683152b59d3a0</td>\n",
       "      <td>595fa073fe7683316b2de926</td>\n",
       "      <td>[distacamento#monte, provincia#abruzzo, creta#...</td>\n",
       "      <td>Chieti, nella provincia d’Abruzzo, il distacam...</td>\n",
       "    </tr>\n",
       "    <tr>\n",
       "      <th>99987</th>\n",
       "      <td>58e4ce01fe7683152b59d3a4</td>\n",
       "      <td>595fa073fe7683316b2de926</td>\n",
       "      <td>[istoria#vera, vera#cit, galiani#istoria#vera#...</td>\n",
       "      <td>Galiani, Istoria vera, cit., p. 313.</td>\n",
       "    </tr>\n",
       "    <tr>\n",
       "      <th>99988</th>\n",
       "      <td>58e4ce01fe7683152b59d3ac</td>\n",
       "      <td>595fa073fe7683316b2de926</td>\n",
       "      <td>[mercato#soaeta, macry#mercato#soaeta, macry#m...</td>\n",
       "      <td>Macry, Mercato e soaetà, cit., p. 356.</td>\n",
       "    </tr>\n",
       "    <tr>\n",
       "      <th>99989</th>\n",
       "      <td>58e4ce01fe7683152b59d3ad</td>\n",
       "      <td>595fa073fe7683316b2de926</td>\n",
       "      <td>[pitteri#1766, mauro#1766, pitteri#1767, pitte...</td>\n",
       "      <td>MAURO PITTERI 95. Gobbi al Senato, Napoli, 4 f...</td>\n",
       "    </tr>\n",
       "    <tr>\n",
       "      <th>99990</th>\n",
       "      <td>58e4ce01fe7683152b59d3af</td>\n",
       "      <td>595fa073fe7683316b2de926</td>\n",
       "      <td>[macry#societa#mercato, macry#societa#mercato#...</td>\n",
       "      <td>Macry, Società e mercato, cit., pp. 325-328:339,</td>\n",
       "    </tr>\n",
       "    <tr>\n",
       "      <th>99991</th>\n",
       "      <td>58e4ce01fe7683152b59d3b8</td>\n",
       "      <td>595fa073fe7683316b2de926</td>\n",
       "      <td>[lignola#presidente#cappa, lignola#parla#negoz...</td>\n",
       "      <td>Lignola, banchiere e mercante, presidente di c...</td>\n",
       "    </tr>\n",
       "    <tr>\n",
       "      <th>99992</th>\n",
       "      <td>58e4ce01fe7683152b59d3c2</td>\n",
       "      <td>595fa073fe7683316b2de926</td>\n",
       "      <td>[mauro#civitavecchia#poco, pitteri#spedito#imb...</td>\n",
       "      <td>MAURO PITTERI e spedito con imbarcazioni napol...</td>\n",
       "    </tr>\n",
       "    <tr>\n",
       "      <th>99993</th>\n",
       "      <td>58e4ce01fe7683152b59d3c5</td>\n",
       "      <td>595fa073fe7683316b2de926</td>\n",
       "      <td>[vivi#1943#95#97, vivi#1943#96#95, vivi#1943#9...</td>\n",
       "      <td>E. Vivi ani della Robbia, Bernardo Tanucci e i...</td>\n",
       "    </tr>\n",
       "    <tr>\n",
       "      <th>99994</th>\n",
       "      <td>58e4ce01fe7683152b59d3c8</td>\n",
       "      <td>595fa073fe7683316b2de926</td>\n",
       "      <td>[macry#societa#mercato, societa#mercato, macry...</td>\n",
       "      <td>Macry, Società e mercato, cit., p. 428.</td>\n",
       "    </tr>\n",
       "    <tr>\n",
       "      <th>99995</th>\n",
       "      <td>58e4ce01fe7683152b59d3c9</td>\n",
       "      <td>595fa06bfe7683316b2de75a</td>\n",
       "      <td>[mer#descendre#defendant, est#xvne#siecle, qua...</td>\n",
       "      <td>QUAND LA MER EST TERRITOIRE. PAOLO SARPI ET LE...</td>\n",
       "    </tr>\n",
       "    <tr>\n",
       "      <th>99996</th>\n",
       "      <td>58e4ce01fe7683152b59d3ca</td>\n",
       "      <td>595fa06bfe7683316b2de75a</td>\n",
       "      <td>[mare#adriatico, sarpi#1944, sarpi#1945, sarpi...</td>\n",
       "      <td>P. Sarpi, Il Dominio del Mare Adriatico, a cur...</td>\n",
       "    </tr>\n",
       "    <tr>\n",
       "      <th>99997</th>\n",
       "      <td>58e4ce01fe7683152b59d3cb</td>\n",
       "      <td>595fa06bfe7683316b2de75a</td>\n",
       "      <td>[sarpi#1969#622#632, sarpi#1970#624#630, sarpi...</td>\n",
       "      <td>P. Sarpi, Opere, a cura di G. e L. Cozzi, Mila...</td>\n",
       "    </tr>\n",
       "    <tr>\n",
       "      <th>99998</th>\n",
       "      <td>58e4ce01fe7683152b59d3cd</td>\n",
       "      <td>595fa06bfe7683316b2de75a</td>\n",
       "      <td>[pin#2001#393#395, pin#2000#243, pin#2002, pin...</td>\n",
       "      <td>C. Pin, Dominio del Mare Adriatico della Seren...</td>\n",
       "    </tr>\n",
       "    <tr>\n",
       "      <th>99999</th>\n",
       "      <td>58e4ce01fe7683152b59d3d1</td>\n",
       "      <td>595fa06bfe7683316b2de75a</td>\n",
       "      <td>[opere#rit, sarpi#opere#rit#1311, sarpi#opere#...</td>\n",
       "      <td>P. Sarpi, Opere, rit., p. 1311,</td>\n",
       "    </tr>\n",
       "  </tbody>\n",
       "</table>\n",
       "<p>100000 rows × 4 columns</p>\n",
       "</div>"
      ],
      "text/plain": [
       "                         ref_id                    doc_id  \\\n",
       "0      58e4ce00fe7683152b55e325  595f9e11fe7683316b2dd3f5   \n",
       "1      58e4ce00fe7683152b55e328  595f9e37fe7683316b2dd4b4   \n",
       "2      58e4ce00fe7683152b55e32b  595f9e37fe7683316b2dd4b4   \n",
       "3      58e4ce00fe7683152b55e330  595f9e0efe7683316b2dd3eb   \n",
       "4      58e4ce00fe7683152b55e336  595f9f57fe7683316b2dda8c   \n",
       "5      58e4ce00fe7683152b55e338  595f9e34fe7683316b2dd4ab   \n",
       "6      58e4ce00fe7683152b55e339  595f9e29fe7683316b2dd470   \n",
       "7      58e4ce00fe7683152b55e33a  595f9e29fe7683316b2dd470   \n",
       "8      58e4ce00fe7683152b55e33c  595f9e29fe7683316b2dd470   \n",
       "9      58e4ce00fe7683152b55e33d  595f9e2afe7683316b2dd476   \n",
       "10     58e4ce00fe7683152b55e33e  595f9e2afe7683316b2dd476   \n",
       "11     58e4ce00fe7683152b55e33f  595f9e2afe7683316b2dd476   \n",
       "12     58e4ce00fe7683152b55e34f  595f9e39fe7683316b2dd4bc   \n",
       "13     58e4ce00fe7683152b55e351  595f9e39fe7683316b2dd4bc   \n",
       "14     58e4ce00fe7683152b55e352  595f9e39fe7683316b2dd4bc   \n",
       "15     58e4ce00fe7683152b55e359  595f9e34fe7683316b2dd4ab   \n",
       "16     58e4ce00fe7683152b55e35a  595f9e36fe7683316b2dd4ae   \n",
       "17     58e4ce00fe7683152b55e35b  595f9e36fe7683316b2dd4ae   \n",
       "18     58e4ce00fe7683152b55e361  595f9f98fe7683316b2ddbe2   \n",
       "19     58e4ce00fe7683152b55e364  595f9f7ffe7683316b2ddb5f   \n",
       "20     58e4ce00fe7683152b55e365  595f9f7ffe7683316b2ddb5f   \n",
       "21     58e4ce00fe7683152b55e370  595f9e53fe7683316b2dd543   \n",
       "22     58e4ce00fe7683152b55e371  595f9e53fe7683316b2dd543   \n",
       "23     58e4ce00fe7683152b55e373  595f9e53fe7683316b2dd543   \n",
       "24     58e4ce00fe7683152b55e377  595f9e36fe7683316b2dd4b0   \n",
       "25     58e4ce00fe7683152b55e37a  595f9e10fe7683316b2dd3f2   \n",
       "26     58e4ce00fe7683152b55e37b  595f9e10fe7683316b2dd3f2   \n",
       "27     58e4ce00fe7683152b55e37d  595f9e10fe7683316b2dd3f2   \n",
       "28     58e4ce00fe7683152b55e37f  595f9e10fe7683316b2dd3f2   \n",
       "29     58e4ce00fe7683152b55e383  595f9f52fe7683316b2dda7a   \n",
       "...                         ...                       ...   \n",
       "99970  58e4ce01fe7683152b59d311  595fa073fe7683316b2de926   \n",
       "99971  58e4ce01fe7683152b59d321  595fa073fe7683316b2de926   \n",
       "99972  58e4ce01fe7683152b59d324  595fa073fe7683316b2de926   \n",
       "99973  58e4ce01fe7683152b59d32f  595fa073fe7683316b2de926   \n",
       "99974  58e4ce01fe7683152b59d33c  595fa073fe7683316b2de926   \n",
       "99975  58e4ce01fe7683152b59d350  595fa073fe7683316b2de926   \n",
       "99976  58e4ce01fe7683152b59d359  595fa073fe7683316b2de926   \n",
       "99977  58e4ce01fe7683152b59d35e  595fa073fe7683316b2de926   \n",
       "99978  58e4ce01fe7683152b59d35f  595fa073fe7683316b2de926   \n",
       "99979  58e4ce01fe7683152b59d364  595fa073fe7683316b2de926   \n",
       "99980  58e4ce01fe7683152b59d36b  595fa073fe7683316b2de926   \n",
       "99981  58e4ce01fe7683152b59d374  595fa073fe7683316b2de926   \n",
       "99982  58e4ce01fe7683152b59d381  595fa073fe7683316b2de926   \n",
       "99983  58e4ce01fe7683152b59d38a  595fa073fe7683316b2de926   \n",
       "99984  58e4ce01fe7683152b59d397  595fa073fe7683316b2de926   \n",
       "99985  58e4ce01fe7683152b59d39f  595fa073fe7683316b2de926   \n",
       "99986  58e4ce01fe7683152b59d3a0  595fa073fe7683316b2de926   \n",
       "99987  58e4ce01fe7683152b59d3a4  595fa073fe7683316b2de926   \n",
       "99988  58e4ce01fe7683152b59d3ac  595fa073fe7683316b2de926   \n",
       "99989  58e4ce01fe7683152b59d3ad  595fa073fe7683316b2de926   \n",
       "99990  58e4ce01fe7683152b59d3af  595fa073fe7683316b2de926   \n",
       "99991  58e4ce01fe7683152b59d3b8  595fa073fe7683316b2de926   \n",
       "99992  58e4ce01fe7683152b59d3c2  595fa073fe7683316b2de926   \n",
       "99993  58e4ce01fe7683152b59d3c5  595fa073fe7683316b2de926   \n",
       "99994  58e4ce01fe7683152b59d3c8  595fa073fe7683316b2de926   \n",
       "99995  58e4ce01fe7683152b59d3c9  595fa06bfe7683316b2de75a   \n",
       "99996  58e4ce01fe7683152b59d3ca  595fa06bfe7683316b2de75a   \n",
       "99997  58e4ce01fe7683152b59d3cb  595fa06bfe7683316b2de75a   \n",
       "99998  58e4ce01fe7683152b59d3cd  595fa06bfe7683316b2de75a   \n",
       "99999  58e4ce01fe7683152b59d3d1  595fa06bfe7683316b2de75a   \n",
       "\n",
       "                                                  hashes  \\\n",
       "0      [giovanni#asilo#scilla, ateneo#soci#scomparsi,...   \n",
       "1      [hans#drawings#the, hans#1943#221, the#drawing...   \n",
       "2      [devant#als, heil#palma#devant#als#zeichner#ja...   \n",
       "3      [croce#modesti#innumerevoli, croce#vigilia#mor...   \n",
       "4      [monticolo#1906#468, monticolo#1906#467, capit...   \n",
       "5      [croce#pascoli, rodaun#tre, croce#articoli#cro...   \n",
       "6      [anno#cxlii, veneto#anno#cxlii, ateneo#anno#cx...   \n",
       "7      [freemantlc#caro, australia#colombo#freemantlc...   \n",
       "8      [scarica#acqua, purtroppo#pom#pieri, purtroppo...   \n",
       "9      [postilla#tiepolesca#ipinse#venezia, tiepolesc...   \n",
       "10     [porto#oggi#cipollato, angelo#vincenzo, cipoll...   \n",
       "11     [morassi#1941, morassi#precisazioni#tiepolo, m...   \n",
       "12     [itinerario#terra, sanudo#1848, sanudo#1847, s...   \n",
       "13     [chiori#cavriolo#situato, chiori#serviva#addes...   \n",
       "14     [cappellini#1875, cappellini#lendinara#castell...   \n",
       "15     [croce#pascoli, rodaun#tre, croce#articoli#cro...   \n",
       "16     [annunzio#comincia#facile, carducci#carattere#...   \n",
       "17     [borgese#inviai#croce, borgese#pubblicati#inse...   \n",
       "18     [filippo#otto#sain, otto#sain, filippo#lanz#ot...   \n",
       "19     [dennis#1560#1626, biblioteca#gentiluomo#coneg...   \n",
       "20     [intorno#anno, rhodes#1600#ateneo, rhodes#cone...   \n",
       "21     [achille#1941#104, bosisio#1942#106, achille#1...   \n",
       "22     [vittorio#forte#poeta, vittorio#pompeo#molment...   \n",
       "23     [fogazzaro#ateneo, bosisio#ateneo#veneto, bosi...   \n",
       "24     [tempi#crisi, drammatico#molto#tempi, crisi#te...   \n",
       "25     [anni#parecchi, oggi#casa#carmini, arte#italia...   \n",
       "26     [scultorea#ottone, modigliani#giche#inspirazio...   \n",
       "27     [viani#romanelli#messina, mafai#seibezzi#lillo...   \n",
       "28     [catalogo#domenico#natura, catalogo#violini#ri...   \n",
       "29     [note#arte#veneta, bortolotto#chiesa#san, san#...   \n",
       "...                                                  ...   \n",
       "99970  [renzi#1869, renzi#anno#ossia, renzi#1869#154,...   \n",
       "99971                                      [tanucci#xiv]   \n",
       "99972  [sardo#1990#195#198, sardo#londra#xviii, sardo...   \n",
       "99973  [villani#politica#cit, politica#cit, villani#b...   \n",
       "99974  [provveditori#sanita, mauro#provveditori#sanit...   \n",
       "99975  [felloni#seicento#restaurazione, felloni#1972#...   \n",
       "99976                             [dispacci#xxi#657#658]   \n",
       "99977  [citta#stesso, guidotti#1780#strazzullo, redas...   \n",
       "99978  [carso#tamente#spediti, provano#intento, poles...   \n",
       "99979  [058#grano, kaunitz#rilasciare#altro, kaunitz#...   \n",
       "99980                     [tanucci#xiii#336#386#388#394]   \n",
       "99981                              [tanucci#xiv#356#357]   \n",
       "99982  [uomo#opera, assante#jannucci#uomo, battista#m...   \n",
       "99983                                  [tanucci#xiv#458]   \n",
       "99984  [istoria#vera, liani#istoria#vera#controversia...   \n",
       "99985  [macry#mercato#rit, mercato#rit, macry#mercato...   \n",
       "99986  [distacamento#monte, provincia#abruzzo, creta#...   \n",
       "99987  [istoria#vera, vera#cit, galiani#istoria#vera#...   \n",
       "99988  [mercato#soaeta, macry#mercato#soaeta, macry#m...   \n",
       "99989  [pitteri#1766, mauro#1766, pitteri#1767, pitte...   \n",
       "99990  [macry#societa#mercato, macry#societa#mercato#...   \n",
       "99991  [lignola#presidente#cappa, lignola#parla#negoz...   \n",
       "99992  [mauro#civitavecchia#poco, pitteri#spedito#imb...   \n",
       "99993  [vivi#1943#95#97, vivi#1943#96#95, vivi#1943#9...   \n",
       "99994  [macry#societa#mercato, societa#mercato, macry...   \n",
       "99995  [mer#descendre#defendant, est#xvne#siecle, qua...   \n",
       "99996  [mare#adriatico, sarpi#1944, sarpi#1945, sarpi...   \n",
       "99997  [sarpi#1969#622#632, sarpi#1970#624#630, sarpi...   \n",
       "99998  [pin#2001#393#395, pin#2000#243, pin#2002, pin...   \n",
       "99999  [opere#rit, sarpi#opere#rit#1311, sarpi#opere#...   \n",
       "\n",
       "                                                 surface  \n",
       "0      ATTI DELL’ATENEO necrologio GIOVANNI MANETTI F...  \n",
       "1      Hans Tietzte - Tietzte Conrad The drawings of ...  \n",
       "2      Heil Palma devant als Zeichner, in \"in Jahrbuc...  \n",
       "3      LA CROCE el vialetto che girava attorno allo s...  \n",
       "4      Monticolo, I capitolari delle arti veneziane, ...  \n",
       "5      B. Croce. Intanto erano giunti a Rodaun i tre ...  \n",
       "6                 ATENEO VENETO Anno CXLII Vol. 135 - N.  \n",
       "7      VIAGGIO PER L’AUSTRALIA Da bordo S/S Toscana f...  \n",
       "8      Purtroppo, dopo un quarto d’ora arrivarono i p...  \n",
       "9               UNA POSTILLA TIEPOLESCA ipinse a Venezia  \n",
       "10     Sandi Porto, oggi Cipollato a S. Angelo. Vince...  \n",
       "11     Morassi, Novità e precisazioni sul Tiepolo in ...  \n",
       "12     M. Sañudo, Itinerario per la terra di Venezia ...  \n",
       "13     Mar- chiori, ed il terzo chiamato Cavriolo, si...  \n",
       "14     Cappellini, Memorie di Lendinara. Il Castello,...  \n",
       "15     B. Croce. Intanto erano giunti a Rodaun i tre ...  \n",
       "16     D’Annunzio. Del Carducci, mi occupo di propo- ...  \n",
       "17     G. A. Borgese, per ringra- ziamento del suo Go...  \n",
       "18     Filippo Lanz, Otto Sain, Misha Seifert, Albino...  \n",
       "19     Dennis E. Rhodes ADDENDUM PER LA BIBLIOTECA DI...  \n",
       "20     D.E. Rhodes, Una biblioteca privata a Coneglia...  \n",
       "21     Achille Bosisio, Giosuè Carducci e un letteral...  \n",
       "22     Vittorio Salmini, forte poeta e drammaturgo co...  \n",
       "23     Achille Bosisio, Un ricordo di A. Fogazzaro al...  \n",
       "24     LA CRISI DEL TEATRO DRAMMATICO S i parla molto...  \n",
       "25     ARTE ITALIANA D’OGGI IN UNA RACCOLTA VENEZIANA...  \n",
       "26     Modigliani : cioè nel senso primo e più ovvio ...  \n",
       "27     Viani e Mafai, Seibezzi e Lilloni, Romanelli e...  \n",
       "28     Diego Valeri CATALOGO PITTURA Campigli Massimo...  \n",
       "29     NOTE 1A. Alver.X Bortolotto, II pavimento maio...  \n",
       "...                                                  ...  \n",
       "99970  De Renzi, Napoli nell’anno 17 64 ossia documen...  \n",
       "99971                             (Tanucci, xiv, p. 77).  \n",
       "99972  E. Lo Sardo, Napoli e Londra nel XVIII secolo....  \n",
       "99973             Villani, Una battaglia politica, cit.;  \n",
       "99974  MAURO PITTERI 66. Gobbi ai Provveditori alla S...  \n",
       "99975  G. Felloni, Gli investimenti finanziari genove...  \n",
       "99976                        Dispacci, xxi, pp. 657-658:  \n",
       "99977  Guidotti, celebre avvocato napoletano redasse ...  \n",
       "99978  «Carso, Orgnano, Stiria, Polesine e Padovano e...  \n",
       "99979  Kaunitz, Brentani rifiuta di sottoporsi a giud...  \n",
       "99980                Tanucci, xiii, pp. 336,386-388,394.  \n",
       "99981                         Tanucci, xiv, pp. 356-357.  \n",
       "99982  F. Assante, Giovati Battista Maria Jannucci. L...  \n",
       "99983                              Tanucci, xiv, p. 458;  \n",
       "99984  F. Ga- liani, Istoria vera della controversia ...  \n",
       "99985                 Macry, Mercato, rit., pp. 330-332.  \n",
       "99986  Chieti, nella provincia d’Abruzzo, il distacam...  \n",
       "99987               Galiani, Istoria vera, cit., p. 313.  \n",
       "99988             Macry, Mercato e soaetà, cit., p. 356.  \n",
       "99989  MAURO PITTERI 95. Gobbi al Senato, Napoli, 4 f...  \n",
       "99990   Macry, Società e mercato, cit., pp. 325-328:339,  \n",
       "99991  Lignola, banchiere e mercante, presidente di c...  \n",
       "99992  MAURO PITTERI e spedito con imbarcazioni napol...  \n",
       "99993  E. Vivi ani della Robbia, Bernardo Tanucci e i...  \n",
       "99994            Macry, Società e mercato, cit., p. 428.  \n",
       "99995  QUAND LA MER EST TERRITOIRE. PAOLO SARPI ET LE...  \n",
       "99996  P. Sarpi, Il Dominio del Mare Adriatico, a cur...  \n",
       "99997  P. Sarpi, Opere, a cura di G. e L. Cozzi, Mila...  \n",
       "99998  C. Pin, Dominio del Mare Adriatico della Seren...  \n",
       "99999                    P. Sarpi, Opere, rit., p. 1311,  \n",
       "\n",
       "[100000 rows x 4 columns]"
      ]
     },
     "execution_count": 56,
     "metadata": {},
     "output_type": "execute_result"
    }
   ],
   "source": [
    "df_temp_s"
   ]
  },
  {
   "cell_type": "code",
   "execution_count": null,
   "metadata": {},
   "outputs": [],
   "source": []
  },
  {
   "cell_type": "code",
   "execution_count": 4,
   "metadata": {},
   "outputs": [
    {
     "data": {
      "text/html": [
       "<div>\n",
       "<style scoped>\n",
       "    .dataframe tbody tr th:only-of-type {\n",
       "        vertical-align: middle;\n",
       "    }\n",
       "\n",
       "    .dataframe tbody tr th {\n",
       "        vertical-align: top;\n",
       "    }\n",
       "\n",
       "    .dataframe thead th {\n",
       "        text-align: right;\n",
       "    }\n",
       "</style>\n",
       "<table border=\"1\" class=\"dataframe\">\n",
       "  <thead>\n",
       "    <tr style=\"text-align: right;\">\n",
       "      <th></th>\n",
       "      <th>Unnamed: 0</th>\n",
       "      <th>seed_ref_id</th>\n",
       "      <th>seed_doc_id</th>\n",
       "      <th>seed_surface</th>\n",
       "      <th>ref_id</th>\n",
       "      <th>doc_id</th>\n",
       "      <th>surface</th>\n",
       "      <th>True</th>\n",
       "      <th>Hash</th>\n",
       "    </tr>\n",
       "  </thead>\n",
       "  <tbody>\n",
       "    <tr>\n",
       "      <th>0</th>\n",
       "      <td>0</td>\n",
       "      <td>58e4ce00fe7683152b55e336</td>\n",
       "      <td>595f9f57fe7683316b2dda8c</td>\n",
       "      <td>Monticolo, I capitolari delle arti veneziane, ...</td>\n",
       "      <td>58e4ce00fe7683152b55e336</td>\n",
       "      <td>595f9f57fe7683316b2dda8c</td>\n",
       "      <td>Monticolo, I capitolari delle arti veneziane, ...</td>\n",
       "      <td>0</td>\n",
       "      <td>1</td>\n",
       "    </tr>\n",
       "    <tr>\n",
       "      <th>1</th>\n",
       "      <td>17</td>\n",
       "      <td>58e4ce00fe7683152b55e336</td>\n",
       "      <td>595f9f57fe7683316b2dda8c</td>\n",
       "      <td>Monticolo, I capitolari delle arti veneziane, ...</td>\n",
       "      <td>58e4ce01fe7683152b57c0c4</td>\n",
       "      <td>595f9d70fe7683316b2dcf22</td>\n",
       "      <td>G. Giomo e F. Visentini, Le grosse galere Vene...</td>\n",
       "      <td>0</td>\n",
       "      <td>1</td>\n",
       "    </tr>\n",
       "    <tr>\n",
       "      <th>2</th>\n",
       "      <td>34</td>\n",
       "      <td>58e4ce00fe7683152b55e336</td>\n",
       "      <td>595f9f57fe7683316b2dda8c</td>\n",
       "      <td>Monticolo, I capitolari delle arti veneziane, ...</td>\n",
       "      <td>58e4ce00fe7683152b55f1db</td>\n",
       "      <td>595f9f9ffe7683316b2ddc03</td>\n",
       "      <td>Prodi, Intervento cit., p. 216.</td>\n",
       "      <td>0</td>\n",
       "      <td>1</td>\n",
       "    </tr>\n",
       "    <tr>\n",
       "      <th>3</th>\n",
       "      <td>41</td>\n",
       "      <td>58e4ce00fe7683152b55e336</td>\n",
       "      <td>595f9f57fe7683316b2dda8c</td>\n",
       "      <td>Monticolo, I capitolari delle arti veneziane, ...</td>\n",
       "      <td>58e4ce01fe7683152b57d1be</td>\n",
       "      <td>595f9d61fe7683316b2dccaf</td>\n",
       "      <td>G. Monticolo, I capitolari delle Arti venezian...</td>\n",
       "      <td>0</td>\n",
       "      <td>1</td>\n",
       "    </tr>\n",
       "    <tr>\n",
       "      <th>4</th>\n",
       "      <td>48</td>\n",
       "      <td>58e4ce00fe7683152b55e336</td>\n",
       "      <td>595f9f57fe7683316b2dda8c</td>\n",
       "      <td>Monticolo, I capitolari delle arti veneziane, ...</td>\n",
       "      <td>58e4ce00fe7683152b55f1f7</td>\n",
       "      <td>595f9fddfe7683316b2ddd4f</td>\n",
       "      <td>Giacomo Nani, Della difesa di Venezia, a cura ...</td>\n",
       "      <td>0</td>\n",
       "      <td>1</td>\n",
       "    </tr>\n",
       "  </tbody>\n",
       "</table>\n",
       "</div>"
      ],
      "text/plain": [
       "   Unnamed: 0               seed_ref_id               seed_doc_id  \\\n",
       "0           0  58e4ce00fe7683152b55e336  595f9f57fe7683316b2dda8c   \n",
       "1          17  58e4ce00fe7683152b55e336  595f9f57fe7683316b2dda8c   \n",
       "2          34  58e4ce00fe7683152b55e336  595f9f57fe7683316b2dda8c   \n",
       "3          41  58e4ce00fe7683152b55e336  595f9f57fe7683316b2dda8c   \n",
       "4          48  58e4ce00fe7683152b55e336  595f9f57fe7683316b2dda8c   \n",
       "\n",
       "                                        seed_surface  \\\n",
       "0  Monticolo, I capitolari delle arti veneziane, ...   \n",
       "1  Monticolo, I capitolari delle arti veneziane, ...   \n",
       "2  Monticolo, I capitolari delle arti veneziane, ...   \n",
       "3  Monticolo, I capitolari delle arti veneziane, ...   \n",
       "4  Monticolo, I capitolari delle arti veneziane, ...   \n",
       "\n",
       "                     ref_id                    doc_id  \\\n",
       "0  58e4ce00fe7683152b55e336  595f9f57fe7683316b2dda8c   \n",
       "1  58e4ce01fe7683152b57c0c4  595f9d70fe7683316b2dcf22   \n",
       "2  58e4ce00fe7683152b55f1db  595f9f9ffe7683316b2ddc03   \n",
       "3  58e4ce01fe7683152b57d1be  595f9d61fe7683316b2dccaf   \n",
       "4  58e4ce00fe7683152b55f1f7  595f9fddfe7683316b2ddd4f   \n",
       "\n",
       "                                             surface  True  Hash  \n",
       "0  Monticolo, I capitolari delle arti veneziane, ...     0     1  \n",
       "1  G. Giomo e F. Visentini, Le grosse galere Vene...     0     1  \n",
       "2                    Prodi, Intervento cit., p. 216.     0     1  \n",
       "3  G. Monticolo, I capitolari delle Arti venezian...     0     1  \n",
       "4  Giacomo Nani, Della difesa di Venezia, a cura ...     0     1  "
      ]
     },
     "execution_count": 4,
     "metadata": {},
     "output_type": "execute_result"
    }
   ],
   "source": [
    "df = pd.read_csv('./sample_csv/58e4ce00fe7683152b55e336.csv')\n",
    "df.head()"
   ]
  },
  {
   "cell_type": "code",
   "execution_count": 19,
   "metadata": {},
   "outputs": [
    {
     "data": {
      "text/html": [
       "<div>\n",
       "<style scoped>\n",
       "    .dataframe tbody tr th:only-of-type {\n",
       "        vertical-align: middle;\n",
       "    }\n",
       "\n",
       "    .dataframe tbody tr th {\n",
       "        vertical-align: top;\n",
       "    }\n",
       "\n",
       "    .dataframe thead th {\n",
       "        text-align: right;\n",
       "    }\n",
       "</style>\n",
       "<table border=\"1\" class=\"dataframe\">\n",
       "  <thead>\n",
       "    <tr style=\"text-align: right;\">\n",
       "      <th></th>\n",
       "      <th>ref_id</th>\n",
       "      <th>doc_id</th>\n",
       "      <th>surface</th>\n",
       "      <th>hashtag</th>\n",
       "    </tr>\n",
       "  </thead>\n",
       "  <tbody>\n",
       "    <tr>\n",
       "      <th>0</th>\n",
       "      <td>58e4ce00fe7683152b55e325</td>\n",
       "      <td>595f9e11fe7683316b2dd3f5</td>\n",
       "      <td>ATTI DELL’ATENEO necrologio GIOVANNI MANETTI F...</td>\n",
       "      <td>giovanni#asilo#scilla</td>\n",
       "    </tr>\n",
       "    <tr>\n",
       "      <th>0</th>\n",
       "      <td>58e4ce00fe7683152b55e325</td>\n",
       "      <td>595f9e11fe7683316b2dd3f5</td>\n",
       "      <td>ATTI DELL’ATENEO necrologio GIOVANNI MANETTI F...</td>\n",
       "      <td>ateneo#soci#scomparsi</td>\n",
       "    </tr>\n",
       "    <tr>\n",
       "      <th>0</th>\n",
       "      <td>58e4ce00fe7683152b55e325</td>\n",
       "      <td>595f9e11fe7683316b2dd3f5</td>\n",
       "      <td>ATTI DELL’ATENEO necrologio GIOVANNI MANETTI F...</td>\n",
       "      <td>veneti#rico</td>\n",
       "    </tr>\n",
       "    <tr>\n",
       "      <th>0</th>\n",
       "      <td>58e4ce00fe7683152b55e325</td>\n",
       "      <td>595f9e11fe7683316b2dd3f5</td>\n",
       "      <td>ATTI DELL’ATENEO necrologio GIOVANNI MANETTI F...</td>\n",
       "      <td>giovanni#fra#soci</td>\n",
       "    </tr>\n",
       "    <tr>\n",
       "      <th>0</th>\n",
       "      <td>58e4ce00fe7683152b55e325</td>\n",
       "      <td>595f9e11fe7683316b2dd3f5</td>\n",
       "      <td>ATTI DELL’ATENEO necrologio GIOVANNI MANETTI F...</td>\n",
       "      <td>giovanni#opera#tesori</td>\n",
       "    </tr>\n",
       "  </tbody>\n",
       "</table>\n",
       "</div>"
      ],
      "text/plain": [
       "                     ref_id                    doc_id  \\\n",
       "0  58e4ce00fe7683152b55e325  595f9e11fe7683316b2dd3f5   \n",
       "0  58e4ce00fe7683152b55e325  595f9e11fe7683316b2dd3f5   \n",
       "0  58e4ce00fe7683152b55e325  595f9e11fe7683316b2dd3f5   \n",
       "0  58e4ce00fe7683152b55e325  595f9e11fe7683316b2dd3f5   \n",
       "0  58e4ce00fe7683152b55e325  595f9e11fe7683316b2dd3f5   \n",
       "\n",
       "                                             surface                hashtag  \n",
       "0  ATTI DELL’ATENEO necrologio GIOVANNI MANETTI F...  giovanni#asilo#scilla  \n",
       "0  ATTI DELL’ATENEO necrologio GIOVANNI MANETTI F...  ateneo#soci#scomparsi  \n",
       "0  ATTI DELL’ATENEO necrologio GIOVANNI MANETTI F...            veneti#rico  \n",
       "0  ATTI DELL’ATENEO necrologio GIOVANNI MANETTI F...      giovanni#fra#soci  \n",
       "0  ATTI DELL’ATENEO necrologio GIOVANNI MANETTI F...  giovanni#opera#tesori  "
      ]
     },
     "execution_count": 19,
     "metadata": {},
     "output_type": "execute_result"
    }
   ],
   "source": [
    "df_temp = pd.read_pickle(\"hashsplit1.pickle\")\n",
    "df_temp.head()"
   ]
  },
  {
   "cell_type": "code",
   "execution_count": 3,
   "metadata": {},
   "outputs": [],
   "source": [
    "def get_repr(did):\n",
    "    a = Article.objects(_id=did)\n",
    "    if len(a): \n",
    "        return repr(a[0])\n",
    "    \n",
    "    b = Book.objects(_id=did)\n",
    "    if len(b): \n",
    "        return repr(b[0])\n",
    "    \n",
    "    return ''"
   ]
  },
  {
   "cell_type": "code",
   "execution_count": 4,
   "metadata": {},
   "outputs": [],
   "source": [
    "def hash_match_csv(rid):\n",
    "    # get hashes of the ref\n",
    "    for i in range(13):\n",
    "        df_temp = pd.read_pickle(\"./pickle/hashsample/hashsample{}.pickle\".format(i+1))\n",
    "        if len(df_temp[df_temp.ref_id==rid]) != 0:\n",
    "            hashes = df_temp[df_temp.ref_id==rid].hashes.values[0]\n",
    "            doc_id = df_temp[df_temp.ref_id==rid].doc_id.values[0]\n",
    "            surface = df_temp[df_temp.ref_id==rid].surface.values[0]\n",
    "            break\n",
    "    \n",
    "    # get all matches\n",
    "    list_result = []\n",
    "    for i in range(13):\n",
    "        df_temp = pd.read_pickle(\"./pickle/hashsplit/hashsplit{}.pickle\".format(i+1))\n",
    "        list_result.append(df_temp.query('hashtag in @hashes')[['ref_id','doc_id','surface','hashtag']])\n",
    "    pd_result = pd.concat(list_result)\n",
    "    \n",
    "    # with hashes\n",
    "    pd_result['seed_ref_id'] = rid\n",
    "    pd_result['seed_doc_id'] = doc_id\n",
    "    pd_result['seed_doc'] = get_repr(doc_id)\n",
    "    pd_result['seed_surface'] = surface\n",
    "    pd_result['doc'] = pd_result.doc_id.apply(get_repr)\n",
    "    cols = ['seed_ref_id','seed_doc_id','seed_doc','seed_surface','ref_id','doc_id','doc','surface','hashtag']\n",
    "    pd_result = pd_result[cols]\n",
    "    \n",
    "    # without hashes only matches\n",
    "    pd_csv = pd_result[cols[:-1]]\n",
    "    pd_csv = pd_csv.drop_duplicates()\n",
    "    pd_csv['True'] = 0\n",
    "    pd_csv['Hash'] = 1\n",
    "    \n",
    "    length = len(pd_csv)\n",
    "    \n",
    "    pd_result.to_csv(f'./sample_csv/{length}_{rid}_hashes.csv')\n",
    "    pd_csv.to_csv(f'./sample_csv/{length}_{rid}.csv')\n",
    "    \n",
    "    return pd_result, pd_csv, length"
   ]
  },
  {
   "cell_type": "code",
   "execution_count": 5,
   "metadata": {},
   "outputs": [],
   "source": [
    "def find_match(rid):\n",
    "    print(Reference.objects(_id=rid).first().reference_string)\n",
    "    pd_result, pd_csv, length = hash_match_csv(rid)\n",
    "    print(f'Total matches: {length}')"
   ]
  },
  {
   "cell_type": "code",
   "execution_count": 10,
   "metadata": {},
   "outputs": [],
   "source": [
    "rids = [ObjectId(\"58e4ce00fe7683152b566af1\"),\n",
    "        ObjectId(\"58e4ce00fe7683152b55e336\"),\n",
    "        ObjectId(\"58e4ce00fe7683152b55e33f\"),\n",
    "        ObjectId(\"58e4ce00fe7683152b55e34f\"),\n",
    "        ObjectId(\"58e4ce00fe7683152b55e370\"),\n",
    "        ObjectId(\"58e4ce00fe7683152b55e38b\"),\n",
    "        ObjectId(\"58e4ce00fe7683152b55e39d\"),\n",
    "        ObjectId(\"58e4ce00fe7683152b55e39e\"),\n",
    "        ObjectId(\"58e4ce00fe7683152b55e3a9\"),\n",
    "        ObjectId(\"58e4ce00fe7683152b560601\")]"
   ]
  },
  {
   "cell_type": "code",
   "execution_count": 11,
   "metadata": {},
   "outputs": [
    {
     "name": "stdout",
     "output_type": "stream",
     "text": [
      "0\n",
      "Da Canal Vincenzo, Vita di Gregorio Lazzarini [pubblicata da Gian- nantonio Moschini], Venezia, Stamperia Palese, 1809.\n",
      "Total matches: 180\n",
      "\n",
      "\n",
      "1\n",
      "Monticolo, I capitolari delle arti veneziane, voi. n, Roma 1905, p. 467\n",
      "Total matches: 418\n",
      "\n",
      "\n",
      "2\n",
      "Morassi, Novità e precisazioni sul Tiepolo in « Le Arti », 1942, p. 91.\n",
      "Total matches: 18\n",
      "\n",
      "\n",
      "3\n",
      "M. Sañudo, Itinerario per la terra di Venezia nel 1483, Padova, 1847.\n",
      "Total matches: 118\n",
      "\n",
      "\n",
      "4\n",
      "Achille Bosisio, Giosuè Carducci e un letterale Veneziano, in «Ateneo Veneto », Aprile-Giugno 1942, p. 105.\n",
      "Total matches: 2899\n",
      "\n",
      "\n",
      "5\n",
      "Cicogna, Delle inscrizioni veneziane, Venezia 1824-1853, voi. iv, p. 181.\n",
      "Total matches: 1140\n",
      "\n",
      "\n",
      "6\n",
      "G. Pavanello, La Scuola di S. Fan · tin ora Ateneo Veneto, Venezia, 1914;\n",
      "Total matches: 2886\n",
      "\n",
      "\n",
      "7\n",
      "R. Predelli, Le memorie e le carte di Alessandro Vittoria, Trento, 1908.\n",
      "Total matches: 546\n",
      "\n",
      "\n",
      "8\n",
      "Thieme Becker, Künstler Lexikon», Lipsia, 1908, vol. II, pp. 49*50)\n",
      "Total matches: 94\n",
      "\n",
      "\n",
      "9\n",
      "F.X. KRAUS, F. Petrarca e la sua corrispondenza epistolare, trad. D. VALBUSA; in Firenze, 1901\n",
      "Total matches: 32\n",
      "\n",
      "\n"
     ]
    }
   ],
   "source": [
    "for i, rid in enumerate(rids): \n",
    "    print(i)\n",
    "    find_match(rid)\n",
    "    print('\\n')"
   ]
  },
  {
   "cell_type": "code",
   "execution_count": 12,
   "metadata": {},
   "outputs": [],
   "source": [
    "rids_2 = [ObjectId(\"58e4ce00fe7683152b55e545\"),\n",
    "          ObjectId(\"58e4ce01fe7683152b58bd7d\"),\n",
    "          ObjectId(\"58e4ce01fe7683152b58ced4\"),\n",
    "          ObjectId(\"58e4ce00fe7683152b55e8d0\"),\n",
    "          ObjectId(\"58e4ce00fe7683152b55e998\"),\n",
    "          ObjectId(\"58e4ce00fe7683152b55eb67\"),\n",
    "          ObjectId(\"58e4ce00fe7683152b55ee21\"),\n",
    "          ObjectId(\"58e4ce00fe7683152b55fd7b\"),\n",
    "          ObjectId(\"58e4ce00fe7683152b561053\"),\n",
    "          ObjectId(\"58e4ce00fe7683152b56268f\")]"
   ]
  },
  {
   "cell_type": "code",
   "execution_count": 13,
   "metadata": {},
   "outputs": [
    {
     "name": "stdout",
     "output_type": "stream",
     "text": [
      "0\n",
      "Vita di Apostolo Zeno scrisse Francesco Negri (Venezia, Alvisopoli, 1816),\n",
      "Total matches: 296\n",
      "\n",
      "\n",
      "1\n",
      "Zanipolo catalogue by D. M. Berardelli, published in Nuova Raccolta d’Opuscoli Scientifici e Filologici (ed. Calo- gerà), 32-40 (1778-84),\n",
      "Total matches: 312\n",
      "\n",
      "\n",
      "2\n",
      "Diverse Orationi volgarmente scritte, raccolte per Francesco Sansovino, Venice 1561, ff. 51-54v, especially f. 52 v.\n",
      "Total matches: 128\n",
      "\n",
      "\n",
      "3\n",
      "G. CASANOVA, Istoria delle turbolenze della Polonia , Marsilio, Padova 1974, p. 55.\n",
      "Total matches: 32\n",
      "\n",
      "\n",
      "4\n",
      "Grillo, Venezia. Le difese a mare. Profilo architettonico delle opere di dife- sa idraulica nei litorali di Venezia, Venezia 1989, fig. ΧΧΧΠΙ p. 212.\n",
      "Total matches: 1870\n",
      "\n",
      "\n",
      "5\n",
      "GABRIELLA FERRI PlCCALUGA, Il confine del Nord , Boario Terme 1989, pp. 305-334\n",
      "Total matches: 56\n",
      "\n",
      "\n",
      "6\n",
      "A. Rizzi, Canaletto w Warszawie, p. 68, fig. 20, p. 66;\n",
      "Total matches: 2\n",
      "\n",
      "\n",
      "7\n",
      "Vollard, En écoutant Cézanne, Degas, Renoir, Paris 1838, pp. 201-202.\n",
      "Total matches: 1\n",
      "\n",
      "\n",
      "8\n",
      "FEDALTO, Hierarchia latina, Cala- monensis. 10CORNER, Creta sacra, II, pp. 149-159;\n",
      "Total matches: 87\n",
      "\n",
      "\n",
      "9\n",
      "E VENDRAMINI, La Pieve e le Regole, pp. 337-345.\n",
      "Total matches: 17\n",
      "\n",
      "\n"
     ]
    }
   ],
   "source": [
    "for i, rid in enumerate(rids_2): \n",
    "    print(i)\n",
    "    find_match(rid)\n",
    "    print('\\n')"
   ]
  },
  {
   "cell_type": "code",
   "execution_count": 6,
   "metadata": {},
   "outputs": [
    {
     "name": "stdout",
     "output_type": "stream",
     "text": [
      "S. Marco, Lettera inedita di Giustina Renier Michiel alla figlia, pubbl. dal dott. Cesare Musatti per le nozze Musatti-Coen, Venezia 1893.\n",
      "Total matches: 203\n"
     ]
    }
   ],
   "source": [
    "rid = ObjectId(\"58e4ce00fe7683152b5639a3\")\n",
    "find_match(rid)"
   ]
  },
  {
   "cell_type": "code",
   "execution_count": 7,
   "metadata": {},
   "outputs": [
    {
     "name": "stdout",
     "output_type": "stream",
     "text": [
      "A. Quatremère de Quincy, Canova et ses ouvrages, Paris 1834, p. 288s.\n",
      "Total matches: 30\n"
     ]
    }
   ],
   "source": [
    "rid = ObjectId(\"58e4ce00fe7683152b5639bd\")\n",
    "find_match(rid)"
   ]
  },
  {
   "cell_type": "code",
   "execution_count": 8,
   "metadata": {},
   "outputs": [
    {
     "name": "stdout",
     "output_type": "stream",
     "text": [
      "M. L. Gonelli, La scuola storica, in Storia della letteratura italiana, diretta da\n",
      "Total matches: 2278\n"
     ]
    }
   ],
   "source": [
    "rid = ObjectId(\"58e4ce00fe7683152b563b99\")\n",
    "find_match(rid)"
   ]
  },
  {
   "cell_type": "code",
   "execution_count": 9,
   "metadata": {},
   "outputs": [
    {
     "name": "stdout",
     "output_type": "stream",
     "text": [
      "M. Moretti, Gentile, D'Ancona e la 'scuola' pisana, «Giornale critico della filosofìa italiana», LXXVIII, 1999, pp. 65-116.\n",
      "Total matches: 102\n"
     ]
    }
   ],
   "source": [
    "rid = ObjectId(\"58e4ce00fe7683152b563b9c\")\n",
    "find_match(rid)"
   ]
  },
  {
   "cell_type": "code",
   "execution_count": 10,
   "metadata": {},
   "outputs": [
    {
     "name": "stdout",
     "output_type": "stream",
     "text": [
      "D. COMPAGNI, La Cronica, introduzione e com- mento di G. Luzzatio, Milano 1906, pp. V- XXXIX, p. XVI.\n",
      "Total matches: 1\n"
     ]
    }
   ],
   "source": [
    "rid = ObjectId(\"58e4ce00fe7683152b563bb3\")\n",
    "find_match(rid)"
   ]
  },
  {
   "cell_type": "code",
   "execution_count": 11,
   "metadata": {},
   "outputs": [
    {
     "name": "stdout",
     "output_type": "stream",
     "text": [
      "E. Concina, Città e fartele nelle “ tre isole nostre\", in Venera e la difesa del Le- vante. Da Lepanto a Candía tyyo-tóyo, Venezia, Arsenale, 1986, p. 189,\n",
      "Total matches: 431\n"
     ]
    }
   ],
   "source": [
    "rid = ObjectId(\"58e4ce01fe7683152b59d6dc\")\n",
    "find_match(rid)"
   ]
  },
  {
   "cell_type": "code",
   "execution_count": 13,
   "metadata": {},
   "outputs": [
    {
     "name": "stdout",
     "output_type": "stream",
     "text": [
      "G. Van Der Sman, L’Eolia di Villa Trento: arte e umanesimo letterario vicentino, in «Arte Veneta», XLII (1988), pp. 58-67.\n",
      "Total matches: 4037\n"
     ]
    }
   ],
   "source": [
    "rid = ObjectId(\"58e4ce01fe7683152b5a11e8\")\n",
    "find_match(rid)"
   ]
  },
  {
   "cell_type": "code",
   "execution_count": 14,
   "metadata": {},
   "outputs": [
    {
     "name": "stdout",
     "output_type": "stream",
     "text": [
      "G. Cracco, Il pensiero storico di fronte ai problemi del comune veneziano , pp. 46-50.\n",
      "Total matches: 186\n"
     ]
    }
   ],
   "source": [
    "rid = ObjectId(\"5919e9663dde944752f5c95b\")\n",
    "find_match(rid)"
   ]
  },
  {
   "cell_type": "code",
   "execution_count": 15,
   "metadata": {},
   "outputs": [
    {
     "name": "stdout",
     "output_type": "stream",
     "text": [
      "A. Limentani, Cinque note su Martino da Canal,  in «Atti dell’Istituto Veneto di Scienze, Lettere ed Arti», 124 (1965-1966),  pp. 257-281;\n",
      "Total matches: 6394\n"
     ]
    }
   ],
   "source": [
    "rid = ObjectId(\"5919e9663dde944752f5c95e\")\n",
    "find_match(rid)"
   ]
  },
  {
   "cell_type": "code",
   "execution_count": 17,
   "metadata": {},
   "outputs": [
    {
     "name": "stdout",
     "output_type": "stream",
     "text": [
      "J. Monfasani, George of Trebizond, p. 23 n. 102.\n",
      "Total matches: 79\n"
     ]
    }
   ],
   "source": [
    "find_match(ObjectId(\"5919e9663dde944752f5f058\"))"
   ]
  },
  {
   "cell_type": "code",
   "execution_count": 18,
   "metadata": {},
   "outputs": [
    {
     "name": "stdout",
     "output_type": "stream",
     "text": [
      "Corner, Notizie storiche, pp.239-241;\n",
      "Total matches: 1251\n"
     ]
    }
   ],
   "source": [
    "find_match(ObjectId(\"5919e9663dde944752f6790e\"))"
   ]
  },
  {
   "cell_type": "code",
   "execution_count": 19,
   "metadata": {},
   "outputs": [
    {
     "name": "stdout",
     "output_type": "stream",
     "text": [
      "D. Gutierrez, Testi e note su Mariano da Gennazzano (+1498), «Analecta Augustiniana», XXXII, 1969, pp. 117-204;\n",
      "Total matches: 9\n"
     ]
    }
   ],
   "source": [
    "find_match(ObjectId(\"5919e9663dde944752f67922\"))"
   ]
  },
  {
   "cell_type": "code",
   "execution_count": 20,
   "metadata": {},
   "outputs": [
    {
     "name": "stdout",
     "output_type": "stream",
     "text": [
      "H. Honour, Chinoiserie. The Vision of Cathay, Londres, 1973, p. 119 sq.\n",
      "Total matches: 56\n"
     ]
    }
   ],
   "source": [
    "find_match(ObjectId(\"59e0adbbf98262071bfa4fb4\"))"
   ]
  },
  {
   "cell_type": "code",
   "execution_count": 21,
   "metadata": {},
   "outputs": [
    {
     "name": "stdout",
     "output_type": "stream",
     "text": [
      "Stellini, Poesie originali e tradotte, Padova 1782, pp. 99-245.\n",
      "Total matches: 18\n"
     ]
    }
   ],
   "source": [
    "find_match(ObjectId(\"59de7a3348e232540c5f1454\"))"
   ]
  },
  {
   "cell_type": "code",
   "execution_count": 22,
   "metadata": {},
   "outputs": [
    {
     "name": "stdout",
     "output_type": "stream",
     "text": [
      "D. Malipiero, Annali veneti dall’anno 145 7 al 1500, Francesco Longo, Firenze 1843, p. 41.\n",
      "Total matches: 737\n"
     ]
    }
   ],
   "source": [
    "find_match(ObjectId(\"59de7a3348e232540c5f5fe7\"))"
   ]
  },
  {
   "cell_type": "code",
   "execution_count": 23,
   "metadata": {},
   "outputs": [
    {
     "name": "stdout",
     "output_type": "stream",
     "text": [
      "M. Brunetti, E. Vitale (a cura di), Corrispondenza da Madrid di Leonardo Dona, Venezia-Roma 1963, t. II, p. 688,\n",
      "Total matches: 2960\n"
     ]
    }
   ],
   "source": [
    "find_match(ObjectId(\"59de7a3348e232540c5f600f\"))"
   ]
  },
  {
   "cell_type": "code",
   "execution_count": 24,
   "metadata": {},
   "outputs": [
    {
     "name": "stdout",
     "output_type": "stream",
     "text": [
      "C. Ghisalberti, La codificazione del diritto in Italia 1865/1942, Bari-Roma 1985, p. 154 ss.;\n",
      "Total matches: 71\n"
     ]
    }
   ],
   "source": [
    "find_match(ObjectId(\"59df53cf9be3c75c2e686616\"))"
   ]
  },
  {
   "cell_type": "code",
   "execution_count": 25,
   "metadata": {},
   "outputs": [
    {
     "name": "stdout",
     "output_type": "stream",
     "text": [
      "Samonà, Il piano Panfani in rapporto all’attività edilizia dei liberi professionisti, in «Metron», n. 33-34.\n",
      "Total matches: 153\n"
     ]
    }
   ],
   "source": [
    "find_match(ObjectId(\"59df6ec59be3c75dd98bf26b\"))"
   ]
  },
  {
   "cell_type": "code",
   "execution_count": 26,
   "metadata": {},
   "outputs": [
    {
     "name": "stdout",
     "output_type": "stream",
     "text": [
      "Sapori, Una compagnia di Calimala ai primi del Trecento, Firenze 1932, p. 232.\n",
      "Total matches: 145\n"
     ]
    }
   ],
   "source": [
    "find_match(ObjectId(\"58e4ce01fe7683152b59acb8\"))"
   ]
  },
  {
   "cell_type": "code",
   "execution_count": 27,
   "metadata": {},
   "outputs": [
    {
     "name": "stdout",
     "output_type": "stream",
     "text": [
      "TRAMONTIN, A. NIERO, G. MUSOLINO, C. CANDI ANI, Culto dei Santi aVenezia, voi. 2°, Venezia 1965, p. 159- 9\n",
      "Total matches: 818\n"
     ]
    }
   ],
   "source": [
    "find_match(ObjectId(\"58e4ce00fe7683152b5625bf\"))"
   ]
  },
  {
   "cell_type": "code",
   "execution_count": null,
   "metadata": {},
   "outputs": [],
   "source": []
  },
  {
   "cell_type": "code",
   "execution_count": null,
   "metadata": {},
   "outputs": [],
   "source": []
  },
  {
   "cell_type": "code",
   "execution_count": 11,
   "metadata": {},
   "outputs": [
    {
     "name": "stdout",
     "output_type": "stream",
     "text": [
      "Monticolo, I capitolari delle arti veneziane, voi. n, Roma 1905, p. 467\n"
     ]
    }
   ],
   "source": [
    "rid = ObjectId(\"58e4ce00fe7683152b55e336\")\n",
    "print(Reference.objects(_id=rid).first().reference_string)\n",
    "pd_result, pd_csv = hash_match_csv(rid)"
   ]
  },
  {
   "cell_type": "code",
   "execution_count": 8,
   "metadata": {},
   "outputs": [
    {
     "name": "stdout",
     "output_type": "stream",
     "text": [
      "Morassi, Novità e precisazioni sul Tiepolo in « Le Arti », 1942, p. 91.\n"
     ]
    }
   ],
   "source": [
    "rid = ObjectId(\"58e4ce00fe7683152b55e33f\")\n",
    "print(Reference.objects(id=rid).first().reference_string)\n",
    "pd_result, pd_csv = hash_match_csv(rid)"
   ]
  },
  {
   "cell_type": "code",
   "execution_count": 10,
   "metadata": {},
   "outputs": [
    {
     "name": "stdout",
     "output_type": "stream",
     "text": [
      "M. Sañudo, Itinerario per la terra di Venezia nel 1483, Padova, 1847.\n"
     ]
    }
   ],
   "source": [
    "rid = ObjectId(\"58e4ce00fe7683152b55e34f\")\n",
    "print(Reference.objects(id=rid).first().reference_string)\n",
    "pd_result, pd_csv = hash_match_csv(rid)"
   ]
  },
  {
   "cell_type": "code",
   "execution_count": 13,
   "metadata": {},
   "outputs": [
    {
     "name": "stdout",
     "output_type": "stream",
     "text": [
      "Achille Bosisio, Giosuè Carducci e un letterale Veneziano, in «Ateneo Veneto », Aprile-Giugno 1942, p. 105.\n"
     ]
    }
   ],
   "source": [
    "rid = ObjectId(\"58e4ce00fe7683152b55e370\")\n",
    "print(Reference.objects(id=rid).first().reference_string)\n",
    "pd_result, pd_csv = hash_match_csv(rid)"
   ]
  },
  {
   "cell_type": "code",
   "execution_count": 14,
   "metadata": {},
   "outputs": [
    {
     "name": "stdout",
     "output_type": "stream",
     "text": [
      "Cicogna, Delle inscrizioni veneziane, Venezia 1824-1853, voi. iv, p. 181.\n"
     ]
    }
   ],
   "source": [
    "rid = ObjectId(\"58e4ce00fe7683152b55e38b\")\n",
    "print(Reference.objects(id=rid).first().reference_string)\n",
    "pd_result, pd_csv = hash_match_csv(rid)"
   ]
  },
  {
   "cell_type": "code",
   "execution_count": 58,
   "metadata": {},
   "outputs": [
    {
     "name": "stdout",
     "output_type": "stream",
     "text": [
      "G. Pavanello, La Scuola di S. Fan · tin ora Ateneo Veneto, Venezia, 1914;\n"
     ]
    }
   ],
   "source": [
    "rid = ObjectId(\"58e4ce00fe7683152b55e39d\")\n",
    "print(Reference.objects(id=rid).first().reference_string)\n",
    "pd_result, pd_csv = hash_match_csv(rid)"
   ]
  },
  {
   "cell_type": "code",
   "execution_count": 16,
   "metadata": {},
   "outputs": [
    {
     "name": "stdout",
     "output_type": "stream",
     "text": [
      "R. Predelli, Le memorie e le carte di Alessandro Vittoria, Trento, 1908.\n"
     ]
    }
   ],
   "source": [
    "rid = ObjectId(\"58e4ce00fe7683152b55e39e\")\n",
    "print(Reference.objects(id=rid).first().reference_string)\n",
    "pd_result, pd_csv = hash_match_csv(rid)"
   ]
  },
  {
   "cell_type": "code",
   "execution_count": 17,
   "metadata": {},
   "outputs": [
    {
     "name": "stdout",
     "output_type": "stream",
     "text": [
      "Thieme Becker, Künstler Lexikon», Lipsia, 1908, vol. II, pp. 49*50)\n"
     ]
    }
   ],
   "source": [
    "rid = ObjectId(\"58e4ce00fe7683152b55e3a9\")\n",
    "print(Reference.objects(id=rid).first().reference_string)\n",
    "pd_result, pd_csv = hash_match_csv(rid)"
   ]
  },
  {
   "cell_type": "code",
   "execution_count": 18,
   "metadata": {},
   "outputs": [
    {
     "name": "stdout",
     "output_type": "stream",
     "text": [
      "F.X. KRAUS, F. Petrarca e la sua corrispondenza epistolare, trad. D. VALBUSA; in Firenze, 1901\n"
     ]
    }
   ],
   "source": [
    "rid = ObjectId(\"58e4ce00fe7683152b560601\")\n",
    "print(Reference.objects(id=rid).first().reference_string)\n",
    "pd_result, pd_csv = hash_match_csv(rid)"
   ]
  },
  {
   "cell_type": "code",
   "execution_count": null,
   "metadata": {},
   "outputs": [],
   "source": []
  },
  {
   "cell_type": "code",
   "execution_count": null,
   "metadata": {},
   "outputs": [],
   "source": []
  },
  {
   "cell_type": "code",
   "execution_count": null,
   "metadata": {},
   "outputs": [],
   "source": []
  }
 ],
 "metadata": {
  "kernelspec": {
   "display_name": "Python 3",
   "language": "python",
   "name": "python3"
  },
  "language_info": {
   "codemirror_mode": {
    "name": "ipython",
    "version": 3
   },
   "file_extension": ".py",
   "mimetype": "text/x-python",
   "name": "python",
   "nbconvert_exporter": "python",
   "pygments_lexer": "ipython3",
   "version": "3.6.4"
  }
 },
 "nbformat": 4,
 "nbformat_minor": 2
}
