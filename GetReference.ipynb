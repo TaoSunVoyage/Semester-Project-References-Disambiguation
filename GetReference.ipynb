{
 "cells": [
  {
   "cell_type": "code",
   "execution_count": 1,
   "metadata": {},
   "outputs": [],
   "source": [
    "import mongoengine\n",
    "from mongoengine import *\n",
    "from dbmodels import *\n",
    "\n",
    "from bson.objectid import ObjectId\n",
    "import configparser"
   ]
  },
  {
   "cell_type": "code",
   "execution_count": 2,
   "metadata": {},
   "outputs": [],
   "source": [
    "# Read the confidentials.\n",
    "credentials = configparser.ConfigParser()\n",
    "credentials.read('credentials.ini')\n",
    "\n",
    "# Connect to the database.\n",
    "connect(\n",
    "    db = credentials.get('lb', 'db'),\n",
    "    username = credentials.get('lb', 'username'),\n",
    "    password = credentials.get('lb', 'password'),\n",
    "    host = credentials.get('lb', 'host'), \n",
    "    port = int(credentials.get('lb', 'port')), \n",
    ");"
   ]
  },
  {
   "cell_type": "code",
   "execution_count": 4,
   "metadata": {
    "scrolled": true
   },
   "outputs": [],
   "source": [
    "# Store reference to each article/book into 2 dictionaries where we use ObjectId\n",
    "# {article1: [ref1, ref2, ...], article2: [ref1, ref2, ...], ...}\n",
    "# {book1: [ref1, ref2, ...], book2: [ref1, ref2, ...], ...}\n",
    "article = dict()\n",
    "book = dict()\n",
    "num_p = 0  # the number of publications\n",
    "num_a = 0  # the number of articles\n",
    "num_b = 0  # the number of books\n",
    "limit_a = 50\n",
    "limit_b = 0  # don't collect books now\n",
    "limit = limit_a + limit_b\n",
    "\n",
    "# Assuming the reference from the same source are stored together \n",
    "# e.g. A1,A2,A3,B1,B2,C1... NOT: A1,B1,A2,A3,B2,C1...\n",
    "for r in Reference.objects:\n",
    "    p = r.get_containing_publication()\n",
    "    if type(p) == Article and num_a <= limit_a:\n",
    "        if p.id in article:\n",
    "            article[p.id].append(r.id)\n",
    "        else:\n",
    "            num_p += 1  # new publication\n",
    "            if num_p > limit: break  # exceed limit\n",
    "            num_a += 1  # new article\n",
    "            if num_a > limit_a: continue  # to many articles\n",
    "            article[p.id] = [r.id]\n",
    "    if type(p) == Book and num_b <= limit_b:\n",
    "        if p.id in book:\n",
    "            book[p.id].append(r.id)\n",
    "        else:\n",
    "            num_p += 1  # new publication\n",
    "            if num_p > limit: break  # exceed limit\n",
    "            num_b += 1  # new book\n",
    "            if num_b > limit_b: continue  # to many books    \n",
    "            book[p.id] = [r.id]"
   ]
  },
  {
   "cell_type": "code",
   "execution_count": 5,
   "metadata": {},
   "outputs": [],
   "source": [
    "def read_contents(refs_id):\n",
    "    '''\n",
    "    Read contents of all references from the same publication.\n",
    "    '''\n",
    "    d = dict()\n",
    "    for rid in refs_id:\n",
    "        ref = Reference.objects(_id=rid).first()\n",
    "        order = ref.start_img_number * 1000 + ref.order_in_page  # Define the order as page + order_in_page\n",
    "        d[order] = dict() # order : {content1, content2, ...}\n",
    "        contents = ref.contents\n",
    "        # Choose what we want to use\n",
    "        for i, c in contents.items():\n",
    "            if c['tag'] == 'title':\n",
    "                if 'title' in d[order]:\n",
    "                    d[order]['title'].append(c['surface'])\n",
    "                else:\n",
    "                    d[order]['title'] = [c['surface']]\n",
    "            elif c['tag'] == 'author':\n",
    "                if 'author' in d[order]:\n",
    "                    d[order]['author'].append(c['surface'])\n",
    "                else:\n",
    "                    d[order]['author'] = [c['surface']]\n",
    "            elif c['tag'] == 'year':\n",
    "                if 'year' in d[order]:\n",
    "                    d[order]['year'].append(c['surface'])\n",
    "                else:\n",
    "                    d[order]['year'] = [c['surface']]\n",
    "            elif c['tag'] == 'abbreviation':\n",
    "                if 'abbre' in d[order]:\n",
    "                    d[order]['abbre'].append(c['surface'])\n",
    "                    d[order]['abbre_pos'].append(i)\n",
    "                else:\n",
    "                    d[order]['abbre'] = [c['surface']]\n",
    "                    d[order]['abbre_pos'] = [i]\n",
    "    return d"
   ]
  },
  {
   "cell_type": "code",
   "execution_count": 6,
   "metadata": {},
   "outputs": [],
   "source": [
    "# Iterate all articles\n",
    "ref_of_article = dict()\n",
    "for a, r in article.items():\n",
    "    ref_of_article[a] = read_contents(r)"
   ]
  },
  {
   "cell_type": "code",
   "execution_count": 7,
   "metadata": {},
   "outputs": [
    {
     "name": "stdout",
     "output_type": "stream",
     "text": [
      "*****595f9e11fe7683316b2dd3f5*****\n",
      "68001: {'author': ['ATTI DELL’ATENEO necrologio GIOVANNI MANETTI'], 'title': ['Fra i soci scomparsi, Γ Ateneo deve rimpiangere il Comm. Dr. Giovanni Manetti, cara e degnissima figura di vero galantuomo. A riposo, dopo avere a lungo coperto a Venezia Γ Ufficio di Consigliere di Prefettura, fu, durante la grande guerra, Commissario per i profughi Veneti rico- verati lungo i lidi Anconitani, profondendo in quest’ opera i tesori della sua filantropia illuminata e squisita. Fu poi Commissario per la fondazione Querini Stampalia e attivissimo Vice- presidente dell’ opera « Nave Asilo Scilla per gli orfani di pescatori » ; presiedette infine per lunghi anni, con costante e fervido amore, la « Cassa del piccolo Credito » e la «S. A. Cooperativa Bagni di Mare fra impiegati e professionisti» al Lido.']}\n",
      "68002: {}\n",
      "\n",
      "\n",
      "*****595f9e37fe7683316b2dd4b4*****\n",
      "48001: {'title': ['un disegno a carboncino della Albertina di Vienna, attribuito a Tiziano e raffigurante due Padri della Chiesa, uno schizzo di Palma il Giovane per un compartimento del soffitto della sala terrena dell’Ateneo Veneto (i). Segnalo ora due ignoti disegni a penna della raccolta Sartorelli del Gabinetto degli Uffìzi,']}\n",
      "48002: {'author': ['Hans Tietzte - Tietzte Conrad'], 'title': ['The drawings of the Venetian painters New'], 'year': ['1944,']}\n",
      "48003: {'title': ['A. und Froelich-Bum Beschreibender Katalog der Zeichnungen der Albertina Wien,'], 'year': ['1926,']}\n",
      "48004: {'title': ['Ridolfi “ Le maraviglie deìF arte ediz.'], 'year': ['1924,']}\n",
      "49001: {'author': ['Heil'], 'title': ['Palma devant als Zeichner,', 'Jahrbuch für Preussichen'], 'year': ['1926']}\n",
      "49002: {'author': ['H. Tietzte,'], 'abbre': ['Ibid,'], 'abbre_pos': ['2']}\n",
      "49003: {'author': ['W. Heil'], 'abbre': ['Ibid,'], 'abbre_pos': ['2']}\n",
      "49004: {'author': ['H. Tietzte'], 'abbre': ['Ibid,'], 'abbre_pos': ['2']}\n",
      "\n",
      "\n",
      "*****595f9eccfe7683316b2dd7b1*****\n",
      "208001: {'year': ['1887,']}\n",
      "208002: {'author': ['Giovanni Fabdiani,'], 'title': ['Saggio di bibliografia cadorina, Feltre,'], 'year': ['1939']}\n",
      "208003: {'title': ['Prime giunte al saggio di bibliografia cadorina, Feltre,'], 'year': ['1962.']}\n",
      "208004: {'title': ['De Zuliani - Crico']}\n",
      "208005: {}\n",
      "208006: {}\n",
      "208007: {'title': ['«/ Libri Commemoriali della Repubblica di Venezia »,', '«Archivio storico cadorino »,'], 'year': ['1896,']}\n",
      "208008: {}\n",
      "208009: {'title': ['« Archivio storico cadorino »,']}\n",
      "209001: {}\n",
      "209002: {}\n",
      "209003: {'year': ['1879-1902,']}\n",
      "209004: {'title': ['Pregadi « fu posto, per li Consieri e Savii grandi e de Terra ferma e Provedadori sora i denari, far per scrutinio nel Mazor Consejo.']}\n",
      "209005: {}\n",
      "209006: {'title': ['Diarii ,']}\n",
      "209007: {}\n",
      "209008: {'title': ['T.']}\n",
      "209009: {'title': ['Rappresentante veneto in Cadore dovesse venire scrupolosamente osservato: «1523. A di 7 Zugno. Da poi disnar fo Gran Consejo. . . Fu posto, per li Consieri, dar']}\n",
      "209010: {'author': ['Eugenio Musatti,'], 'title': ['Storia di Venezia, Milano,'], 'year': ['1949,']}\n",
      "210001: {'title': ['Statuta Communitatis Cadubrii (11). Egli doveva giurare, tra altro, di osservare «statuta et ordinamenta et consuetudines Communis Cadubrii et illa observari faciam per vicarium, consules et omnes ius reddentes in contracta Cadubrii » (12) e,', '«Nec me impediam in officio domini vicarii in civilibus, nec in criminalibus nec in officio consulum, iuratorum, praeconum et aliorum officiorum deputatorum per consilium Cadubrii. Procurabo quoque, toto posse meo, quod malefactores, rebelli, banniti contractae Cadubrii et coeteri malae condictionis et famae']}\n",
      "210002: {'title': ['«Nec etiam acceptabo appellationes civiles a sen- tentiis domini Vicarii, nec eas admittam, sed']}\n",
      "210003: {'title': ['Capitano del Cadore: ad es. i capitoli']}\n",
      "210004: {'title': [\"Il Vicario era giudice monocratico nei processi civili; inappellabile nelle cause non eccedenti le cento lire; era giudice d'appello per le cause giudicate dagli officiali dei centenari. I quattro Consoli eletti dal Consiglio cadorino giudicavano in materia penale assieme al Vicario.\"]}\n",
      "210005: {'title': ['«Aloysius Conta- rono Dei gratia dux Venetiamm etc. Nobili et sapienti viro Joanni Cornelio de suo mandato Locumtenenti Patriae Fori Julii fideli dilecto salutem et dilectionis affectum.']}\n",
      "210006: {}\n",
      "210007: {'title': ['Acutamente Vettor Sandi (Principii di storia civile della Repubblica di Venezia, Venezia,'], 'year': ['1755,']}\n",
      "211001: {'title': ['«Faciam custodiri castrum Plebis et Butestagni illustrissimi ac serenissimi Status ducalis dominii nostri']}\n",
      "211002: {'author': ['Cristoforo Tentori,'], 'title': ['Saggio sulla storia ecc.,'], 'year': ['1790,']}\n",
      "211003: {'author': ['Giambattista Vergi,'], 'title': ['Storia della Marca Trevigiana e Veronese,', 'Documenti,'], 'year': ['1786,']}\n",
      "211004: {'author': ['Luigi Rizzoli,'], 'title': [\"Intorno ad un sigillo di Bartolomeo d'Alviano, Padova, 1914)1. Marín Sañudo nei Diarii (VII,\"]}\n",
      "211005: {'author': ['Giuseppe Ciani e Giannantonio Talamini- Minotto,'], 'title': [\"Notizie e disegni dell'antico Castello di Pieve di Cadore,\"], 'year': ['1902;']}\n",
      "211006: {'author': ['Filippo Nani Mocenigo,'], 'title': ['Del Castello di Cadore, Venezia,'], 'year': ['1884']}\n",
      "211007: {'author': ['Giovanni Fabbiani,'], 'title': ['Il Castello di Pieve di Cadore in Rassegna Economica della Camera di Commercio I.A. e A. di Belluno, 1972 im. 4 e 5. (18)L’insigne storica cadorino Antonio Ronzon in cDa Pelmo a Peralba·, anno']}\n",
      "211008: {'author': ['Castello·,'], 'title': ['di ragione del Comune di Pieve di Cadore ; in Catasto: particella 246 del foglio 29)']}\n",
      "212001: {'title': [\"Havemo udito in contradditorio li fideli nostri Vecello Vecellio, Thoma Tito Vecellio et Hieronimo da Genoa, amb.ri di quella fidelissima communità da una parte e dall'altra il fidel Dorico Zoldan\"]}\n",
      "212002: {'title': [\"Comune capoluogo, del- l'Azienda Autonoma di Soggiorno, dell'Ente Castelli d'Italia e di altri Enti·.\"]}\n",
      "212003: {'author': ['Antonio Rqnzon,'], 'title': ['Da Pelmo a Peralba, anno 3a,'], 'year': ['1875,']}\n",
      "212004: {'author': ['Giovanni Fabbiani,'], 'title': ['Breve stona del Cadore, 2& ediz.'], 'year': ['1957,']}\n",
      "212005: {'author': ['Giovanni Fabbiani,'], 'title': ['Il Castello di Pieve di Cadore, cit.,']}\n",
      "212006: {}\n",
      "213001: {'title': ['il Capi- tano andava «usando ... pubblicamente, nelle piazze, parole cattive et ver- gognese contro li homeni di Cadore et massime contra coloro che difendono le ragioni di essa Comunità minacciandoli di farli impiccar et mandarli in ferri a Venetia et di dar tratti di']}\n",
      "213002: {'title': ['Patria del Friuli (23): Serenissimo Prencipe, Questo Territorio di Cadore ha per suoi privileggi concessili dalla muni- ficenza della Serenità Vostra Vesser retto da un Vicario e quatre Consoli eletti dal suo Consiglio, tanto nel civile,']}\n",
      "213003: {}\n",
      "213004: {}\n",
      "214001: {'title': [\"Vostra Serenità dichia- rati, perché l'autorittà del Vicario e Consoli, che s’arrogano tutto, dà causa a mille inconvenienti, non tanto nelle materie civili e criminali pratticate a capriccio, non in vigor delle leggi, quanto nell’amministratione del Fontico, Comunità e Scole laicali ancora, tenuto il Rettore legato a non poter mode- rare li loro trasgressi,\"]}\n",
      "214002: {}\n",
      "214003: {}\n",
      "\n",
      "\n"
     ]
    }
   ],
   "source": [
    "# Print out in the order of reference\n",
    "i = 0  # only the first three\n",
    "for a, rs in ref_of_article.items():\n",
    "    print(\"*****{}*****\".format(a))\n",
    "    for key in sorted(rs.keys()):\n",
    "        print(\"{}: {}\".format(key, rs[key]))\n",
    "    print(\"\\n\")\n",
    "    i = i + 1\n",
    "    if i==3: break"
   ]
  },
  {
   "cell_type": "code",
   "execution_count": 8,
   "metadata": {},
   "outputs": [],
   "source": [
    "# Save\n",
    "import pickle\n",
    "with open('ref_article.pickle', 'wb') as handle:\n",
    "    pickle.dump(ref_of_article, handle, protocol=pickle.HIGHEST_PROTOCOL)"
   ]
  },
  {
   "cell_type": "code",
   "execution_count": 9,
   "metadata": {},
   "outputs": [],
   "source": [
    "# Load\n",
    "with open('ref_article.pickle', 'rb') as handle:\n",
    "    b = pickle.load(handle)"
   ]
  },
  {
   "cell_type": "code",
   "execution_count": 10,
   "metadata": {},
   "outputs": [
    {
     "data": {
      "text/plain": [
       "True"
      ]
     },
     "execution_count": 10,
     "metadata": {},
     "output_type": "execute_result"
    }
   ],
   "source": [
    "b == ref_of_article"
   ]
  },
  {
   "cell_type": "code",
   "execution_count": null,
   "metadata": {},
   "outputs": [],
   "source": []
  },
  {
   "cell_type": "code",
   "execution_count": null,
   "metadata": {},
   "outputs": [],
   "source": []
  }
 ],
 "metadata": {
  "kernelspec": {
   "display_name": "Python 3",
   "language": "python",
   "name": "python3"
  },
  "language_info": {
   "codemirror_mode": {
    "name": "ipython",
    "version": 3
   },
   "file_extension": ".py",
   "mimetype": "text/x-python",
   "name": "python",
   "nbconvert_exporter": "python",
   "pygments_lexer": "ipython3",
   "version": "3.6.4"
  }
 },
 "nbformat": 4,
 "nbformat_minor": 2
}
