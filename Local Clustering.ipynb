{
 "cells": [
  {
   "cell_type": "code",
   "execution_count": 407,
   "metadata": {},
   "outputs": [],
   "source": [
    "import mongoengine\n",
    "from mongoengine import *\n",
    "from mongoengine.queryset.visitor import Q\n",
    "from dbmodels import *\n",
    "from hashfunction import *\n",
    "from readref import *\n",
    "\n",
    "import numpy as np\n",
    "import pandas as pd\n",
    "from bson.objectid import ObjectId\n",
    "import configparser\n",
    "from multiprocessing import Pool\n",
    "import pickle\n",
    "\n",
    "import matplotlib.pyplot as plt\n",
    "%matplotlib inline"
   ]
  },
  {
   "cell_type": "code",
   "execution_count": 408,
   "metadata": {},
   "outputs": [
    {
     "data": {
      "text/plain": [
       "MongoClient(host=['128.178.60.49:27017'], document_class=dict, tz_aware=False, connect=True, read_preference=Primary())"
      ]
     },
     "execution_count": 408,
     "metadata": {},
     "output_type": "execute_result"
    }
   ],
   "source": [
    "# Read the confidentials.\n",
    "credentials = configparser.ConfigParser()\n",
    "credentials.read('credentials.ini')\n",
    "\n",
    "# Connect to the database.\n",
    "connect(\n",
    "    db = credentials.get('lb', 'db'),\n",
    "    username = credentials.get('lb', 'username'),\n",
    "    password = credentials.get('lb', 'password'),\n",
    "    host = credentials.get('lb', 'host'), \n",
    "    port = int(credentials.get('lb', 'port')), \n",
    ")"
   ]
  },
  {
   "cell_type": "markdown",
   "metadata": {},
   "source": [
    "---"
   ]
  },
  {
   "cell_type": "markdown",
   "metadata": {},
   "source": [
    "## Ground truth"
   ]
  },
  {
   "cell_type": "code",
   "execution_count": 409,
   "metadata": {},
   "outputs": [],
   "source": [
    "from local_ground_truth.adjudication import clean_bid, process_bid"
   ]
  },
  {
   "cell_type": "code",
   "execution_count": 410,
   "metadata": {},
   "outputs": [],
   "source": [
    "file_path = \"./local_ground_truth/\"\n",
    "\n",
    "df_full_1 = pd.read_csv(file_path+\"secondary_full_23052017_1.csv\")\n",
    "df_full_2 = pd.read_csv(file_path+\"secondary_full_10052017_2.csv\")"
   ]
  },
  {
   "cell_type": "code",
   "execution_count": 411,
   "metadata": {},
   "outputs": [],
   "source": [
    "df_full_1 = df_full_1[['article_id', 'article_title', 'image_number', 'reference', 'BID_SBN']]\n",
    "df_full_2 = df_full_2[['article_id', 'article_title', 'image_number', 'reference', 'BID_SBN']]\n",
    "df_full_1.dropna(inplace=True)\n",
    "df_full_2.dropna(inplace=True)"
   ]
  },
  {
   "cell_type": "code",
   "execution_count": 412,
   "metadata": {},
   "outputs": [],
   "source": [
    "df_full_1['BID_SBN'] = df_full_1['BID_SBN'].apply(process_bid)\n",
    "df_full_2['BID_SBN'] = df_full_2['BID_SBN'].apply(process_bid)"
   ]
  },
  {
   "cell_type": "code",
   "execution_count": 413,
   "metadata": {},
   "outputs": [],
   "source": [
    "df_full_merge = pd.merge(df_full_1, df_full_2, on=['article_id', 'reference'], how='outer', suffixes=['_1','_2'])"
   ]
  },
  {
   "cell_type": "code",
   "execution_count": 414,
   "metadata": {},
   "outputs": [],
   "source": [
    "def nan_list(a, b):\n",
    "    if a!=a:\n",
    "        return b\n",
    "    if b!=b:\n",
    "        return a\n",
    "    return list(set(a+b))\n",
    "\n",
    "def pd_nan_list(f):\n",
    "    a = f['BID_SBN_1']\n",
    "    b = f['BID_SBN_2']\n",
    "    return nan_list(a, b)\n",
    "\n",
    "def non_nan_article(f):\n",
    "    a = f['article_title_1']\n",
    "    b = f['article_title_2']\n",
    "    return a if a==a else b\n",
    "\n",
    "def non_nan_image(f):\n",
    "    a = f['image_number_1']\n",
    "    b = f['image_number_2']\n",
    "    return a if a==a else b"
   ]
  },
  {
   "cell_type": "code",
   "execution_count": 415,
   "metadata": {},
   "outputs": [
    {
     "name": "stderr",
     "output_type": "stream",
     "text": [
      "/Users/suntao/anaconda3/envs/lb/lib/python3.6/site-packages/ipykernel/__main__.py:2: SettingWithCopyWarning: \n",
      "A value is trying to be set on a copy of a slice from a DataFrame.\n",
      "Try using .loc[row_indexer,col_indexer] = value instead\n",
      "\n",
      "See the caveats in the documentation: http://pandas.pydata.org/pandas-docs/stable/indexing.html#indexing-view-versus-copy\n",
      "  from ipykernel import kernelapp as app\n",
      "/Users/suntao/anaconda3/envs/lb/lib/python3.6/site-packages/ipykernel/__main__.py:3: SettingWithCopyWarning: \n",
      "A value is trying to be set on a copy of a slice from a DataFrame.\n",
      "Try using .loc[row_indexer,col_indexer] = value instead\n",
      "\n",
      "See the caveats in the documentation: http://pandas.pydata.org/pandas-docs/stable/indexing.html#indexing-view-versus-copy\n",
      "  app.launch_new_instance()\n",
      "/Users/suntao/anaconda3/envs/lb/lib/python3.6/site-packages/ipykernel/__main__.py:4: SettingWithCopyWarning: \n",
      "A value is trying to be set on a copy of a slice from a DataFrame.\n",
      "Try using .loc[row_indexer,col_indexer] = value instead\n",
      "\n",
      "See the caveats in the documentation: http://pandas.pydata.org/pandas-docs/stable/indexing.html#indexing-view-versus-copy\n"
     ]
    }
   ],
   "source": [
    "df_full = df_full_merge[['article_id', 'reference']]\n",
    "df_full['BID_SBN'] = df_full_merge.apply(pd_nan_list, axis=1)\n",
    "df_full['article_title'] = df_full_merge.apply(non_nan_article, axis=1)\n",
    "df_full['image_number'] = df_full_merge.apply(non_nan_image, axis=1)"
   ]
  },
  {
   "cell_type": "code",
   "execution_count": 416,
   "metadata": {},
   "outputs": [
    {
     "data": {
      "text/html": [
       "<div>\n",
       "<style scoped>\n",
       "    .dataframe tbody tr th:only-of-type {\n",
       "        vertical-align: middle;\n",
       "    }\n",
       "\n",
       "    .dataframe tbody tr th {\n",
       "        vertical-align: top;\n",
       "    }\n",
       "\n",
       "    .dataframe thead th {\n",
       "        text-align: right;\n",
       "    }\n",
       "</style>\n",
       "<table border=\"1\" class=\"dataframe\">\n",
       "  <thead>\n",
       "    <tr style=\"text-align: right;\">\n",
       "      <th></th>\n",
       "      <th>article_id</th>\n",
       "      <th>reference</th>\n",
       "      <th>BID_SBN</th>\n",
       "      <th>article_title</th>\n",
       "      <th>image_number</th>\n",
       "    </tr>\n",
       "  </thead>\n",
       "  <tbody>\n",
       "    <tr>\n",
       "      <th>0</th>\n",
       "      <td>LO10016101:2013_67:17</td>\n",
       "      <td>M. Milani, Antiche pratiche di medicina popola...</td>\n",
       "      <td>[CFI0018701]</td>\n",
       "      <td>Una guaritrice processata dal Tribunale del Sa...</td>\n",
       "      <td>448</td>\n",
       "    </tr>\n",
       "    <tr>\n",
       "      <th>1</th>\n",
       "      <td>LO10016101:2013_67:17</td>\n",
       "      <td>S. Malavasi, Storie di Streghe a Venezia nel C...</td>\n",
       "      <td>[PUV1168228]</td>\n",
       "      <td>Una guaritrice processata dal Tribunale del Sa...</td>\n",
       "      <td>449</td>\n",
       "    </tr>\n",
       "    <tr>\n",
       "      <th>2</th>\n",
       "      <td>LO10016101:2013_67:17</td>\n",
       "      <td>I. Cacciavillani in Storia dell'Avvocatura Ve...</td>\n",
       "      <td>[MIL0557687]</td>\n",
       "      <td>Una guaritrice processata dal Tribunale del Sa...</td>\n",
       "      <td>449</td>\n",
       "    </tr>\n",
       "    <tr>\n",
       "      <th>3</th>\n",
       "      <td>LO10016101:2013_67:17</td>\n",
       "      <td>G. Lorenzetti, Venezia e il suo estuario, Roma...</td>\n",
       "      <td>[SBL0254799, CUB0380318, CSA0050321, VEA0049893]</td>\n",
       "      <td>Una guaritrice processata dal Tribunale del Sa...</td>\n",
       "      <td>450</td>\n",
       "    </tr>\n",
       "    <tr>\n",
       "      <th>4</th>\n",
       "      <td>LO10016101:2013_67:17</td>\n",
       "      <td>G. Boerio, Dizionario del Dialetto Veneto,Vene...</td>\n",
       "      <td>[SBL0380246, PUV0913148]</td>\n",
       "      <td>Una guaritrice processata dal Tribunale del Sa...</td>\n",
       "      <td>450</td>\n",
       "    </tr>\n",
       "  </tbody>\n",
       "</table>\n",
       "</div>"
      ],
      "text/plain": [
       "              article_id                                          reference  \\\n",
       "0  LO10016101:2013_67:17  M. Milani, Antiche pratiche di medicina popola...   \n",
       "1  LO10016101:2013_67:17  S. Malavasi, Storie di Streghe a Venezia nel C...   \n",
       "2  LO10016101:2013_67:17   I. Cacciavillani in Storia dell'Avvocatura Ve...   \n",
       "3  LO10016101:2013_67:17  G. Lorenzetti, Venezia e il suo estuario, Roma...   \n",
       "4  LO10016101:2013_67:17  G. Boerio, Dizionario del Dialetto Veneto,Vene...   \n",
       "\n",
       "                                            BID_SBN  \\\n",
       "0                                      [CFI0018701]   \n",
       "1                                      [PUV1168228]   \n",
       "2                                      [MIL0557687]   \n",
       "3  [SBL0254799, CUB0380318, CSA0050321, VEA0049893]   \n",
       "4                          [SBL0380246, PUV0913148]   \n",
       "\n",
       "                                       article_title image_number  \n",
       "0  Una guaritrice processata dal Tribunale del Sa...          448  \n",
       "1  Una guaritrice processata dal Tribunale del Sa...          449  \n",
       "2  Una guaritrice processata dal Tribunale del Sa...          449  \n",
       "3  Una guaritrice processata dal Tribunale del Sa...          450  \n",
       "4  Una guaritrice processata dal Tribunale del Sa...          450  "
      ]
     },
     "execution_count": 416,
     "metadata": {},
     "output_type": "execute_result"
    }
   ],
   "source": [
    "df_full.head()"
   ]
  },
  {
   "cell_type": "code",
   "execution_count": 417,
   "metadata": {},
   "outputs": [],
   "source": [
    "df_partial = pd.read_csv(file_path+\"secondary_partial_10052017.csv\")\n",
    "df_partial = df_partial[['article_id', 'article_title', 'image_number', 'reference', 'BID_SBN']]\n",
    "df_partial.dropna(inplace=True)\n",
    "df_partial['BID_SBN'] = df_partial['BID_SBN'].apply(process_bid)"
   ]
  },
  {
   "cell_type": "code",
   "execution_count": 418,
   "metadata": {},
   "outputs": [
    {
     "data": {
      "text/plain": [
       "53"
      ]
     },
     "execution_count": 418,
     "metadata": {},
     "output_type": "execute_result"
    }
   ],
   "source": [
    "article = list(set(df_partial.article_id).intersection(set(df_full.article_id)))"
   ]
  },
  {
   "cell_type": "code",
   "execution_count": 516,
   "metadata": {},
   "outputs": [
    {
     "name": "stderr",
     "output_type": "stream",
     "text": [
      "/Users/suntao/anaconda3/envs/lb/lib/python3.6/site-packages/fuzzywuzzy/fuzz.py:35: UserWarning: Using slow pure-python SequenceMatcher. Install python-Levenshtein to remove this warning\n",
      "  warnings.warn('Using slow pure-python SequenceMatcher. Install python-Levenshtein to remove this warning')\n"
     ]
    }
   ],
   "source": [
    "from fuzzywuzzy import fuzz"
   ]
  },
  {
   "cell_type": "code",
   "execution_count": 532,
   "metadata": {},
   "outputs": [],
   "source": [
    "def find_similar(r, match):\n",
    "    for k in match.keys():\n",
    "        if fuzz.ratio(r,k)>=98:\n",
    "            return k\n",
    "    return None"
   ]
  },
  {
   "cell_type": "code",
   "execution_count": 540,
   "metadata": {},
   "outputs": [],
   "source": [
    "def find_match(a):\n",
    "    full_ref = df_full[df_full.article_id==a][['reference','image_number','BID_SBN']]\n",
    "    part_ref = df_partial[df_partial.article_id==a][['reference','image_number','BID_SBN']]\n",
    "    match = dict()\n",
    "    for _, row_f in full_ref.iterrows():\n",
    "        ref_f = row_f.reference\n",
    "        im_f = row_f.image_number\n",
    "        sbn_f = row_f.BID_SBN\n",
    "        for _, row_p in part_ref.iterrows():\n",
    "            ref_p = row_p.reference\n",
    "            sbn_p = row_p.BID_SBN\n",
    "            if len(set(sbn_f)&set(sbn_p))>0:\n",
    "#                 ref_f = remove_nt(ref_f)\n",
    "#                 ref_p = remove_nt(ref_p)\n",
    "                if ref_f!=ref_p:\n",
    "                    k = find_similar(ref_f, match)\n",
    "                    if k!=None:\n",
    "                        if ref_p not in match[k]:\n",
    "                            match[k].append(ref_p)\n",
    "                    else:\n",
    "                        match[ref_f] = [ref_p]\n",
    "    return match"
   ]
  },
  {
   "cell_type": "markdown",
   "metadata": {},
   "source": [
    "Test"
   ]
  },
  {
   "cell_type": "code",
   "execution_count": 561,
   "metadata": {
    "scrolled": true
   },
   "outputs": [
    {
     "name": "stdout",
     "output_type": "stream",
     "text": [
      "********************\n",
      "A. Mazzacane, Lo stato e il dominio nei giuristi veneti durante il «secolo della terraferma», in Storia della Cultura Veneta, III, 1, Vicenza 1980, pp. 639 s.\n",
      "----------\n",
      "0 G. Arnaldi - L. Capo, I cronisti di Venezia e della Marca Trevigiana, in  Storia della Cultura Veneta, II, Vicenza 1976, pp. 287 ss.\n",
      "1 Cozzi, Ambiente veneziano, ambiente veneto. Governanti e governati nel dominio di qua dal Mincio nei secoli XV-XVIII, in Storia della Cultura Veneta, IV, 2, Vicenza 1984, pp. 495 ss.\n",
      "********************\n",
      "V. F. Gaeta, L'idea di Venena, in Storia della Cultura Veneta, III, 3,Vicenza 1981, pp. 565 ss.\n",
      "----------\n",
      "0 G. Arnaldi - L. Capo, I cronisti di Venezia e della Marca Trevigiana, in  Storia della Cultura Veneta, II, Vicenza 1976, pp. 287 ss.\n",
      "1 Cozzi, Ambiente veneziano, ambiente veneto. Governanti e governati nel dominio di qua dal Mincio nei secoli XV-XVIII, in Storia della Cultura Veneta, IV, 2, Vicenza 1984, pp. 495 ss.\n",
      "********************\n",
      "F. Gilbert, Le idee politiche a Firenze al tempo di Savonarola e Soderini, in Id.,  Machiavelli e il suo tempo, Bologna 1977, pp. 102 ss.\n",
      "----------\n",
      "0  Gilbert, Le idee politiche cit., pp. 130 ss.\n",
      "1 F. Gilbert, Le idee politiche a Firenze al tempo di Savonarola e Soderini, in Id.,  Machiavelli e il suo tempo, Bologna 1977, pp. 102 ss.\n",
      "********************\n",
      "R. de Caresinis (Chronica, in Rerum Italicarum Scriptores [RIS], 2’\n",
      "ed., XII, 2, a cura di E. Pastorello, p. 58\n",
      "----------\n",
      "0 R. de Caresinis (Chronica, in Rerum Italicarum Scriptores [RIS], 2’ed., XII, 2, a cura di E. Pastorello, p. 58\n",
      "********************\n",
      "II significato economico della guerra e della protezione, in I mercanti di Venezia, Torino 1982, pp. 169-185\n",
      "----------\n",
      "0 I mercanti di Venezia, Torino 1982, pp. 169-185\n",
      "********************\n",
      "A. Tenenti, Il senso dello spazio e del tempo nel mondo veneziano dei secoli XV e XVI,\n",
      "in Credenze, ideologie, libertinismi tra medioevo ed età moderna, Bologna\n",
      "1978, passim.\n",
      "----------\n",
      "0 A. Tenenti,Il senso dello spazio e del tempo nel mondo veneziano dei secoli XV e XVI,in Id., Credenze, ideologie, libertinismi tra medioevo ed età moderna, Bologna 1978, passim.\n",
      "********************\n",
      " La dedizione di Brescia a Milano {1421) e a Venezia (1427): città suddite e distretto nello stato regionale, in Stato Società e Giustizia nella Repubblica veneta (sec. XV-XVIII), a cura di Gaetano Cozzi, II, Roma 1985, pp. 20-23\n",
      "----------\n",
      "0 La dedizione di Brescia a Milano {1421) e a Venezia (1427): città suddite e distretto nello stato regionale, in AA.W.,  Stato Società e Giustizia nella Repubblica veneta (sec. XV-XVIII), a cura di Gaetano Cozzi, II, Roma 1985, pp. 20-23\n",
      "1 V. Menniti Ippolito, La deditione cit., pp. 55 ss\n",
      "********************\n",
      "G. Arnaldi, Andrea Dandolo doge cronista, in AA.W., La storiografia veneziana fino al secolo XVI. Aspetti e problemi, Firenze 1970\n",
      "----------\n",
      "0 Arnaldi, Andrea Dandolo cít., pp. 149 s\n",
      "1 G. Arnaldi, Andrea Dandolo doge cronista, in AA.W., La storiografia veneziana fino al secolo XVI. Aspetti e problemi, Firenze 1970\n",
      "********************\n",
      "G. Arnaldi - L. Capo, I cronisti di Venezia e della Marca Trevigiana, in  Storia della Cultura Veneta, II, Vicenza 1976, pp. 287 ss.\n",
      "----------\n",
      "0 Cozzi, Ambiente veneziano, ambiente veneto. Governanti e governati nel dominio di qua dal Mincio nei secoli XV-XVIII, in Storia della Cultura Veneta, IV, 2, Vicenza 1984, pp. 495 ss.\n",
      "1 G. Arnaldi - L. Capo, I cronisti di Venezia e della Marca Trevigiana, in  Storia della Cultura Veneta, II, Vicenza 1976, pp. 287 ss.\n",
      "********************\n",
      "G. Chittolini, I capitoli di dedizione delle comunità lombarde a Francesco Sforza·, motivi di contrasto tra città e contado, in Felix olim Lombardia, Milano 1978, p. 674.\n",
      "----------\n",
      "0 G. Chittolini, I capitoli di dedizione delle comunità lombarde a Francesco Sforza·, motivi di contrasto tra città e contado, in AA.W., Felix olim Lombardia, Milano 1978, p. 674.\n",
      "1 Chittolini, I capitoli cit., pp. 676 s.\n",
      "2 Ibid., loe. cit.\n",
      "********************\n",
      "G.I. Luzzatto, «Peregrini» (Diritto romano), in  Novissimo Digesto Italiano, XII, Torino 1957, pp. 931 ss.\n",
      "----------\n",
      "0  G.I. Luzzatto, «Peregrini» (Diritto romano), in Novissimo Digesto Italiano, XII, Torino 1957, pp. 931 ss.\n",
      "********************\n",
      "A. Piganiol, Venire in fidem, in«Revue Internationale des Droits de l’Antiquité (1950), pp. 339 ss.\n",
      "----------\n",
      "0 V. A. Piganiol, Venire in fidem, in «Revue Internationale des Droits de l’Antiquité (1950), pp. 339 ss.\n",
      "********************\n",
      "V. Arangio Ruiz, Storia del diritto romano, Napoli 1940, p. 111.\n",
      "----------\n",
      "0 ibidem, p. 112\n",
      "1 V. Arangio Ruiz, Storia del diritto romano, Napoli 1940, p. 111.\n",
      "********************\n",
      "A. Guarino, Diritto privato romano, 6* ed., Napoli\n",
      "1981, p. 275. \n",
      "----------\n",
      "0 A. Guarino, Diritto privato romano, 6* ed., Napoli 1981, p. 275. \n",
      "1 Guarino,Diritto privato cit., p. 262 e n.\n",
      "********************\n",
      "Dictionnaire des antiquités grecques et romaines, a cura di C. Daremberg - E. Saglio -\n",
      "E. Pottier, X, 1, Parigi 1892, pp. 45 s\n",
      "----------\n",
      "0  Dediticii di G. Gayet e G. Humbert, nel  Dictionnaire des antiquités grecques et romaines, a cura di C. Daremberg - E. Saglio -E. Pottier, X, 1, Parigi 1892, pp. 45 s\n",
      "********************\n",
      "Thesaurus linguae latinae, V, 1, Leipzig 1975, coll. 264 s.\n",
      "----------\n",
      "0 Dediticius e Deditio,in Thesaurus linguae latinae, V, 1, Leipzig 1975, coll. 264 s.\n",
      "********************\n",
      "A. Menniti Ippolito, «Providebitur sicut melius videbitur». Milano e Venezia nel bresciano nel primo '400, in«Studi Veneziani», n.s., Vili (1984), pp. 43 s.\n",
      "----------\n",
      "0 Menniti Ippolito, «Providebitur cit., pp. 44 s.\n",
      "1 G. Cozzi, Domenico Morosini e il «De bene instituta\n",
      "re publica», in ««Studi Veneziani», XII (1970).\n",
      "2 Menniti Ippolito, «Providebitur cit., pp. 56 s.\n",
      "3 Menniti Ippolito,«Providebitur cit., pp. 40 ss.\n",
      "4 A. Menniti Ippolito, «Providebitur sicut melius videbitur». Milano e Venezia nel bresciano nel primo '400, in«Studi Veneziani», n.s., Vili (1984), pp. 43 s.\n",
      "********************\n",
      " J. Burckhardt (La civiltà del Rinascimento in Italia, Roma 1974, p. 30).\n",
      "----------\n",
      "0 Burckhardt, op. cit., p. 23.\n",
      "1 ibid. p. 31\n",
      "2  J. Burckhardt (La civiltà del Rinascimento in Italia, Roma 1974, p. 30).\n",
      "********************\n",
      "G.Cozzi, Ambiente veneziano, ambiente veneto. Governanti e governati nel dominio di qua dal Mincio nei secoli XV-XVIII, in Storia della Cultura Veneta, IV, 2, Vicenza 1984, pp. 495 ss.\n",
      "----------\n",
      "0 G. Arnaldi - L. Capo, I cronisti di Venezia e della Marca Trevigiana, in  Storia della Cultura Veneta, II, Vicenza 1976, pp. 287 ss.\n",
      "1 Cozzi, Ambiente veneziano, ambiente veneto. Governanti e governati nel dominio di qua dal Mincio nei secoli XV-XVIII, in Storia della Cultura Veneta, IV, 2, Vicenza 1984, pp. 495 ss.\n",
      "********************\n",
      "G. Cozzi, Domenico Morosini e il «De bene instituta\n",
      "re publica», in ««Studi Veneziani», XII (1970).\n",
      "----------\n",
      "0 A. Menniti Ippolito, «Providebitur sicut melius videbitur». Milano e Venezia nel bresciano nel primo '400, in«Studi Veneziani», n.s., Vili (1984), pp. 43 s.\n",
      "1 Menniti Ippolito, «Providebitur cit., pp. 44 s.\n",
      "2 Menniti Ippolito, «Providebitur cit., pp. 56 s.\n",
      "3 Menniti Ippolito,«Providebitur cit., pp. 40 ss.\n",
      "4 G. Cozzi, Domenico Morosini e il «De bene instituta\n",
      "re publica», in ««Studi Veneziani», XII (1970).\n",
      "********************\n",
      "I. Raulich, Per un error di cronisti (l’acquisto di Vicenza pei veneziani), in «Nuovo Archivio Veneto», t. V, pt. I (1893), pp. 393 s.\n",
      "----------\n",
      "0 Raulich, Per un error cit., pp. 390 s. \n",
      "1 Pasero, op. cit., pp. 16 s.\n",
      "2 I. Raulich, Per un error di cronisti (l’acquisto di Vicenza pei veneziani), in «Nuovo Archivio Veneto», t. V, pt. I (1893), pp. 393 s.\n",
      "********************\n",
      "I. Raulich, La caduta dei Carraresi signori di Padova, con documenti, Padova 1890\n",
      "----------\n",
      "0 Raulich, La caduta cit., p. 31 n.\n",
      "********************\n",
      "F. Ercole, Comuni e signori nel Veneto (Scaligeri Caminesi Carraresi), in Id., Dal comune al principato. Saggi sulla storia del diritto pubblico del rinascimento italiano, Firenze 1929, pp. 33 ss\n",
      "----------\n",
      "0 Ercole, op. cit., loc. cit.\n",
      "1 F. Ercole, Comuni e signori nel Veneto (Scaligeri Caminesi Carraresi), in Id., Dal comune al principato. Saggi sulla storia del diritto pubblico del rinascimento italiano, Firenze 1929, pp. 33 ss\n",
      "********************\n",
      "M. Sañudo,\n",
      "De origine, situ et magistratibus urbis Venetae, Milano 1980, a cura di A. Carac-\n",
      "ciolo Aricó\n",
      "----------\n",
      "0 M. Sañudo,De origine, situ et magistratibus urbis Venetae, Milano 1980, a cura di A. Caracciolo Aricó\n",
      "********************\n",
      "J.J. Norwich, Storia di Venezia. Dalle origini al\n",
      "1400, Milano 1981, ad esempio pp. 110 s.\n",
      "----------\n",
      "0  J.J. Norwich, Storia di Venezia. Dalle origini al 1400, Milano 1981, ad esempio pp. 110 s.\n",
      "********************\n",
      "G. Luzzatto, Il debito pubblico della Repubblica di\n",
      "Venezia dagli ultimi decenni del XII secolo alla fine del XV, Milano-Varese 1963,\n",
      "passim, \n",
      "----------\n",
      "0 G. Luzzatto, Il debito pubblico della Repubblica di Venezia dagli ultimi decenni del XII secolo alla fine del XV, Milano-Varese 1963\n",
      "********************\n",
      "F.C. Lane, Storia di Venezia, To-\n",
      "rino 1978, pp. 280 ss.\n",
      "----------\n",
      "0 F.C. Lane, Storia di Venezia, Torino 1978, pp. 280 ss\n",
      "********************\n",
      " II significato economico della guerra\n",
      "e della protezione, in Id., I mercanti di Venezia, Torino 1982, pp. 169-185\n",
      "----------\n",
      "0 I mercanti di Venezia, Torino 1982, pp. 169-185\n",
      "********************\n",
      "La dedizione di\n",
      "Brescia a Milano {1421) e a Venezia (1427): città suddite e distretto nello\n",
      "stato regionale, in AA.W., Stato Società e Giustizia nella Repubblica veneta\n",
      "(sec. XV-XVIII), a cura di Gaetano Cozzi, II, Roma 1985, pp. 20-23.\n",
      "----------\n",
      "0 La dedizione di Brescia a Milano {1421) e a Venezia (1427): città suddite e distretto nello stato regionale, in AA.W.,  Stato Società e Giustizia nella Repubblica veneta (sec. XV-XVIII), a cura di Gaetano Cozzi, II, Roma 1985, pp. 20-23\n",
      "1 V. Menniti Ippolito, La deditione cit., pp. 55 ss\n",
      "********************\n",
      "F. Gaeta, Storiografia,\n",
      "coscienza nazionale e politica culturale nella Venezia del rinascimento, in Sto-\n",
      "ria della Cultura Veneta, III, 1, cit., pp. 11-16.\n",
      "----------\n",
      "0 G. Arnaldi - L. Capo, I cronisti di Venezia e della Marca Trevigiana, in  Storia della Cultura Veneta, II, Vicenza 1976, pp. 287 ss.\n",
      "1 Cozzi, Ambiente veneziano, ambiente veneto. Governanti e governati nel dominio di qua dal Mincio nei secoli XV-XVIII, in Storia della Cultura Veneta, IV, 2, Vicenza 1984, pp. 495 ss.\n",
      "********************\n",
      "G. Chittolini, Governo ducale e poteri locali, in AA.W.,\n",
      "Gli Sforza a Milano e in Lombardia e i loro rapporti con gli stati italiani ed\n",
      "europei (1450-1530), Milano 1983, spec. p. 36.\n",
      "----------\n",
      "0 G. Chittolini, Governo ducale e poteri locali, in Gli Sforza a Milano e in Lombardia e i loro rapporti con gli stati italiani ed europei (1450-1530), Milano 1983, spec. p. 36.\n",
      "********************\n",
      "F. Chabod, Di alcuni studi recenti sull'età comunale e signorile nel-\n",
      "l’Italia settentrionale, in «Rivista Storica Italiana», I-II (1925), p. 42.\n",
      "----------\n",
      "0  F. Chabod, Di alcuni studi recenti sull'età comunale e signorile nel-\n",
      "l’Italia settentrionale, in ««Rivista Storica Italiana», I-II (1925), p. 42\n",
      "********************\n",
      "G. Chittolini, I capitoli di dedizione delle comunità lombarde a\n",
      "Francesco Sforza·, motivi di contrasto tra città e contado, in AA.W., Felix\n",
      "olim Lombardia, Milano 1978, p. 674.\n",
      "----------\n",
      "0 G. Chittolini, I capitoli di dedizione delle comunità lombarde a Francesco Sforza·, motivi di contrasto tra città e contado, in AA.W., Felix olim Lombardia, Milano 1978, p. 674.\n",
      "1 Chittolini, I capitoli cit., pp. 676 s.\n",
      "2 Ibid., loe. cit.\n",
      "********************\n",
      "P. Villari, Nicolò Machiavelli e i suoi tempi, I, 3* ed., Milano\n",
      "1912, p. 329.\n",
      "----------\n",
      "0  P. Villari, Nicolò Machiavelli e i suoi tempi, I, 3* ed., Milano 1912, p. 329.\n",
      "********************\n",
      "Dediticius e Deditio,\n",
      "in Thesaurus linguae latinae, V, 1, Leipzig 1975, coll. 264 s\n",
      "----------\n",
      "0 Dediticius e Deditio,in Thesaurus linguae latinae, V, 1, Leipzig 1975, coll. 264 s.\n",
      "********************\n",
      "V.\n",
      "Arangio Ruiz, Istituzioni di diritto romano, Napoli 1941, p. 51\n",
      "----------\n",
      "0 Arangio Ruiz, Istituzioni di diritto romano, Napoli 1941, p. 51\n",
      "********************\n",
      " A. Ventura, Scrittori politici e scritture di governo, in Storia della\n",
      "Cultura Veneta, III, 3, cit., p. 522.\n",
      "----------\n",
      "0 G. Arnaldi - L. Capo, I cronisti di Venezia e della Marca Trevigiana, in  Storia della Cultura Veneta, II, Vicenza 1976, pp. 287 ss.\n",
      "1 Cozzi, Ambiente veneziano, ambiente veneto. Governanti e governati nel dominio di qua dal Mincio nei secoli XV-XVIII, in Storia della Cultura Veneta, IV, 2, Vicenza 1984, pp. 495 ss.\n",
      "********************\n",
      "G. Cozzi, Repubblica di Venezia e stati italiani, politica\n",
      "e giustizia dal secolo XVI al secolo XVIII, Torino 1982, pp. 267 ss.\n",
      "----------\n",
      "0  G. Cozzi, Repubblica di Venezia e stati italiani, politica e giustizia dal secolo XVI al secolo XVIII, Torino 1982, pp. 267 ss\n",
      "********************\n",
      "G. Marzari, La Historia di Vicenza, Vicenza 1604 (rist. Bologna 1973), p. 63.\n",
      "----------\n",
      "0 G. Marzari, La Historia di Vicenza, Vicenza 1604 (rist. Bologna 1973), p. 63\n",
      "********************\n",
      "J. Guerin-Dalle Mese, Una cronaca vicentina del cinquecento, Vi-\n",
      "cenza 1983, p. 131.\n",
      "----------\n",
      "0 V. J. Guerin-Dalle Mese, Una cronaca vicentina del cinquecento, Vicenza 1983, p. 131\n",
      "********************\n",
      "L. Martines, Lawyers and Statecraft in Renaissance Florence, Prin-\n",
      "ceton 1968, pp. 457 ss. In particolare il cap. IX: Florence and Milan\n",
      "----------\n",
      "0 L. Martines, Lawyers and Statecraft in Renaissance Florence, Princeton 1968, pp. 457 ss.\n",
      "********************\n",
      "A. Anzilotti, Per la storia\n",
      "delle Signorie e del diritto pubblico italiano del rinascimento, in «Studi Storici»,\n",
      "XXII (1914), p. 101.\n",
      "----------\n",
      "0  A. Anzilotti, Per la storia delle Signorie e del diritto pubblico italiano del rinascimento, in ««Studi Storici»,XXII (1914), p. 101.\n",
      "********************\n",
      "la\n",
      "Frotola complida del mexe de avrile del MCCCCV in la fidelissima città de Vi-\n",
      "cenza per uno zìovene di quela, a gloria e honore de la illustrisima ducal signoria\n",
      "de Vinexa, contra la ingnorante cita de Verona, in C. Cipolla, F. Pellegrini,\n",
      "Poesie minori riguardanti gli Scaligeri, Roma 1902 («Bullettino dell’Istituto Sto-\n",
      "rico Italiano», n. 24), pp. 190-200\n",
      "----------\n",
      "0 Frotola complida del mexe de avrile del MCCCCV in la fidelissima città de Vi-\n",
      "cenza per uno zìovene di quela, a gloria e honore de la illustrisima ducal signoria\n",
      "de Vinexa, contra la ingnorante cita de Verona, in C. Cipolla, F. Pellegrini,\n",
      "Poesie minori riguardanti gli Scaligeri, Roma 1902 («Bullettino dell’Istituto Storico Italiano», n. 24), pp. 190-200.\n",
      "********************\n",
      " B. Belotti, Storia di Bergamo\n",
      "e dei bergamaschi, II, Bergamo 1959, p. 364.\n",
      "----------\n",
      "0 B. Belotti, Storia di Bergamo e dei bergamaschi, II, Bergamo 1959, p. 364.\n",
      "********************\n",
      "O. von Gierke, Giovanni Mthusius e lo sviluppo storico delle teorie\n",
      "politiche giusnaturdisticbe, Torino 1974, p. 81.\n",
      "----------\n",
      "0 O. von Gierke, Giovanni Althusius e lo sviluppo storico delle teorie\n",
      "politiche giusnaturdisticbe, Torino 1974, p. 81.\n",
      "********************\n",
      "C.G. Mor, Problemi organizzativi e politica veneziana\n",
      "nei riguardi dei nuovi acquisti di Terraferma, in AA.W., Umanesimo europeo e\n",
      "umanesimo veneziano, Firenze 1963, passim\n",
      "----------\n",
      "0 C.G. Mor, Problemi organizzativi e politica veneziana nei riguardi dei nuovi acquisti di Terraferma, in Umanesimo europeo e umanesimo veneziano, Firenze 1963, passim;\n"
     ]
    }
   ],
   "source": [
    "a = article[5]\n",
    "for k, v in find_match(a).items():\n",
    "    print('*'*20)\n",
    "    print(k)\n",
    "    print('-'*10)\n",
    "    for i, vv in enumerate(v):\n",
    "        print(i, vv)"
   ]
  },
  {
   "cell_type": "markdown",
   "metadata": {},
   "source": [
    "Match information summary"
   ]
  },
  {
   "cell_type": "code",
   "execution_count": 542,
   "metadata": {},
   "outputs": [],
   "source": [
    "full = []\n",
    "part = []\n",
    "for a in article:\n",
    "    d = find_match(a) \n",
    "    n_full = len(d.keys())\n",
    "    n_part = sum([len(v) for v in d.values()])\n",
    "    full.append(n_full)\n",
    "    part.append(n_part)"
   ]
  },
  {
   "cell_type": "code",
   "execution_count": 543,
   "metadata": {},
   "outputs": [
    {
     "data": {
      "text/plain": [
       "(53, 1806, 5249)"
      ]
     },
     "execution_count": 543,
     "metadata": {},
     "output_type": "execute_result"
    }
   ],
   "source": [
    "len(article), sum(full), sum(part)"
   ]
  },
  {
   "cell_type": "markdown",
   "metadata": {},
   "source": [
    "---"
   ]
  },
  {
   "cell_type": "markdown",
   "metadata": {},
   "source": [
    "## Get all of the refs of those article"
   ]
  },
  {
   "cell_type": "code",
   "execution_count": null,
   "metadata": {},
   "outputs": [],
   "source": [
    "article_ref = dict()\n",
    "for a_id in article:\n",
    "    a = Article.objects(internal_id=a_id).first()\n",
    "    article_ref[a_id] = {\n",
    "        \"title\": a.title,\n",
    "        \"start\": a.start_img_number,\n",
    "        \"end\": a.end_img_number,\n",
    "        \"doc_id\": a.document_id.id,\n",
    "    }"
   ]
  },
  {
   "cell_type": "code",
   "execution_count": 373,
   "metadata": {
    "scrolled": true
   },
   "outputs": [
    {
     "name": "stderr",
     "output_type": "stream",
     "text": [
      "/Users/suntao/anaconda3/envs/lb/lib/python3.6/site-packages/ipykernel/__main__.py:5: DeprecationWarning: generator 'QuerySet._iter_results' raised StopIteration\n"
     ]
    }
   ],
   "source": [
    "for a in article_ref:\n",
    "    doc_id = article_ref[a]['doc_id']\n",
    "    start = article_ref[a]['start']\n",
    "    end = article_ref[a]['end']\n",
    "    refs = [r.id for r in Reference.objects(document_id=doc_id, start_img_number__gte=start, end_img_number__lte=end)]\n",
    "    article_ref[a]['refs'] = read_refs_publication(refs)  "
   ]
  },
  {
   "cell_type": "code",
   "execution_count": 374,
   "metadata": {},
   "outputs": [],
   "source": [
    "pd.Series(article_ref).to_pickle('local_article_ref.pkl')"
   ]
  },
  {
   "cell_type": "code",
   "execution_count": 422,
   "metadata": {},
   "outputs": [],
   "source": [
    "article_ref = pd.read_pickle('local_article_ref.pkl')"
   ]
  },
  {
   "cell_type": "markdown",
   "metadata": {},
   "source": [
    "## Apply local clustering algorithm"
   ]
  },
  {
   "cell_type": "code",
   "execution_count": 264,
   "metadata": {},
   "outputs": [],
   "source": [
    "from nltk.tokenize import RegexpTokenizer\n",
    "from unidecode import unidecode\n",
    "\n",
    "def normalize(s_list):\n",
    "    tokenizer = RegexpTokenizer(r'\\w+')\n",
    "    return [unidecode(i.lower()) for s in s_list for i in tokenizer.tokenize(s)]"
   ]
  },
  {
   "cell_type": "code",
   "execution_count": 229,
   "metadata": {},
   "outputs": [],
   "source": [
    "def list_contains(abbre_parse, abbre):\n",
    "    for a in abbre:\n",
    "        if a in abbre_parse:\n",
    "            return True\n",
    "    return False"
   ]
  },
  {
   "cell_type": "code",
   "execution_count": 329,
   "metadata": {},
   "outputs": [],
   "source": [
    "import string\n",
    "table = str.maketrans({key: None for key in string.punctuation+'”“'})"
   ]
  },
  {
   "cell_type": "code",
   "execution_count": 553,
   "metadata": {},
   "outputs": [],
   "source": [
    "a = article[5]\n",
    "d = article_ref[a]['refs']"
   ]
  },
  {
   "cell_type": "code",
   "execution_count": 565,
   "metadata": {},
   "outputs": [
    {
     "name": "stdout",
     "output_type": "stream",
     "text": [
      "----------\n",
      "9004 has abbreviation\n",
      "----------\n",
      "Author&Title: 9004 to 6001, 0\n",
      "----------\n",
      "14007 has abbreviation\n",
      "----------\n",
      "Only Author: 14007 to 14001, 1\n",
      "----------\n",
      "15005 has abbreviation\n",
      "----------\n",
      "Nothing: 15005 to 15004\n",
      "----------\n",
      "16007 has abbreviation\n",
      "----------\n",
      "Nothing: 16007 to 16006\n",
      "----------\n",
      "17003 has abbreviation\n",
      "----------\n",
      "Nothing: 17003 to 17002\n",
      "----------\n",
      "20007 has abbreviation\n",
      "----------\n",
      "Author&Title: 20007 to 6001, 0\n",
      "----------\n",
      "24003 has abbreviation\n",
      "----------\n",
      "Only Author: 24003 to 6002, 1\n",
      "----------\n",
      "24007 has abbreviation\n",
      "----------\n",
      "Only Author: 24007 to 15003, 1\n",
      "----------\n",
      "25004 has abbreviation\n",
      "----------\n",
      "Only Author: 25004 to 24007, 1\n",
      "----------\n",
      "25005 has abbreviation\n",
      "----------\n",
      "Only Author: 25005 to 24003, 1\n",
      "----------\n",
      "27007 has abbreviation\n",
      "----------\n",
      "Only Author: 27007 to 22005, 1\n",
      "----------\n",
      "29004 has abbreviation\n",
      "----------\n",
      "Only Author: 29004 to 29002, 1\n",
      "----------\n",
      "29006 has abbreviation\n",
      "----------\n",
      "Only Author: 29006 to 25005, 1\n",
      "----------\n",
      "29007 has abbreviation\n",
      "----------\n",
      "Nothing: 29007 to 29006\n",
      "----------\n",
      "30007 has abbreviation\n",
      "----------\n",
      "Nothing: 30007 to 30006\n",
      "----------\n",
      "30008 has abbreviation\n",
      "----------\n",
      "Only Author: 30008 to 29006, 1\n"
     ]
    }
   ],
   "source": [
    "key = np.array(list(d.keys()))\n",
    "for i, (k, v) in enumerate(d.items()):\n",
    "    d[k]['match'] = k\n",
    "    if 'abbre' in v:\n",
    "        pos = v['abbre_pos'][0]\n",
    "        abbre = normalize(v['abbre'])\n",
    "        # Change author\n",
    "        # idem / id / eadem / ead\n",
    "        if list_contains(abbre, ['idem','id.','eadem', 'ead.']):\n",
    "            # Find the nearest one with author\n",
    "            for j in range(i-1,-1,-1):\n",
    "                previous_k = key[j]\n",
    "                previous_v = d[previous_k]\n",
    "                if 'author' in previous_v:\n",
    "                    d[k]['author'] = previous_v['author']\n",
    "                    break\n",
    "            print('-'*10)\n",
    "            print(f'Change author: {k}_{abbre} to {previous_k}_{previous_v[\"author\"]}')\n",
    "        # if abbre contains one of following\n",
    "        if list_contains(abbre, ['op','cit','ctt']):\n",
    "            print('-'*10)\n",
    "            print(f\"{k} has abbreviation\")\n",
    "            # if there is only author information in the partitial\n",
    "            if 'author' in v and 'title' not in v:\n",
    "                author = v['author']\n",
    "                for j in range(i-1, -1, -1):\n",
    "                    find = 0\n",
    "                    previous_k = key[j]\n",
    "                    previous_v = d[previous_k]\n",
    "                    previous_s = previous_v['surface']\n",
    "                    # remove punctations and extra spaces\n",
    "                    previous_s = previous_s.translate(table)\n",
    "                    previous_s = \" \".join(previous_s.split())\n",
    "                    for a in author:\n",
    "                        # remove punctations and extra spaces\n",
    "                        a = a.translate(table)\n",
    "                        a = \" \".join(a.split())\n",
    "                        if a in previous_s:\n",
    "                            find = 1\n",
    "                            d[k]['match'] = previous_v['match']\n",
    "                            break\n",
    "                    if find: break\n",
    "                print('-'*10)\n",
    "                print(f'Only Author: {k} to {previous_k}, {find}')\n",
    "                        \n",
    "            # if there is only title information in the partitial        \n",
    "            elif 'title' in v and 'author' not in v:\n",
    "                title = v['title']\n",
    "                for j in range(i-1, -1, -1):\n",
    "                    find = 0\n",
    "                    previous_k = key[j]\n",
    "                    previous_v = d[previous_k]\n",
    "                    previous_s = previous_v['surface']\n",
    "                    # remove punctations and extra spaces\n",
    "                    previous_s = previous_s.translate(table)\n",
    "                    previous_s = \" \".join(previous_s.split())\n",
    "                    for t in title:\n",
    "                        # remove punctations and extra spaces\n",
    "                        t = t.translate(table)\n",
    "                        t = \" \".join(t.split())\n",
    "                        # only check the first 10 characters\n",
    "                        if t[:10] in previous_s:\n",
    "                            find = 1\n",
    "                            d[k]['match'] = previous_v['match']\n",
    "                            break\n",
    "                    if find: break\n",
    "                print('-'*10)\n",
    "                print(f'Only Title: {k} to {previous_k}, {find}')\n",
    "                \n",
    "            # if there are both author and title information               \n",
    "            elif 'author' in v and 'title' in v:\n",
    "                author = v['author']\n",
    "                title = v['title']\n",
    "                for j in range(i-1, -1, -1):\n",
    "                    find = 0 \n",
    "                    previous_k = key[j]\n",
    "                    previous_v = d[previous_k]\n",
    "                    previous_s = previous_v['surface']\n",
    "                    # remove punctations and extra spaces\n",
    "                    previous_s = previous_s.translate(table)\n",
    "                    previous_s = \" \".join(previous_s.split())\n",
    "                    # first check if the author is in\n",
    "                    for a in author:\n",
    "                        a = a.translate(table)\n",
    "                        a = \" \".join(a.split())\n",
    "                        if a in previous_s:\n",
    "                            # second if the beginning part of the title is in\n",
    "                            for t in title:\n",
    "                                t = t.translate(table)\n",
    "                                t = \" \".join(t.split())\n",
    "                                if t[:10] in previous_s:\n",
    "                                    find = 1\n",
    "                                    d[k]['match'] = previous_v['match']\n",
    "                                    break\n",
    "                    if find: break  \n",
    "                print('-'*10)\n",
    "                print(f'Author&Title: {k} to {previous_k}, {find}')\n",
    "            \n",
    "            # with nothing\n",
    "            else:\n",
    "                # match it with the one right before\n",
    "                previous_k = key[i-1]\n",
    "                previous_v = d[previous_k]\n",
    "                d[k]['match'] = previous_v['match'] \n",
    "                print('-'*10)\n",
    "                print(f'Nothing: {k} to {previous_k}')\n",
    "   \n",
    "    elif 'title' in v:\n",
    "        title = v['title']\n",
    "        if '...' in title:\n",
    "            for j in range(i-1, -1, -1):\n",
    "                find = 0\n",
    "                previous_k = key[j]\n",
    "                previous_v = d[previous_k]\n",
    "                previous_s = previous_v['surface']\n",
    "                # remove punctations and extra spaces\n",
    "                previous_s = previous_s.translate(table)\n",
    "                previous_s = \" \".join(previous_s.split())\n",
    "                for t in title:\n",
    "                    # remove punctations and extra spaces\n",
    "                    t = t.translate(table)\n",
    "                    t = \" \".join(t.split())\n",
    "                    # only check the first 10 characters\n",
    "                    if t[:10] in previous_s:\n",
    "                        find = 1\n",
    "                        d[k]['match'] = previous_v['match']\n",
    "                        break\n",
    "                if find: break\n",
    "            print('-'*10)\n",
    "            print(f'...: {k} to {previous_k}, {find}')"
   ]
  },
  {
   "cell_type": "code",
   "execution_count": 569,
   "metadata": {},
   "outputs": [
    {
     "name": "stdout",
     "output_type": "stream",
     "text": [
      "----------\n",
      "['ibid'] 14003 to 14002\n",
      "----------\n",
      "['ibid', 'loe', 'cit'] 15005 to 15004\n",
      "----------\n",
      "['lbid', 'loe', 'cit'] 16007 to 15004\n",
      "----------\n",
      "['ibid', 'loe', 'cit'] 17003 to 17002\n",
      "----------\n",
      "['ibid'] 24004 to 24003\n",
      "----------\n",
      "['ibid'] 24005 to 24004\n",
      "----------\n",
      "['ibid'] 24006 to 24005\n",
      "----------\n",
      "['ibid', 'loc', 'cit'] 29007 to 29006\n",
      "----------\n",
      "['ibid'] 30002 to 30001\n",
      "----------\n",
      "['ibid'] 30003 to 30002\n",
      "----------\n",
      "['cit'] 30007 to 30002\n",
      "----------\n",
      "['ibid'] 30009 to 30008\n",
      "----------\n",
      "['ibid'] 30010 to 30009\n"
     ]
    }
   ],
   "source": [
    "for i, (k, v) in enumerate(d.items()):\n",
    "    if 'abbre' in v:\n",
    "        pos = v['abbre_pos']\n",
    "        abbre = normalize(v['abbre'])\n",
    "        if 1 in pos:\n",
    "            if list_contains(abbre, ['ibid', 'ibidem', 'ivi', 'supra']):\n",
    "                previous_k = key[i-1]\n",
    "                previous_v = d[previous_k]\n",
    "                d[k]['match'] = previous_v['match']   \n",
    "            print('-'*10)\n",
    "            print(f'{abbre} {k} to {previous_k}')"
   ]
  },
  {
   "cell_type": "code",
   "execution_count": 556,
   "metadata": {},
   "outputs": [],
   "source": [
    "# # compare everything with everything\n",
    "\n",
    "# df_d = pd.DataFrame(d).T\n",
    "# d_left = dict()\n",
    "# key_left = df_d.groupby('match').groups.keys()\n",
    "# for k in key_left:\n",
    "#     d_left[k] = d[k]\n",
    "# for k in key_left:\n",
    "    "
   ]
  },
  {
   "cell_type": "code",
   "execution_count": 557,
   "metadata": {
    "scrolled": false
   },
   "outputs": [],
   "source": [
    "df_d = pd.DataFrame(d).T\n",
    "groups = df_d.groupby('match').groups\n",
    "match_index = dict()\n",
    "for g in groups:\n",
    "    if len(groups[g]) > 1:\n",
    "        match_index[g] = [gg for gg in groups[g] if gg != g]\n",
    "match = dict()\n",
    "for g in match_index:\n",
    "    surf_g = df_d.loc[g].surface\n",
    "    match[surf_g] = [df_d.loc[gg].surface for gg in match_index[g]]"
   ]
  },
  {
   "cell_type": "code",
   "execution_count": 558,
   "metadata": {},
   "outputs": [
    {
     "data": {
      "text/plain": [
       "{6002: [24003, 24004, 24005, 24006, 25005, 29006, 29007, 30008, 30009, 30010],\n",
       " 14001: [14007],\n",
       " 14002: [14003],\n",
       " 15003: [24007, 25004],\n",
       " 15004: [15005],\n",
       " 17002: [17003],\n",
       " 22005: [27007],\n",
       " 29002: [29004],\n",
       " 30001: [30002, 30003]}"
      ]
     },
     "execution_count": 558,
     "metadata": {},
     "output_type": "execute_result"
    }
   ],
   "source": [
    "match_index "
   ]
  },
  {
   "cell_type": "code",
   "execution_count": 559,
   "metadata": {},
   "outputs": [
    {
     "data": {
      "text/plain": [
       "{'A. Mazzacane, Lo stato e il dominio nei giuristi veneti durante il «secolo della terraferma», in Storia della Cultura Veneta, III, 1, Vi- cenza 1980, pp. 639 s.),': ['Mazzacane, op. cit., p. 579.',\n",
       "  'Ibid., p. 582.',\n",
       "  'Ibid., p. 581.',\n",
       "  'Ibid., p. 583.',\n",
       "  'Mazzacane, op. cit., p. 583.',\n",
       "  'Mazzacane, op. cit., p. 592.',\n",
       "  'Ibid., loc. cit.',\n",
       "  'Mazzacane, op. cit., p. 590.',\n",
       "  'Ibid., p. 597.',\n",
       "  'Ibid., p. 644.'],\n",
       " 'B. Paradisi, Deditio, in AA.W., Studi in onore di Arrigo Solmi, I, Milano 1940, p, 288.': ['Paradisi, op. cit., pp. 676 ss.'],\n",
       " 'C. Pasero, Il dominio veneto fino all’incendio della Loggia (1426-1575), in Storia di Brescia, II, Brescia 1963,': ['Pasero, op. cit., pp. 16 s.'],\n",
       " 'Chittolini, I capitoli cit., pp. 676 s.': ['Ibid., loe. cit.'],\n",
       " 'Così V. Arangio Ruiz, Storia del diritto romano, Napoli 1940, p. 111.': ['Ibid., p. 112;'],\n",
       " 'F. Ercole, Comuni e signori nel Veneto (Scaligeri Caminesi Carraresi), in Id., Dal comune al principato. Saggi sulla storia del diritto pubblico del rinascimento italiano, Firenze 1929, pp. 33 ss.': ['Ercole, op. cit., loc. cit.'],\n",
       " 'I LE DEDIZIONI E LO STATO REGIONALE 29 naturale primaevum, seu legem': ['Ibid., p. 589.',\n",
       "  'Ibid., p. 590.'],\n",
       " 'J. Burckhardt (La civiltà del Rinascimento in Italia, Roma 1974, p. 30).': ['Burckhardt, op. cit., p. 23.',\n",
       "  'Burckhardt, op. cit., p. 23.'],\n",
       " 'laguna al tempo della fondazione della città recuperassero i territori della vecchia provincia veneta: il dominio «ad veteres dominos veluti quodam postliminio volens ac libens rediit» (35).': ['Ibid., loe. cit.']}"
      ]
     },
     "execution_count": 559,
     "metadata": {},
     "output_type": "execute_result"
    }
   ],
   "source": [
    "match"
   ]
  },
  {
   "cell_type": "markdown",
   "metadata": {},
   "source": [
    "## Evaluate"
   ]
  },
  {
   "cell_type": "code",
   "execution_count": 560,
   "metadata": {
    "scrolled": true
   },
   "outputs": [
    {
     "data": {
      "text/plain": [
       "{' A. Ventura, Scrittori politici e scritture di governo, in Storia della\\nCultura Veneta, III, 3, cit., p. 522.': ['G. Arnaldi - L. Capo, I cronisti di Venezia e della Marca Trevigiana, in  Storia della Cultura Veneta, II, Vicenza 1976, pp. 287 ss.',\n",
       "  'Cozzi, Ambiente veneziano, ambiente veneto. Governanti e governati nel dominio di qua dal Mincio nei secoli XV-XVIII, in Storia della Cultura Veneta, IV, 2, Vicenza 1984, pp. 495 ss.'],\n",
       " ' B. Belotti, Storia di Bergamo\\ne dei bergamaschi, II, Bergamo 1959, p. 364.': ['B. Belotti, Storia di Bergamo e dei bergamaschi, II, Bergamo 1959, p. 364.'],\n",
       " ' II significato economico della guerra\\ne della protezione, in Id., I mercanti di Venezia, Torino 1982, pp. 169-185': ['I mercanti di Venezia, Torino 1982, pp. 169-185'],\n",
       " ' J. Burckhardt (La civiltà del Rinascimento in Italia, Roma 1974, p. 30).': ['Burckhardt, op. cit., p. 23.',\n",
       "  'ibid. p. 31',\n",
       "  ' J. Burckhardt (La civiltà del Rinascimento in Italia, Roma 1974, p. 30).'],\n",
       " ' La dedizione di Brescia a Milano {1421) e a Venezia (1427): città suddite e distretto nello stato regionale, in Stato Società e Giustizia nella Repubblica veneta (sec. XV-XVIII), a cura di Gaetano Cozzi, II, Roma 1985, pp. 20-23': ['La dedizione di Brescia a Milano {1421) e a Venezia (1427): città suddite e distretto nello stato regionale, in AA.W.,  Stato Società e Giustizia nella Repubblica veneta (sec. XV-XVIII), a cura di Gaetano Cozzi, II, Roma 1985, pp. 20-23',\n",
       "  'V. Menniti Ippolito, La deditione cit., pp. 55 ss'],\n",
       " 'A. Anzilotti, Per la storia\\ndelle Signorie e del diritto pubblico italiano del rinascimento, in «Studi Storici»,\\nXXII (1914), p. 101.': [' A. Anzilotti, Per la storia delle Signorie e del diritto pubblico italiano del rinascimento, in ««Studi Storici»,XXII (1914), p. 101.'],\n",
       " 'A. Guarino, Diritto privato romano, 6* ed., Napoli\\n1981, p. 275. ': ['A. Guarino, Diritto privato romano, 6* ed., Napoli 1981, p. 275. ',\n",
       "  'Guarino,Diritto privato cit., p. 262 e n.'],\n",
       " 'A. Mazzacane, Lo stato e il dominio nei giuristi veneti durante il «secolo della terraferma», in Storia della Cultura Veneta, III, 1, Vicenza 1980, pp. 639 s.': ['G. Arnaldi - L. Capo, I cronisti di Venezia e della Marca Trevigiana, in  Storia della Cultura Veneta, II, Vicenza 1976, pp. 287 ss.',\n",
       "  'Cozzi, Ambiente veneziano, ambiente veneto. Governanti e governati nel dominio di qua dal Mincio nei secoli XV-XVIII, in Storia della Cultura Veneta, IV, 2, Vicenza 1984, pp. 495 ss.'],\n",
       " \"A. Menniti Ippolito, «Providebitur sicut melius videbitur». Milano e Venezia nel bresciano nel primo '400, in«Studi Veneziani», n.s., Vili (1984), pp. 43 s.\": ['Menniti Ippolito, «Providebitur cit., pp. 44 s.',\n",
       "  'G. Cozzi, Domenico Morosini e il «De bene instituta\\nre publica», in ««Studi Veneziani», XII (1970).',\n",
       "  'Menniti Ippolito, «Providebitur cit., pp. 56 s.',\n",
       "  'Menniti Ippolito,«Providebitur cit., pp. 40 ss.',\n",
       "  \"A. Menniti Ippolito, «Providebitur sicut melius videbitur». Milano e Venezia nel bresciano nel primo '400, in«Studi Veneziani», n.s., Vili (1984), pp. 43 s.\"],\n",
       " 'A. Piganiol, Venire in fidem, in«Revue Internationale des Droits de l’Antiquité (1950), pp. 339 ss.': ['V. A. Piganiol, Venire in fidem, in «Revue Internationale des Droits de l’Antiquité (1950), pp. 339 ss.'],\n",
       " 'A. Tenenti, Il senso dello spazio e del tempo nel mondo veneziano dei secoli XV e XVI,\\nin Credenze, ideologie, libertinismi tra medioevo ed età moderna, Bologna\\n1978, passim.': ['A. Tenenti,Il senso dello spazio e del tempo nel mondo veneziano dei secoli XV e XVI,in Id., Credenze, ideologie, libertinismi tra medioevo ed età moderna, Bologna 1978, passim.'],\n",
       " 'C.G. Mor, Problemi organizzativi e politica veneziana\\nnei riguardi dei nuovi acquisti di Terraferma, in AA.W., Umanesimo europeo e\\numanesimo veneziano, Firenze 1963, passim': ['C.G. Mor, Problemi organizzativi e politica veneziana nei riguardi dei nuovi acquisti di Terraferma, in Umanesimo europeo e umanesimo veneziano, Firenze 1963, passim;'],\n",
       " 'Dediticius e Deditio,\\nin Thesaurus linguae latinae, V, 1, Leipzig 1975, coll. 264 s': ['Dediticius e Deditio,in Thesaurus linguae latinae, V, 1, Leipzig 1975, coll. 264 s.'],\n",
       " 'Dictionnaire des antiquités grecques et romaines, a cura di C. Daremberg - E. Saglio -\\nE. Pottier, X, 1, Parigi 1892, pp. 45 s': [' Dediticii di G. Gayet e G. Humbert, nel  Dictionnaire des antiquités grecques et romaines, a cura di C. Daremberg - E. Saglio -E. Pottier, X, 1, Parigi 1892, pp. 45 s'],\n",
       " \"F. Chabod, Di alcuni studi recenti sull'età comunale e signorile nel-\\nl’Italia settentrionale, in «Rivista Storica Italiana», I-II (1925), p. 42.\": [\" F. Chabod, Di alcuni studi recenti sull'età comunale e signorile nel-\\nl’Italia settentrionale, in ««Rivista Storica Italiana», I-II (1925), p. 42\"],\n",
       " 'F. Ercole, Comuni e signori nel Veneto (Scaligeri Caminesi Carraresi), in Id., Dal comune al principato. Saggi sulla storia del diritto pubblico del rinascimento italiano, Firenze 1929, pp. 33 ss': ['Ercole, op. cit., loc. cit.',\n",
       "  'F. Ercole, Comuni e signori nel Veneto (Scaligeri Caminesi Carraresi), in Id., Dal comune al principato. Saggi sulla storia del diritto pubblico del rinascimento italiano, Firenze 1929, pp. 33 ss'],\n",
       " 'F. Gaeta, Storiografia,\\ncoscienza nazionale e politica culturale nella Venezia del rinascimento, in Sto-\\nria della Cultura Veneta, III, 1, cit., pp. 11-16.': ['G. Arnaldi - L. Capo, I cronisti di Venezia e della Marca Trevigiana, in  Storia della Cultura Veneta, II, Vicenza 1976, pp. 287 ss.',\n",
       "  'Cozzi, Ambiente veneziano, ambiente veneto. Governanti e governati nel dominio di qua dal Mincio nei secoli XV-XVIII, in Storia della Cultura Veneta, IV, 2, Vicenza 1984, pp. 495 ss.'],\n",
       " 'F. Gilbert, Le idee politiche a Firenze al tempo di Savonarola e Soderini, in Id.,  Machiavelli e il suo tempo, Bologna 1977, pp. 102 ss.': [' Gilbert, Le idee politiche cit., pp. 130 ss.',\n",
       "  'F. Gilbert, Le idee politiche a Firenze al tempo di Savonarola e Soderini, in Id.,  Machiavelli e il suo tempo, Bologna 1977, pp. 102 ss.'],\n",
       " 'F.C. Lane, Storia di Venezia, To-\\nrino 1978, pp. 280 ss.': ['F.C. Lane, Storia di Venezia, Torino 1978, pp. 280 ss'],\n",
       " 'G. Arnaldi - L. Capo, I cronisti di Venezia e della Marca Trevigiana, in  Storia della Cultura Veneta, II, Vicenza 1976, pp. 287 ss.': ['Cozzi, Ambiente veneziano, ambiente veneto. Governanti e governati nel dominio di qua dal Mincio nei secoli XV-XVIII, in Storia della Cultura Veneta, IV, 2, Vicenza 1984, pp. 495 ss.',\n",
       "  'G. Arnaldi - L. Capo, I cronisti di Venezia e della Marca Trevigiana, in  Storia della Cultura Veneta, II, Vicenza 1976, pp. 287 ss.'],\n",
       " 'G. Arnaldi, Andrea Dandolo doge cronista, in AA.W., La storiografia veneziana fino al secolo XVI. Aspetti e problemi, Firenze 1970': ['Arnaldi, Andrea Dandolo cít., pp. 149 s',\n",
       "  'G. Arnaldi, Andrea Dandolo doge cronista, in AA.W., La storiografia veneziana fino al secolo XVI. Aspetti e problemi, Firenze 1970'],\n",
       " 'G. Chittolini, Governo ducale e poteri locali, in AA.W.,\\nGli Sforza a Milano e in Lombardia e i loro rapporti con gli stati italiani ed\\neuropei (1450-1530), Milano 1983, spec. p. 36.': ['G. Chittolini, Governo ducale e poteri locali, in Gli Sforza a Milano e in Lombardia e i loro rapporti con gli stati italiani ed europei (1450-1530), Milano 1983, spec. p. 36.'],\n",
       " 'G. Chittolini, I capitoli di dedizione delle comunità lombarde a\\nFrancesco Sforza·, motivi di contrasto tra città e contado, in AA.W., Felix\\nolim Lombardia, Milano 1978, p. 674.': ['G. Chittolini, I capitoli di dedizione delle comunità lombarde a Francesco Sforza·, motivi di contrasto tra città e contado, in AA.W., Felix olim Lombardia, Milano 1978, p. 674.',\n",
       "  'Chittolini, I capitoli cit., pp. 676 s.',\n",
       "  'Ibid., loe. cit.'],\n",
       " 'G. Chittolini, I capitoli di dedizione delle comunità lombarde a Francesco Sforza·, motivi di contrasto tra città e contado, in Felix olim Lombardia, Milano 1978, p. 674.': ['G. Chittolini, I capitoli di dedizione delle comunità lombarde a Francesco Sforza·, motivi di contrasto tra città e contado, in AA.W., Felix olim Lombardia, Milano 1978, p. 674.',\n",
       "  'Chittolini, I capitoli cit., pp. 676 s.',\n",
       "  'Ibid., loe. cit.'],\n",
       " 'G. Cozzi, Domenico Morosini e il «De bene instituta\\nre publica», in ««Studi Veneziani», XII (1970).': [\"A. Menniti Ippolito, «Providebitur sicut melius videbitur». Milano e Venezia nel bresciano nel primo '400, in«Studi Veneziani», n.s., Vili (1984), pp. 43 s.\",\n",
       "  'Menniti Ippolito, «Providebitur cit., pp. 44 s.',\n",
       "  'Menniti Ippolito, «Providebitur cit., pp. 56 s.',\n",
       "  'Menniti Ippolito,«Providebitur cit., pp. 40 ss.',\n",
       "  'G. Cozzi, Domenico Morosini e il «De bene instituta\\nre publica», in ««Studi Veneziani», XII (1970).'],\n",
       " 'G. Cozzi, Repubblica di Venezia e stati italiani, politica\\ne giustizia dal secolo XVI al secolo XVIII, Torino 1982, pp. 267 ss.': [' G. Cozzi, Repubblica di Venezia e stati italiani, politica e giustizia dal secolo XVI al secolo XVIII, Torino 1982, pp. 267 ss'],\n",
       " 'G. Luzzatto, Il debito pubblico della Repubblica di\\nVenezia dagli ultimi decenni del XII secolo alla fine del XV, Milano-Varese 1963,\\npassim, ': ['G. Luzzatto, Il debito pubblico della Repubblica di Venezia dagli ultimi decenni del XII secolo alla fine del XV, Milano-Varese 1963'],\n",
       " 'G. Marzari, La Historia di Vicenza, Vicenza 1604 (rist. Bologna 1973), p. 63.': ['G. Marzari, La Historia di Vicenza, Vicenza 1604 (rist. Bologna 1973), p. 63'],\n",
       " 'G.Cozzi, Ambiente veneziano, ambiente veneto. Governanti e governati nel dominio di qua dal Mincio nei secoli XV-XVIII, in Storia della Cultura Veneta, IV, 2, Vicenza 1984, pp. 495 ss.': ['G. Arnaldi - L. Capo, I cronisti di Venezia e della Marca Trevigiana, in  Storia della Cultura Veneta, II, Vicenza 1976, pp. 287 ss.',\n",
       "  'Cozzi, Ambiente veneziano, ambiente veneto. Governanti e governati nel dominio di qua dal Mincio nei secoli XV-XVIII, in Storia della Cultura Veneta, IV, 2, Vicenza 1984, pp. 495 ss.'],\n",
       " 'G.I. Luzzatto, «Peregrini» (Diritto romano), in  Novissimo Digesto Italiano, XII, Torino 1957, pp. 931 ss.': [' G.I. Luzzatto, «Peregrini» (Diritto romano), in Novissimo Digesto Italiano, XII, Torino 1957, pp. 931 ss.'],\n",
       " 'I. Raulich, La caduta dei Carraresi signori di Padova, con documenti, Padova 1890': ['Raulich, La caduta cit., p. 31 n.'],\n",
       " 'I. Raulich, Per un error di cronisti (l’acquisto di Vicenza pei veneziani), in «Nuovo Archivio Veneto», t. V, pt. I (1893), pp. 393 s.': ['Raulich, Per un error cit., pp. 390 s. ',\n",
       "  'Pasero, op. cit., pp. 16 s.',\n",
       "  'I. Raulich, Per un error di cronisti (l’acquisto di Vicenza pei veneziani), in «Nuovo Archivio Veneto», t. V, pt. I (1893), pp. 393 s.'],\n",
       " 'II significato economico della guerra e della protezione, in I mercanti di Venezia, Torino 1982, pp. 169-185': ['I mercanti di Venezia, Torino 1982, pp. 169-185'],\n",
       " 'J. Guerin-Dalle Mese, Una cronaca vicentina del cinquecento, Vi-\\ncenza 1983, p. 131.': ['V. J. Guerin-Dalle Mese, Una cronaca vicentina del cinquecento, Vicenza 1983, p. 131'],\n",
       " 'J.J. Norwich, Storia di Venezia. Dalle origini al\\n1400, Milano 1981, ad esempio pp. 110 s.': [' J.J. Norwich, Storia di Venezia. Dalle origini al 1400, Milano 1981, ad esempio pp. 110 s.'],\n",
       " 'L. Martines, Lawyers and Statecraft in Renaissance Florence, Prin-\\nceton 1968, pp. 457 ss. In particolare il cap. IX: Florence and Milan': ['L. Martines, Lawyers and Statecraft in Renaissance Florence, Princeton 1968, pp. 457 ss.'],\n",
       " 'La dedizione di\\nBrescia a Milano {1421) e a Venezia (1427): città suddite e distretto nello\\nstato regionale, in AA.W., Stato Società e Giustizia nella Repubblica veneta\\n(sec. XV-XVIII), a cura di Gaetano Cozzi, II, Roma 1985, pp. 20-23.': ['La dedizione di Brescia a Milano {1421) e a Venezia (1427): città suddite e distretto nello stato regionale, in AA.W.,  Stato Società e Giustizia nella Repubblica veneta (sec. XV-XVIII), a cura di Gaetano Cozzi, II, Roma 1985, pp. 20-23',\n",
       "  'V. Menniti Ippolito, La deditione cit., pp. 55 ss'],\n",
       " 'M. Sañudo,\\nDe origine, situ et magistratibus urbis Venetae, Milano 1980, a cura di A. Carac-\\nciolo Aricó': ['M. Sañudo,De origine, situ et magistratibus urbis Venetae, Milano 1980, a cura di A. Caracciolo Aricó'],\n",
       " 'O. von Gierke, Giovanni Mthusius e lo sviluppo storico delle teorie\\npolitiche giusnaturdisticbe, Torino 1974, p. 81.': ['O. von Gierke, Giovanni Althusius e lo sviluppo storico delle teorie\\npolitiche giusnaturdisticbe, Torino 1974, p. 81.'],\n",
       " 'P. Villari, Nicolò Machiavelli e i suoi tempi, I, 3* ed., Milano\\n1912, p. 329.': [' P. Villari, Nicolò Machiavelli e i suoi tempi, I, 3* ed., Milano 1912, p. 329.'],\n",
       " 'R. de Caresinis (Chronica, in Rerum Italicarum Scriptores [RIS], 2’\\ned., XII, 2, a cura di E. Pastorello, p. 58': ['R. de Caresinis (Chronica, in Rerum Italicarum Scriptores [RIS], 2’ed., XII, 2, a cura di E. Pastorello, p. 58'],\n",
       " 'Thesaurus linguae latinae, V, 1, Leipzig 1975, coll. 264 s.': ['Dediticius e Deditio,in Thesaurus linguae latinae, V, 1, Leipzig 1975, coll. 264 s.'],\n",
       " 'V.\\nArangio Ruiz, Istituzioni di diritto romano, Napoli 1941, p. 51': ['Arangio Ruiz, Istituzioni di diritto romano, Napoli 1941, p. 51'],\n",
       " 'V. Arangio Ruiz, Storia del diritto romano, Napoli 1940, p. 111.': ['ibidem, p. 112',\n",
       "  'V. Arangio Ruiz, Storia del diritto romano, Napoli 1940, p. 111.'],\n",
       " \"V. F. Gaeta, L'idea di Venena, in Storia della Cultura Veneta, III, 3,Vicenza 1981, pp. 565 ss.\": ['G. Arnaldi - L. Capo, I cronisti di Venezia e della Marca Trevigiana, in  Storia della Cultura Veneta, II, Vicenza 1976, pp. 287 ss.',\n",
       "  'Cozzi, Ambiente veneziano, ambiente veneto. Governanti e governati nel dominio di qua dal Mincio nei secoli XV-XVIII, in Storia della Cultura Veneta, IV, 2, Vicenza 1984, pp. 495 ss.'],\n",
       " 'la\\nFrotola complida del mexe de avrile del MCCCCV in la fidelissima città de Vi-\\ncenza per uno zìovene di quela, a gloria e honore de la illustrisima ducal signoria\\nde Vinexa, contra la ingnorante cita de Verona, in C. Cipolla, F. Pellegrini,\\nPoesie minori riguardanti gli Scaligeri, Roma 1902 («Bullettino dell’Istituto Sto-\\nrico Italiano», n. 24), pp. 190-200': ['Frotola complida del mexe de avrile del MCCCCV in la fidelissima città de Vi-\\ncenza per uno zìovene di quela, a gloria e honore de la illustrisima ducal signoria\\nde Vinexa, contra la ingnorante cita de Verona, in C. Cipolla, F. Pellegrini,\\nPoesie minori riguardanti gli Scaligeri, Roma 1902 («Bullettino dell’Istituto Storico Italiano», n. 24), pp. 190-200.']}"
      ]
     },
     "execution_count": 560,
     "metadata": {},
     "output_type": "execute_result"
    }
   ],
   "source": [
    "a = article[5]\n",
    "find_match(a)"
   ]
  },
  {
   "cell_type": "code",
   "execution_count": null,
   "metadata": {},
   "outputs": [],
   "source": []
  }
 ],
 "metadata": {
  "kernelspec": {
   "display_name": "Python 3",
   "language": "python",
   "name": "python3"
  },
  "language_info": {
   "codemirror_mode": {
    "name": "ipython",
    "version": 3
   },
   "file_extension": ".py",
   "mimetype": "text/x-python",
   "name": "python",
   "nbconvert_exporter": "python",
   "pygments_lexer": "ipython3",
   "version": "3.6.4"
  }
 },
 "nbformat": 4,
 "nbformat_minor": 2
}
