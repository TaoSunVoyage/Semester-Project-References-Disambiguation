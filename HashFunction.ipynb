{
 "cells": [
  {
   "cell_type": "code",
   "execution_count": 1,
   "metadata": {},
   "outputs": [],
   "source": [
    "from nltk.tokenize import RegexpTokenizer\n",
    "from nltk.corpus import stopwords\n",
    "from unidecode import unidecode\n",
    "\n",
    "def splitName(s):\n",
    "    '''\n",
    "    Split author's name into a list. \n",
    "    Remove punctuations, stopwords.\n",
    "    Remove accents.\n",
    "    Remove single letter, e.g. J. Smith -> Smith.\n",
    "    Use all letters in lower case.\n",
    "    '''\n",
    "    tokenizer = RegexpTokenizer(r'\\w+')\n",
    "    intermediate = tokenizer.tokenize(s)\n",
    "    stop = stopwords.words('italian')\n",
    "    return [unidecode(i.lower()) for i in intermediate if i not in stop and len(i) > 1]"
   ]
  },
  {
   "cell_type": "code",
   "execution_count": 2,
   "metadata": {},
   "outputs": [],
   "source": [
    "def getYear(yearStr):\n",
    "    '''\n",
    "    Return a list of year.\n",
    "    '''\n",
    "    tokenizer = RegexpTokenizer(r'[0-9]+')\n",
    "    year = tokenizer.tokenize(yearStr)\n",
    "    return [int(y) for y in year if len(y)==4 and int(y)<2000 and int(y)>1000]  # whether it's a 'year'"
   ]
  },
  {
   "cell_type": "code",
   "execution_count": 3,
   "metadata": {},
   "outputs": [],
   "source": [
    "def blurYear(yearStr):\n",
    "    '''\n",
    "    Return a list of blurred year: [Year-1, Year, Year+1]\n",
    "    '''\n",
    "    year = getYear(yearStr)\n",
    "    blurList = []\n",
    "    for y in year:\n",
    "        blurList.append(y)\n",
    "        blurList.append(y - 1)\n",
    "        blurList.append(y + 1)\n",
    "    return blurList"
   ]
  },
  {
   "cell_type": "code",
   "execution_count": 4,
   "metadata": {},
   "outputs": [],
   "source": [
    "class HashGenerator():\n",
    "    '''\n",
    "    '''\n",
    "    def generate(citation):\n",
    "        raise NotImplementedError "
   ]
  },
  {
   "cell_type": "code",
   "execution_count": 5,
   "metadata": {},
   "outputs": [],
   "source": [
    "class CitationAuthorHashGenerator(HashGenerator):\n",
    "    '''\n",
    "    Hash Generator with Author only\n",
    "    '''\n",
    "    def generate(self, citation):\n",
    "        author = splitName(citation['author'])\n",
    "        \n",
    "        for a in author[:4]:  # Take only the first four in author as hash\n",
    "            yield a"
   ]
  },
  {
   "cell_type": "code",
   "execution_count": 6,
   "metadata": {},
   "outputs": [],
   "source": [
    "class CitationAuthorYearHashGenerator(HashGenerator):\n",
    "    '''\n",
    "    Hash Generator with Author and Year\n",
    "    '''\n",
    "    def generate(self, citation):\n",
    "        author = splitName(citation['author']) \n",
    "        year = getYear(citation['year'])\n",
    "        \n",
    "        for a in author[:4]:  # Take only the first four in author as hash\n",
    "            for y in year: \n",
    "                yield a+\"#\"+str(y)"
   ]
  },
  {
   "cell_type": "code",
   "execution_count": 7,
   "metadata": {},
   "outputs": [],
   "source": [
    "class CitationAuthorBlurYearHashGenerator(HashGenerator):\n",
    "    '''\n",
    "    Hash Generator with Author and Blurred Year\n",
    "    '''\n",
    "    def generate(self, citation):\n",
    "        author = splitName(citation['author']) \n",
    "        year = blurYear(citation['year'])\n",
    "        \n",
    "        for a in author[:4]:  # Take only the first four in author as hash\n",
    "            for y in year: \n",
    "                yield a+\"#\"+str(y)"
   ]
  },
  {
   "cell_type": "code",
   "execution_count": null,
   "metadata": {},
   "outputs": [],
   "source": [
    "class CitationAuthorYearNumHashGenerator(HashGenerator):\n",
    "    '''\n",
    "    TODO: Hash Generator with Author and Year and all other Numbers\n",
    "    '''\n",
    "    def generate(self, citation):\n",
    "        author = splitName(citation['author']) \n",
    "        year = yearBlur(citation['year'])\n",
    "        # TODO\n",
    "        num = citation['number']  \n",
    "        # Which numbers to use?\n",
    "        \n",
    "        for a in author[:4]:  # Take only the first four in author as hash\n",
    "            for y in year: \n",
    "                s = a+\"#\"+str(y)\n",
    "                for n in num:\n",
    "                    s = s+\"#\"+str(n)\n",
    "                yield s"
   ]
  },
  {
   "cell_type": "markdown",
   "metadata": {},
   "source": [
    "Test"
   ]
  },
  {
   "cell_type": "code",
   "execution_count": 8,
   "metadata": {},
   "outputs": [],
   "source": [
    "# How to define a full citation?\n",
    "# What if in some articles there is no such full citation?\n",
    "citation = {\n",
    "    \"author\" :  \"M. Sañudo\",\n",
    "    \"title\"  :  \"Itinerario per la terra di Venezia nel 1483,\",\n",
    "    \"place\"  :  \"Padova,\",\n",
    "    \"year\"   :  \"1847.\"\n",
    "}"
   ]
  },
  {
   "cell_type": "code",
   "execution_count": 9,
   "metadata": {},
   "outputs": [],
   "source": [
    "g1 = CitationAuthorHashGenerator()\n",
    "g2 = CitationAuthorYearHashGenerator()\n",
    "g3 = CitationAuthorBlurYearHashGenerator()"
   ]
  },
  {
   "cell_type": "code",
   "execution_count": 10,
   "metadata": {},
   "outputs": [
    {
     "name": "stdout",
     "output_type": "stream",
     "text": [
      "['sanudo']\n",
      "['sanudo#1847']\n",
      "['sanudo#1847', 'sanudo#1846', 'sanudo#1848']\n"
     ]
    }
   ],
   "source": [
    "for g in [g1, g2, g3]:\n",
    "    print(list(g.generate(citation)))"
   ]
  },
  {
   "cell_type": "code",
   "execution_count": null,
   "metadata": {},
   "outputs": [],
   "source": []
  }
 ],
 "metadata": {
  "kernelspec": {
   "display_name": "Python 3",
   "language": "python",
   "name": "python3"
  },
  "language_info": {
   "codemirror_mode": {
    "name": "ipython",
    "version": 3
   },
   "file_extension": ".py",
   "mimetype": "text/x-python",
   "name": "python",
   "nbconvert_exporter": "python",
   "pygments_lexer": "ipython3",
   "version": "3.6.4"
  }
 },
 "nbformat": 4,
 "nbformat_minor": 2
}
